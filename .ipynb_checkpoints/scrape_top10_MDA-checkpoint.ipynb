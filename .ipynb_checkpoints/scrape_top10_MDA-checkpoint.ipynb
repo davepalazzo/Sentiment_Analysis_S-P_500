{
 "cells": [
  {
   "cell_type": "code",
   "execution_count": 24,
   "metadata": {},
   "outputs": [],
   "source": [
    "import edgar\n",
    "import pandas as pd\n",
    "import requests\n",
    "import re\n",
    "from bs4 import BeautifulSoup as bsoup\n",
    "import numpy as np\n",
    "import string\n",
    "from cleanMDA import extractTable, getComp, divide_chunks, annual_filings, MDA, pullMDA\n",
    "from collections import defaultdict"
   ]
  },
  {
   "cell_type": "markdown",
   "metadata": {},
   "source": [
    "The following code gathers the data needed for our analysis. We first finds the top 10 companies in the S&P 500 for each year of analysis, 2007 - 2017. This data is web scrapped from two data sources, ETF database and Siblis Research. Next, we match the top ten companies to their respective CIK number, which is used to lookup companies on the SEC website (Refer to the dataframe dfTop10). \n",
    "\n",
    "Given this data, we web scrapped the SEC edgar website (https://www.sec.gov/) for each companies MD&A section of the 10-K annual report. Refer to functions MDA, annual_fillings and pullMDA in the CleanMDA.py file. "
   ]
  },
  {
   "cell_type": "markdown",
   "metadata": {},
   "source": [
    "**Get 2007-2012 Companies**"
   ]
  },
  {
   "cell_type": "code",
   "execution_count": 25,
   "metadata": {},
   "outputs": [],
   "source": [
    "res = requests.get('https://etfdb.com/history-of-the-s-and-p-500/#2009')\n",
    "soup = bsoup(res.content,'html.parser')\n",
    "tbl = extractTable(soup)"
   ]
  },
  {
   "cell_type": "code",
   "execution_count": 26,
   "metadata": {},
   "outputs": [],
   "source": [
    "# Remove companies 1980-1999\n",
    "Lst = tbl[200:]\n",
    "# Split into chunks of 10 CO per year \n",
    "tbl = list(divide_chunks(Lst, 10))\n",
    "colNames=[i for i in range(2000,2014)]\n",
    "# Make df\n",
    "dfTop10 = pd.DataFrame(tbl).transpose()\n",
    "dfTop10.columns = colNames"
   ]
  },
  {
   "cell_type": "code",
   "execution_count": 27,
   "metadata": {},
   "outputs": [],
   "source": [
    "# Remove punctuation and uppercase \n",
    "for i in colNames:\n",
    "    dfTop10[i] = dfTop10[i].str.upper().str.strip(string.punctuation).str.strip('\\n').str.strip()\n"
   ]
  },
  {
   "cell_type": "code",
   "execution_count": 28,
   "metadata": {},
   "outputs": [],
   "source": [
    "dfTop10.replace({'CHEVRON CORP': 'CHEVRON', 'CHEVRON': 'CHEVRON CORP','MICROSOFT': 'MICROSOFT CORP','GENERAL ELECTRIC': 'GENERAL ELECTRIC CO', 'EXXON MOBIL':'EXXON MOBIL CORP', 'PFIZER':'PFIZER INC', 'CITIGROUP':'CITIGROUP INC', 'CISCO SYSTEMS':'CISCO SYSTEMS INC', 'WAL-MART STORES' :'WALMART INC','AIG':'AMERICAN INTERNATIONAL GROUP','MERCK':'MERCK & CO','INTEL':'INTEL CORP','PROCTER & GAMBLE':'PROCTER & GAMBLE CO','AT&T':'AT&T CORP','JPMORGAN CHASE':'JPMORGAN CHASE & CO','GOOGLE':'ALPHABET INC','APPLE':'APPLE INC','BANK OF AMERICA':'BANK OF AMERICA CORP','IBM':'INTL BUSINESS MACHINES CORP','CHEVRON':'CHEVRON CORP','WELLS FARGO':'WELLS FARGO & CO'}, regex=True, inplace=True)"
   ]
  },
  {
   "cell_type": "code",
   "execution_count": 29,
   "metadata": {},
   "outputs": [],
   "source": [
    "dfCik = pd.read_csv('2000_2013_s&p.csv')\n",
    "dfCik.drop(['gvkey','gvkeyx','from','thru','tic'], axis=1, inplace=True)\n",
    "dfCik['co_cik'] = dfCik['co_cik'].fillna(0).astype(int).apply(lambda x: '{0:0>10}'.format(x))\n",
    "cikDic = pd.Series(dfCik.co_conm.values,index=dfCik.co_cik).to_dict()\n",
    "cikDic = dict((v,k) for k,v in cikDic.items())"
   ]
  },
  {
   "cell_type": "code",
   "execution_count": 30,
   "metadata": {},
   "outputs": [],
   "source": [
    "from collections import defaultdict\n",
    "dic = defaultdict(None)\n",
    "# Create a dictionary of Company Name and CIK #\n",
    "for yr in colNames:  \n",
    "    for comp in dfTop10[yr]:\n",
    "        if comp in cikDic:\n",
    "            dic[comp] = cikDic[comp]\n",
    "        else:\n",
    "            dic[comp] = None\n",
    "        "
   ]
  },
  {
   "cell_type": "code",
   "execution_count": 31,
   "metadata": {},
   "outputs": [],
   "source": [
    "# Create Company Name, CIK number tuple pairs \n",
    "for yr in colNames:  \n",
    "    \n",
    "    for i in range(len(dfTop10[yr])):\n",
    "        if type(dfTop10[yr][i])==tuple:\n",
    "            pass\n",
    "        else:\n",
    "            name = dfTop10[yr][i]\n",
    "            dfTop10[yr][i] =  (name,dic[name])"
   ]
  },
  {
   "cell_type": "code",
   "execution_count": 32,
   "metadata": {},
   "outputs": [],
   "source": [
    "dfTop10 = dfTop10.drop(columns=[2000,2001,2002,2003,2004,2005,2006,2013])"
   ]
  },
  {
   "cell_type": "code",
   "execution_count": 33,
   "metadata": {},
   "outputs": [],
   "source": [
    "# Clean wrong CIK numbers \n",
    "for year in dfTop10.columns:\n",
    "    for cmp in range(10):\n",
    "        if dfTop10[year][cmp] == ('ALPHABET INC', '0001652044'):\n",
    "            dfTop10[year].loc[cmp] = ('ALPHABET INC', '0001288776')\n",
    "        elif dfTop10[year][cmp] == ('AT&T CORP', '0000005907'):\n",
    "            dfTop10[year].loc[cmp] = ('AT&T CORP', '0000732717')"
   ]
  },
  {
   "cell_type": "code",
   "execution_count": 34,
   "metadata": {},
   "outputs": [],
   "source": [
    "# reorder the yeara\n",
    "dfTop10 = dfTop10[dfTop10.columns[::-1]]"
   ]
  },
  {
   "cell_type": "markdown",
   "metadata": {},
   "source": [
    "**Get 2013-2017 Companies**"
   ]
  },
  {
   "cell_type": "code",
   "execution_count": 35,
   "metadata": {},
   "outputs": [],
   "source": [
    "# read in top 100 2013-2017 companies\n",
    "df = pd.read_html('http://siblisresearch.com/data/market-caps-sp-100-us/')[0]"
   ]
  },
  {
   "cell_type": "code",
   "execution_count": 36,
   "metadata": {},
   "outputs": [],
   "source": [
    "# get top 10 companies from each year\n",
    "df_2017 = pd.DataFrame(df['Company Name'])\n",
    "df_2017['12/31/2017'] = df['12/31/2017']\n",
    "df_2017 = df_2017.sort_values(by=['12/31/2017'], ascending=False)\n",
    "top_2017 = pd.DataFrame(np.array(df_2017.head(10)['Company Name']), columns=['2017'])\n",
    "\n",
    "df_2016 = pd.DataFrame(df['Company Name'])\n",
    "df_2016['12/31/2016'] = df['12/31/2016']\n",
    "df_2016 = df_2016.sort_values(by=['12/31/2016'], ascending=False)\n",
    "top_2016 = pd.DataFrame(np.array(df_2016.head(10)['Company Name']), columns=['2016'])\n",
    "\n",
    "df_2015 = pd.DataFrame(df['Company Name'])\n",
    "df_2015['12/31/2015'] = df['12/31/2015']\n",
    "df_2015 = df_2015.sort_values(by=['12/31/2015'], ascending=False)\n",
    "top_2015 = pd.DataFrame(np.array(df_2015.head(10)['Company Name']), columns=['2015'])\n",
    "\n",
    "df_2014 = pd.DataFrame(df['Company Name'])\n",
    "df_2014['12/31/2014'] = df['12/31/2014']\n",
    "df_2014 = df_2014.sort_values(by=['12/31/2014'], ascending=False)\n",
    "top_2014 = pd.DataFrame(np.array(df_2014.head(10)['Company Name']), columns=['2014'])\n",
    "\n",
    "df_2013 = pd.DataFrame(df['Company Name'])\n",
    "df_2013['12/31/2013'] = df['12/31/2013']\n",
    "df_2013 = df_2013.sort_values(by=['12/31/2013'], ascending=False)\n",
    "top_2013 = pd.DataFrame(np.array(df_2013.head(10)['Company Name']), columns=['2013'])"
   ]
  },
  {
   "cell_type": "code",
   "execution_count": 37,
   "metadata": {},
   "outputs": [],
   "source": [
    "top10_2017 = pd.concat([top_2017,top_2016,top_2015,top_2014,top_2013],axis=1)"
   ]
  },
  {
   "cell_type": "code",
   "execution_count": 38,
   "metadata": {},
   "outputs": [
    {
     "name": "stderr",
     "output_type": "stream",
     "text": [
      "/anaconda3/lib/python3.7/site-packages/ipykernel_launcher.py:2: FutureWarning: from_csv is deprecated. Please use read_csv(...) instead. Note that some of the default arguments are different, so please refer to the documentation for from_csv when changing your function calls\n",
      "  \n"
     ]
    }
   ],
   "source": [
    "# get an array of the Company names and CIK numbers\n",
    "companies = pd.DataFrame.from_csv('companies_2017.csv',encoding='latin-1')\n",
    "companies = companies[:505]\n",
    "companies.CIK = companies['CIK'].astype(int).apply(lambda x: str(x).zfill(10))\n",
    "\n",
    "name = [i.strip(string.punctuation) for i in np.array(companies['Security'])]\n",
    "num = np.array(companies['CIK'])\n",
    "\n",
    "# get companies CIK numbers\n",
    "CIK_num = dict()\n",
    "for i in range(len(name)):\n",
    "    CIK_num[name[i]] = num[i]\n",
    "\n",
    "# manually add in ID for Company Name's missed\n",
    "CIK_man = {'Alphabet Inc. Class A':'0001652044','Berkshire Hathaway Inc':'0001067983', 'Wal-Mart Stores Inc':'0000104169', \n",
    "           'IBM Corp.':'0000051143', 'The Coca Cola Co.':'0000021344', \"Philip Morris Int'l\":'0001413329', \n",
    "           'Facebook Inc.':'0001326801', 'The Walt Disney Co.':'0001001039', 'Comcast Class A Comm.':'0001166691'}"
   ]
  },
  {
   "cell_type": "code",
   "execution_count": 39,
   "metadata": {},
   "outputs": [
    {
     "data": {
      "text/html": [
       "<div>\n",
       "<style scoped>\n",
       "    .dataframe tbody tr th:only-of-type {\n",
       "        vertical-align: middle;\n",
       "    }\n",
       "\n",
       "    .dataframe tbody tr th {\n",
       "        vertical-align: top;\n",
       "    }\n",
       "\n",
       "    .dataframe thead th {\n",
       "        text-align: right;\n",
       "    }\n",
       "</style>\n",
       "<table border=\"1\" class=\"dataframe\">\n",
       "  <thead>\n",
       "    <tr style=\"text-align: right;\">\n",
       "      <th></th>\n",
       "      <th>2017</th>\n",
       "      <th>2016</th>\n",
       "      <th>2015</th>\n",
       "      <th>2014</th>\n",
       "      <th>2013</th>\n",
       "    </tr>\n",
       "  </thead>\n",
       "  <tbody>\n",
       "    <tr>\n",
       "      <th>0</th>\n",
       "      <td>(Apple Inc., 0000320193)</td>\n",
       "      <td>(Apple Inc., 0000320193)</td>\n",
       "      <td>(Apple Inc., 0000320193)</td>\n",
       "      <td>(Apple Inc., 0000320193)</td>\n",
       "      <td>(Apple Inc., 0000320193)</td>\n",
       "    </tr>\n",
       "    <tr>\n",
       "      <th>1</th>\n",
       "      <td>(Alphabet Inc. Class A, 0001652044)</td>\n",
       "      <td>(Alphabet Inc. Class A, 0001652044)</td>\n",
       "      <td>(Alphabet Inc. Class A, 0001288776)</td>\n",
       "      <td>(Exxon Mobil Corp., 0000034088)</td>\n",
       "      <td>(Exxon Mobil Corp., 0000034088)</td>\n",
       "    </tr>\n",
       "    <tr>\n",
       "      <th>2</th>\n",
       "      <td>(Microsoft Corp., 0000789019)</td>\n",
       "      <td>(Microsoft Corp., 0000789019)</td>\n",
       "      <td>(Microsoft Corp., 0000789019)</td>\n",
       "      <td>(Microsoft Corp., 0000789019)</td>\n",
       "      <td>(Alphabet Inc. Class A, 0001288776)</td>\n",
       "    </tr>\n",
       "    <tr>\n",
       "      <th>3</th>\n",
       "      <td>(Amazon.com Inc., 0001018724)</td>\n",
       "      <td>(Berkshire Hathaway Inc, 0001067983)</td>\n",
       "      <td>(Berkshire Hathaway Inc, 0001067983)</td>\n",
       "      <td>(Berkshire Hathaway Inc, 0001067983)</td>\n",
       "      <td>(Microsoft Corp., 0000789019)</td>\n",
       "    </tr>\n",
       "    <tr>\n",
       "      <th>4</th>\n",
       "      <td>(Facebook Inc., 0001326801)</td>\n",
       "      <td>(Exxon Mobil Corp., 0000034088)</td>\n",
       "      <td>(Exxon Mobil Corp., 0000034088)</td>\n",
       "      <td>(Alphabet Inc. Class A, 0001288776)</td>\n",
       "      <td>(Berkshire Hathaway Inc, 0001067983)</td>\n",
       "    </tr>\n",
       "  </tbody>\n",
       "</table>\n",
       "</div>"
      ],
      "text/plain": [
       "                                  2017                                  2016  \\\n",
       "0             (Apple Inc., 0000320193)              (Apple Inc., 0000320193)   \n",
       "1  (Alphabet Inc. Class A, 0001652044)   (Alphabet Inc. Class A, 0001652044)   \n",
       "2        (Microsoft Corp., 0000789019)         (Microsoft Corp., 0000789019)   \n",
       "3        (Amazon.com Inc., 0001018724)  (Berkshire Hathaway Inc, 0001067983)   \n",
       "4          (Facebook Inc., 0001326801)       (Exxon Mobil Corp., 0000034088)   \n",
       "\n",
       "                                   2015                                  2014  \\\n",
       "0              (Apple Inc., 0000320193)              (Apple Inc., 0000320193)   \n",
       "1   (Alphabet Inc. Class A, 0001288776)       (Exxon Mobil Corp., 0000034088)   \n",
       "2         (Microsoft Corp., 0000789019)         (Microsoft Corp., 0000789019)   \n",
       "3  (Berkshire Hathaway Inc, 0001067983)  (Berkshire Hathaway Inc, 0001067983)   \n",
       "4       (Exxon Mobil Corp., 0000034088)   (Alphabet Inc. Class A, 0001288776)   \n",
       "\n",
       "                                   2013  \n",
       "0              (Apple Inc., 0000320193)  \n",
       "1       (Exxon Mobil Corp., 0000034088)  \n",
       "2   (Alphabet Inc. Class A, 0001288776)  \n",
       "3         (Microsoft Corp., 0000789019)  \n",
       "4  (Berkshire Hathaway Inc, 0001067983)  "
      ]
     },
     "execution_count": 39,
     "metadata": {},
     "output_type": "execute_result"
    }
   ],
   "source": [
    "# returns an array of each companies CIK number\n",
    "for year in top10_2017:\n",
    "    for i in range(len(top10_2017[year])):\n",
    "        if top10_2017[year][i].strip(string.punctuation) in CIK_num:\n",
    "            top10_2017[year][i] = (top10_2017[year][i],CIK_num[top10_2017[year][i].strip(string.punctuation)])\n",
    "        elif int(year) < 2016 and top10_2017[year][i] == 'Alphabet Inc. Class A':\n",
    "            top10_2017[year][i] = (top10_2017[year][i],'0001288776')\n",
    "        elif top10_2017[year][i] in CIK_man:\n",
    "            top10_2017[year][i] = (top10_2017[year][i],CIK_man[top10_2017[year][i]])\n",
    "        else:\n",
    "            top10_2017[year][i] = (top10_2017[year][i], None)\n",
    "top10_2017.head()"
   ]
  },
  {
   "cell_type": "code",
   "execution_count": 40,
   "metadata": {},
   "outputs": [
    {
     "data": {
      "text/html": [
       "<div>\n",
       "<style scoped>\n",
       "    .dataframe tbody tr th:only-of-type {\n",
       "        vertical-align: middle;\n",
       "    }\n",
       "\n",
       "    .dataframe tbody tr th {\n",
       "        vertical-align: top;\n",
       "    }\n",
       "\n",
       "    .dataframe thead th {\n",
       "        text-align: right;\n",
       "    }\n",
       "</style>\n",
       "<table border=\"1\" class=\"dataframe\">\n",
       "  <thead>\n",
       "    <tr style=\"text-align: right;\">\n",
       "      <th></th>\n",
       "      <th>2017</th>\n",
       "      <th>2016</th>\n",
       "      <th>2015</th>\n",
       "      <th>2014</th>\n",
       "      <th>2013</th>\n",
       "      <th>2012</th>\n",
       "      <th>2011</th>\n",
       "      <th>2010</th>\n",
       "      <th>2009</th>\n",
       "      <th>2008</th>\n",
       "      <th>2007</th>\n",
       "    </tr>\n",
       "  </thead>\n",
       "  <tbody>\n",
       "    <tr>\n",
       "      <th>0</th>\n",
       "      <td>(Apple Inc., 0000320193)</td>\n",
       "      <td>(Apple Inc., 0000320193)</td>\n",
       "      <td>(Apple Inc., 0000320193)</td>\n",
       "      <td>(Apple Inc., 0000320193)</td>\n",
       "      <td>(Apple Inc., 0000320193)</td>\n",
       "      <td>(APPLE INC, 0000320193)</td>\n",
       "      <td>(EXXON MOBIL CORP, 0000034088)</td>\n",
       "      <td>(EXXON MOBIL CORP, 0000034088)</td>\n",
       "      <td>(EXXON MOBIL CORP, 0000034088)</td>\n",
       "      <td>(EXXON MOBIL CORP, 0000034088)</td>\n",
       "      <td>(EXXON MOBIL CORP, 0000034088)</td>\n",
       "    </tr>\n",
       "    <tr>\n",
       "      <th>1</th>\n",
       "      <td>(Alphabet Inc. Class A, 0001652044)</td>\n",
       "      <td>(Alphabet Inc. Class A, 0001652044)</td>\n",
       "      <td>(Alphabet Inc. Class A, 0001288776)</td>\n",
       "      <td>(Exxon Mobil Corp., 0000034088)</td>\n",
       "      <td>(Exxon Mobil Corp., 0000034088)</td>\n",
       "      <td>(EXXON MOBIL CORP, 0000034088)</td>\n",
       "      <td>(APPLE INC, 0000320193)</td>\n",
       "      <td>(APPLE INC, 0000320193)</td>\n",
       "      <td>(MICROSOFT CORP, 0000789019)</td>\n",
       "      <td>(WALMART INC, 0000104169)</td>\n",
       "      <td>(GENERAL ELECTRIC CO, 0000040545)</td>\n",
       "    </tr>\n",
       "    <tr>\n",
       "      <th>2</th>\n",
       "      <td>(Microsoft Corp., 0000789019)</td>\n",
       "      <td>(Microsoft Corp., 0000789019)</td>\n",
       "      <td>(Microsoft Corp., 0000789019)</td>\n",
       "      <td>(Microsoft Corp., 0000789019)</td>\n",
       "      <td>(Alphabet Inc. Class A, 0001288776)</td>\n",
       "      <td>(MICROSOFT CORP, 0000789019)</td>\n",
       "      <td>(MICROSOFT CORP, 0000789019)</td>\n",
       "      <td>(MICROSOFT CORP, 0000789019)</td>\n",
       "      <td>(WALMART INC, 0000104169)</td>\n",
       "      <td>(PROCTER &amp; GAMBLE CO, 0000080424)</td>\n",
       "      <td>(MICROSOFT CORP, 0000789019)</td>\n",
       "    </tr>\n",
       "  </tbody>\n",
       "</table>\n",
       "</div>"
      ],
      "text/plain": [
       "                                  2017                                 2016  \\\n",
       "0             (Apple Inc., 0000320193)             (Apple Inc., 0000320193)   \n",
       "1  (Alphabet Inc. Class A, 0001652044)  (Alphabet Inc. Class A, 0001652044)   \n",
       "2        (Microsoft Corp., 0000789019)        (Microsoft Corp., 0000789019)   \n",
       "\n",
       "                                  2015                             2014  \\\n",
       "0             (Apple Inc., 0000320193)         (Apple Inc., 0000320193)   \n",
       "1  (Alphabet Inc. Class A, 0001288776)  (Exxon Mobil Corp., 0000034088)   \n",
       "2        (Microsoft Corp., 0000789019)    (Microsoft Corp., 0000789019)   \n",
       "\n",
       "                                  2013                            2012  \\\n",
       "0             (Apple Inc., 0000320193)         (APPLE INC, 0000320193)   \n",
       "1      (Exxon Mobil Corp., 0000034088)  (EXXON MOBIL CORP, 0000034088)   \n",
       "2  (Alphabet Inc. Class A, 0001288776)    (MICROSOFT CORP, 0000789019)   \n",
       "\n",
       "                             2011                            2010  \\\n",
       "0  (EXXON MOBIL CORP, 0000034088)  (EXXON MOBIL CORP, 0000034088)   \n",
       "1         (APPLE INC, 0000320193)         (APPLE INC, 0000320193)   \n",
       "2    (MICROSOFT CORP, 0000789019)    (MICROSOFT CORP, 0000789019)   \n",
       "\n",
       "                             2009                               2008  \\\n",
       "0  (EXXON MOBIL CORP, 0000034088)     (EXXON MOBIL CORP, 0000034088)   \n",
       "1    (MICROSOFT CORP, 0000789019)          (WALMART INC, 0000104169)   \n",
       "2       (WALMART INC, 0000104169)  (PROCTER & GAMBLE CO, 0000080424)   \n",
       "\n",
       "                                2007  \n",
       "0     (EXXON MOBIL CORP, 0000034088)  \n",
       "1  (GENERAL ELECTRIC CO, 0000040545)  \n",
       "2       (MICROSOFT CORP, 0000789019)  "
      ]
     },
     "execution_count": 40,
     "metadata": {},
     "output_type": "execute_result"
    }
   ],
   "source": [
    "# combine all the years together\n",
    "dfTop10 = pd.concat([top10_2017,dfTop10],axis=1)\n",
    "# change all the years to integers\n",
    "dfTop10 = pd.DataFrame(np.array(dfTop10), columns=dfTop10.columns.astype(int))\n",
    "dfTop10.head(3)"
   ]
  },
  {
   "cell_type": "markdown",
   "metadata": {},
   "source": [
    "**Find the indexes of each company's MDA text**"
   ]
  },
  {
   "cell_type": "code",
   "execution_count": 41,
   "metadata": {},
   "outputs": [],
   "source": [
    "# create a dataframe to hold the indexes and document number\n",
    "dfTop10_index = dfTop10.copy()"
   ]
  },
  {
   "cell_type": "code",
   "execution_count": 42,
   "metadata": {},
   "outputs": [
    {
     "data": {
      "text/html": [
       "<div>\n",
       "<style scoped>\n",
       "    .dataframe tbody tr th:only-of-type {\n",
       "        vertical-align: middle;\n",
       "    }\n",
       "\n",
       "    .dataframe tbody tr th {\n",
       "        vertical-align: top;\n",
       "    }\n",
       "\n",
       "    .dataframe thead th {\n",
       "        text-align: right;\n",
       "    }\n",
       "</style>\n",
       "<table border=\"1\" class=\"dataframe\">\n",
       "  <thead>\n",
       "    <tr style=\"text-align: right;\">\n",
       "      <th></th>\n",
       "      <th>2017</th>\n",
       "      <th>2016</th>\n",
       "      <th>2015</th>\n",
       "      <th>2014</th>\n",
       "      <th>2013</th>\n",
       "      <th>2012</th>\n",
       "      <th>2011</th>\n",
       "      <th>2010</th>\n",
       "      <th>2009</th>\n",
       "      <th>2008</th>\n",
       "      <th>2007</th>\n",
       "    </tr>\n",
       "  </thead>\n",
       "  <tbody>\n",
       "    <tr>\n",
       "      <th>0</th>\n",
       "      <td>(Apple Inc., 0000320193)</td>\n",
       "      <td>(Apple Inc., 0000320193)</td>\n",
       "      <td>(Apple Inc., 0000320193)</td>\n",
       "      <td>(Apple Inc., 0000320193)</td>\n",
       "      <td>(Apple Inc., 0000320193)</td>\n",
       "      <td>(APPLE INC, 0000320193)</td>\n",
       "      <td>(EXXON MOBIL CORP, 0000034088)</td>\n",
       "      <td>(EXXON MOBIL CORP, 0000034088)</td>\n",
       "      <td>(EXXON MOBIL CORP, 0000034088)</td>\n",
       "      <td>(EXXON MOBIL CORP, 0000034088)</td>\n",
       "      <td>(EXXON MOBIL CORP, 0000034088)</td>\n",
       "    </tr>\n",
       "    <tr>\n",
       "      <th>1</th>\n",
       "      <td>(Alphabet Inc. Class A, 0001652044)</td>\n",
       "      <td>(Alphabet Inc. Class A, 0001652044)</td>\n",
       "      <td>(Alphabet Inc. Class A, 0001288776)</td>\n",
       "      <td>(Exxon Mobil Corp., 0000034088)</td>\n",
       "      <td>(Exxon Mobil Corp., 0000034088)</td>\n",
       "      <td>(EXXON MOBIL CORP, 0000034088)</td>\n",
       "      <td>(APPLE INC, 0000320193)</td>\n",
       "      <td>(APPLE INC, 0000320193)</td>\n",
       "      <td>(MICROSOFT CORP, 0000789019)</td>\n",
       "      <td>(WALMART INC, 0000104169)</td>\n",
       "      <td>(GENERAL ELECTRIC CO, 0000040545)</td>\n",
       "    </tr>\n",
       "    <tr>\n",
       "      <th>2</th>\n",
       "      <td>(Microsoft Corp., 0000789019)</td>\n",
       "      <td>(Microsoft Corp., 0000789019)</td>\n",
       "      <td>(Microsoft Corp., 0000789019)</td>\n",
       "      <td>(Microsoft Corp., 0000789019)</td>\n",
       "      <td>(Alphabet Inc. Class A, 0001288776)</td>\n",
       "      <td>(MICROSOFT CORP, 0000789019)</td>\n",
       "      <td>(MICROSOFT CORP, 0000789019)</td>\n",
       "      <td>(MICROSOFT CORP, 0000789019)</td>\n",
       "      <td>(WALMART INC, 0000104169)</td>\n",
       "      <td>(PROCTER &amp; GAMBLE CO, 0000080424)</td>\n",
       "      <td>(MICROSOFT CORP, 0000789019)</td>\n",
       "    </tr>\n",
       "  </tbody>\n",
       "</table>\n",
       "</div>"
      ],
      "text/plain": [
       "                                  2017                                 2016  \\\n",
       "0             (Apple Inc., 0000320193)             (Apple Inc., 0000320193)   \n",
       "1  (Alphabet Inc. Class A, 0001652044)  (Alphabet Inc. Class A, 0001652044)   \n",
       "2        (Microsoft Corp., 0000789019)        (Microsoft Corp., 0000789019)   \n",
       "\n",
       "                                  2015                             2014  \\\n",
       "0             (Apple Inc., 0000320193)         (Apple Inc., 0000320193)   \n",
       "1  (Alphabet Inc. Class A, 0001288776)  (Exxon Mobil Corp., 0000034088)   \n",
       "2        (Microsoft Corp., 0000789019)    (Microsoft Corp., 0000789019)   \n",
       "\n",
       "                                  2013                            2012  \\\n",
       "0             (Apple Inc., 0000320193)         (APPLE INC, 0000320193)   \n",
       "1      (Exxon Mobil Corp., 0000034088)  (EXXON MOBIL CORP, 0000034088)   \n",
       "2  (Alphabet Inc. Class A, 0001288776)    (MICROSOFT CORP, 0000789019)   \n",
       "\n",
       "                             2011                            2010  \\\n",
       "0  (EXXON MOBIL CORP, 0000034088)  (EXXON MOBIL CORP, 0000034088)   \n",
       "1         (APPLE INC, 0000320193)         (APPLE INC, 0000320193)   \n",
       "2    (MICROSOFT CORP, 0000789019)    (MICROSOFT CORP, 0000789019)   \n",
       "\n",
       "                             2009                               2008  \\\n",
       "0  (EXXON MOBIL CORP, 0000034088)     (EXXON MOBIL CORP, 0000034088)   \n",
       "1    (MICROSOFT CORP, 0000789019)          (WALMART INC, 0000104169)   \n",
       "2       (WALMART INC, 0000104169)  (PROCTER & GAMBLE CO, 0000080424)   \n",
       "\n",
       "                                2007  \n",
       "0     (EXXON MOBIL CORP, 0000034088)  \n",
       "1  (GENERAL ELECTRIC CO, 0000040545)  \n",
       "2       (MICROSOFT CORP, 0000789019)  "
      ]
     },
     "execution_count": 42,
     "metadata": {},
     "output_type": "execute_result"
    }
   ],
   "source": [
    "dfTop10_index.head(3)"
   ]
  },
  {
   "cell_type": "markdown",
   "metadata": {},
   "source": [
    "Note that the below code takes some time to run as it pulls the indices for MDA for all years. The final file is pickled below."
   ]
  },
  {
   "cell_type": "code",
   "execution_count": 43,
   "metadata": {},
   "outputs": [
    {
     "ename": "NameError",
     "evalue": "name 'edgar' is not defined",
     "output_type": "error",
     "traceback": [
      "\u001b[0;31m---------------------------------------------------------------------------\u001b[0m",
      "\u001b[0;31mNameError\u001b[0m                                 Traceback (most recent call last)",
      "\u001b[0;32m<ipython-input-43-f087c83fadfc>\u001b[0m in \u001b[0;36m<module>\u001b[0;34m\u001b[0m\n\u001b[1;32m      4\u001b[0m     \u001b[0mct\u001b[0m \u001b[0;34m+=\u001b[0m \u001b[0;36m1\u001b[0m\u001b[0;34m\u001b[0m\u001b[0;34m\u001b[0m\u001b[0m\n\u001b[1;32m      5\u001b[0m     \u001b[0;32mfor\u001b[0m \u001b[0mi\u001b[0m \u001b[0;32min\u001b[0m \u001b[0mrange\u001b[0m\u001b[0;34m(\u001b[0m\u001b[0mlen\u001b[0m\u001b[0;34m(\u001b[0m\u001b[0mdfTop10\u001b[0m\u001b[0;34m[\u001b[0m\u001b[0myear\u001b[0m\u001b[0;34m]\u001b[0m\u001b[0;34m)\u001b[0m\u001b[0;34m)\u001b[0m\u001b[0;34m:\u001b[0m\u001b[0;34m\u001b[0m\u001b[0;34m\u001b[0m\u001b[0m\n\u001b[0;32m----> 6\u001b[0;31m         \u001b[0mdfTop10_index\u001b[0m\u001b[0;34m[\u001b[0m\u001b[0myear\u001b[0m\u001b[0;34m]\u001b[0m\u001b[0;34m.\u001b[0m\u001b[0miloc\u001b[0m\u001b[0;34m[\u001b[0m\u001b[0mi\u001b[0m\u001b[0;34m]\u001b[0m \u001b[0;34m=\u001b[0m \u001b[0mannual_filings\u001b[0m\u001b[0;34m(\u001b[0m\u001b[0mdfTop10\u001b[0m\u001b[0;34m[\u001b[0m\u001b[0myear\u001b[0m\u001b[0;34m]\u001b[0m\u001b[0;34m.\u001b[0m\u001b[0miloc\u001b[0m\u001b[0;34m[\u001b[0m\u001b[0mi\u001b[0m\u001b[0;34m]\u001b[0m\u001b[0;34m[\u001b[0m\u001b[0;36m0\u001b[0m\u001b[0;34m]\u001b[0m\u001b[0;34m,\u001b[0m\u001b[0mdfTop10\u001b[0m\u001b[0;34m[\u001b[0m\u001b[0myear\u001b[0m\u001b[0;34m]\u001b[0m\u001b[0;34m.\u001b[0m\u001b[0miloc\u001b[0m\u001b[0;34m[\u001b[0m\u001b[0mi\u001b[0m\u001b[0;34m]\u001b[0m\u001b[0;34m[\u001b[0m\u001b[0;36m1\u001b[0m\u001b[0;34m]\u001b[0m\u001b[0;34m,\u001b[0m\u001b[0myear\u001b[0m\u001b[0;34m,\u001b[0m\u001b[0mct\u001b[0m\u001b[0;34m)\u001b[0m\u001b[0;34m\u001b[0m\u001b[0;34m\u001b[0m\u001b[0m\n\u001b[0m\u001b[1;32m      7\u001b[0m \u001b[0mdfTop10_index\u001b[0m\u001b[0;34m.\u001b[0m\u001b[0mhead\u001b[0m\u001b[0;34m(\u001b[0m\u001b[0;34m)\u001b[0m\u001b[0;34m\u001b[0m\u001b[0;34m\u001b[0m\u001b[0m\n",
      "\u001b[0;32m~/Documents/GitHub/Sentiment_Analysis_S-P_500/cleanMDA.py\u001b[0m in \u001b[0;36mannual_filings\u001b[0;34m(name, ID, year, doc_num)\u001b[0m\n\u001b[1;32m     56\u001b[0m     \u001b[0;34m'''This function finds the correct document'''\u001b[0m\u001b[0;34m\u001b[0m\u001b[0;34m\u001b[0m\u001b[0m\n\u001b[1;32m     57\u001b[0m     \u001b[0;31m# get filings from package\u001b[0m\u001b[0;34m\u001b[0m\u001b[0;34m\u001b[0m\u001b[0;34m\u001b[0m\u001b[0m\n\u001b[0;32m---> 58\u001b[0;31m     \u001b[0mcompany\u001b[0m \u001b[0;34m=\u001b[0m \u001b[0medgar\u001b[0m\u001b[0;34m.\u001b[0m\u001b[0mCompany\u001b[0m\u001b[0;34m(\u001b[0m\u001b[0mname\u001b[0m\u001b[0;34m,\u001b[0m\u001b[0mID\u001b[0m\u001b[0;34m)\u001b[0m\u001b[0;34m\u001b[0m\u001b[0;34m\u001b[0m\u001b[0m\n\u001b[0m\u001b[1;32m     59\u001b[0m     \u001b[0mtree\u001b[0m \u001b[0;34m=\u001b[0m \u001b[0mcompany\u001b[0m\u001b[0;34m.\u001b[0m\u001b[0mgetAllFilings\u001b[0m\u001b[0;34m(\u001b[0m\u001b[0mfilingType\u001b[0m \u001b[0;34m=\u001b[0m \u001b[0;34m\"10-K\"\u001b[0m\u001b[0;34m)\u001b[0m\u001b[0;34m\u001b[0m\u001b[0;34m\u001b[0m\u001b[0m\n\u001b[1;32m     60\u001b[0m     \u001b[0mdoc\u001b[0m \u001b[0;34m=\u001b[0m \u001b[0medgar\u001b[0m\u001b[0;34m.\u001b[0m\u001b[0mgetDocuments\u001b[0m\u001b[0;34m(\u001b[0m\u001b[0mtree\u001b[0m\u001b[0;34m,\u001b[0m \u001b[0mnoOfDocuments\u001b[0m\u001b[0;34m=\u001b[0m\u001b[0;36m14\u001b[0m\u001b[0;34m)\u001b[0m\u001b[0;34m\u001b[0m\u001b[0;34m\u001b[0m\u001b[0m\n",
      "\u001b[0;31mNameError\u001b[0m: name 'edgar' is not defined"
     ]
    }
   ],
   "source": [
    "# go through each company and get the indices of which section to pull the MDA from\n",
    "ct = 0\n",
    "for year in dfTop10:\n",
    "    ct += 1\n",
    "    for i in range(len(dfTop10[year])):\n",
    "        dfTop10_index[year].iloc[i] = annual_filings(dfTop10[year].iloc[i][0],dfTop10[year].iloc[i][1],year,ct)\n",
    "dfTop10_index.head()"
   ]
  },
  {
   "cell_type": "markdown",
   "metadata": {},
   "source": [
    "**Find the MDA text for each company**"
   ]
  },
  {
   "cell_type": "code",
   "execution_count": null,
   "metadata": {},
   "outputs": [],
   "source": [
    "# create a dataframe to hold the MDA text\n",
    "dfTop10_MDA = dfTop10_index.copy()\n",
    "dfTop10_MDA.head(3)"
   ]
  },
  {
   "cell_type": "markdown",
   "metadata": {},
   "source": [
    "Again note that the following code will take time to run as this pulls the text given the indicies that were pulled in the code above. "
   ]
  },
  {
   "cell_type": "code",
   "execution_count": null,
   "metadata": {},
   "outputs": [],
   "source": [
    "# go through each company and get the indices of which section to pull the MDA from\n",
    "for year in dfTop10_index:\n",
    "    for i in range(len(dfTop10_index[year])):\n",
    "        if dfTop10_index[year][i][1] != None:\n",
    "            dfTop10_MDA[year].iloc[i] = MDA(dfTop10_index[year].iloc[i][0],dfTop10_index[year].iloc[i][1],dfTop10_index[year].iloc[i][2],dfTop10_index[year].iloc[i][3],dfTop10_index[year].iloc[i][4],year)\n",
    "        else:\n",
    "            dfTop10_MDA[year].iloc[i]= dfTop10_index[year][i]"
   ]
  },
  {
   "cell_type": "code",
   "execution_count": null,
   "metadata": {},
   "outputs": [],
   "source": [
    "dfTop10_MDA.head(3)"
   ]
  },
  {
   "cell_type": "code",
   "execution_count": null,
   "metadata": {},
   "outputs": [],
   "source": [
    "dfTop10_MDA.to_pickle('Top10_MDA.pkl')"
   ]
  },
  {
   "cell_type": "markdown",
   "metadata": {},
   "source": [
    "The following blocks of code pulls MD&A sections from companies that file the MD&A disclosures in a seperate exhibit "
   ]
  },
  {
   "cell_type": "markdown",
   "metadata": {},
   "source": [
    "Get years and SEC web links for scrape."
   ]
  },
  {
   "cell_type": "code",
   "execution_count": null,
   "metadata": {},
   "outputs": [],
   "source": [
    "IBMyears = [i for i in range(2009,2013)]\n",
    "IBMresLst = ['https://www.sec.gov/Archives/edgar/data/51143/000104746910001151/a2195966zex-13.htm','https://www.sec.gov/Archives/edgar/data/51143/000104746911001117/a2201254zex-13.htm','https://www.sec.gov/Archives/edgar/data/51143/000104746912001742/a2206744zex-13.htm','https://www.sec.gov/Archives/edgar/data/51143/000104746913001698/a2212340zex-13.htm']\n",
    "\n",
    "WFyears = [i for i in range(2013,2016)]\n",
    "WFresLst = ['https://www.sec.gov/Archives/edgar/data/72971/000007297114000337/wfc10k_20131231-ex13.htm','https://www.sec.gov/Archives/edgar/data/72971/000007297115000449/wfc-12312014xex13.htm','https://www.sec.gov/Archives/edgar/data/72971/000007297115000449/wfc-12312014xex13.htm']\n",
    "\n",
    "JJyears = [i for i in range(2007,2015)]\n",
    "JJyears.remove(2011)\n",
    "JJyears.remove(2010)\n",
    "JJresLst = ['https://www.sec.gov/Archives/edgar/data/200406/000095012308002130/y47910exv13.htm','https://www.sec.gov/Archives/edgar/data/200406/000095012309003187/y74152exv13.htm','https://www.sec.gov/Archives/edgar/data/200406/000095012310019392/y80744exv13.htm','https://www.sec.gov/Archives/edgar/data/200406/000020040615000004/ex13-form10xk20141228.htm']\n",
    "\n",
    "WMyears = [i for i in range(2007,2015)]\n",
    "WMresLst = ['https://www.sec.gov/Archives/edgar/data/104169/000119312508071085/dex13.htm','https://www.sec.gov/Archives/edgar/data/104169/000010416909000006/dex13.htm','https://www.sec.gov/Archives/edgar/data/104169/000119312510071652/dex13.htm','https://www.sec.gov/Archives/edgar/data/104169/000119312511083157/dex13.htm','https://www.sec.gov/Archives/edgar/data/104169/000119312512134679/d270972dex13.htm','https://www.sec.gov/Archives/edgar/data/200406/000020040613000038/ex13-form10xk20121230.htm','https://www.sec.gov/Archives/edgar/data/200406/000020040614000033/ex13-form10xk20131229.htm','https://www.sec.gov/Archives/edgar/data/104169/000010416915000011/wmtars-1312015.htm']\n",
    "\n",
    "GEyears = [2007]\n",
    "GEresLst = ['https://www.sec.gov/Archives/edgar/data/40545/000004054508000011/ex13.htm']\n",
    "\n",
    "PGyears = [i for i in range(2007,2012)]\n",
    "PGresLst = ['https://www.sec.gov/Archives/edgar/data/80424/000095015207007152/l27490aexv13.htm#303','https://www.sec.gov/Archives/edgar/data/80424/000095015208007680/l32996bexv13.htm','https://www.sec.gov/Archives/edgar/data/80424/000119312509175986/dex13.htm','https://www.sec.gov/Archives/edgar/data/80424/000119312510188769/dex13.htm','https://www.sec.gov/Archives/edgar/data/80424/000008042411000014/exhibit13.htm']\n",
    "\n",
    "Pyears = [2008, 2012]\n",
    "PresLst = ['https://www.sec.gov/Archives/edgar/data/78003/000119312509040568/dex13.htm','https://www.sec.gov/Archives/edgar/data/78003/000007800313000009/pfe-12312012xex1310ka.htm']\n",
    "\n",
    "ATTyears = [2007, 2008, 2009, 2012]\n",
    "ATTresLst = ['https://www.sec.gov/Archives/edgar/data/732717/000073271708000012/ex13.htm','https://www.sec.gov/Archives/edgar/data/732717/000073271709000007/ex13.htm','https://www.sec.gov/Archives/edgar/data/732717/000073271710000013/ex13.htm','https://www.sec.gov/Archives/edgar/data/732717/000073271712000025/ex13.htm']"
   ]
  },
  {
   "cell_type": "markdown",
   "metadata": {},
   "source": [
    "Use pullMDA function to web scrape the SEC website for MDA section in the companies 10-K. Refer to CleanMDA.py for documentation. "
   ]
  },
  {
   "cell_type": "code",
   "execution_count": null,
   "metadata": {},
   "outputs": [],
   "source": [
    "ATTtext = pullMDA(ATTyears, 'AT&T CORP', ATTresLst)\n",
    "IBMtext = pullMDA(IBMyears, 'INTL BUSINESS MACHINES CORP', IBMresLst)\n",
    "# Pfizer\n",
    "Ptext = pullMDA(Pyears, 'PFIZER INC', PresLst)\n",
    "#Proctor and Gamble \n",
    "PGtext = pullMDA(PGyears, 'PROCTER & GAMBLE CO',PGresLst, 'The purpose of this discussion is to provide an understanding')\n",
    "# GE\n",
    "GEtext = pullMDA(GEyears,'GENERAL ELECTRIC CO',GEresLst)\n",
    "# Wal-Mart\n",
    "WMtext = pullMDA(WMyears,'WALMART INC',WMresLst)\n",
    "# Johnson & Johnson\n",
    "JJtext = pullMDA(JJyears,'JOHNSON & JOHNSON',JJresLst)\n",
    "# Wells Fargo \n",
    "WFtext = pullMDA(WFyears,'Wells Fargo',WFresLst)"
   ]
  },
  {
   "cell_type": "code",
   "execution_count": null,
   "metadata": {},
   "outputs": [],
   "source": [
    "# Combine all companies into dict, dd.\n",
    "dd = defaultdict(list)\n",
    "for d in (GEtext, WMtext,JJtext,WFtext,ATTtext,PGtext,Ptext,IBMtext): \n",
    "    for key, value in d.items():\n",
    "        dd[key].append(value)"
   ]
  },
  {
   "cell_type": "code",
   "execution_count": null,
   "metadata": {},
   "outputs": [],
   "source": [
    "# dfScrape is dataframe of scraped companies by year.\n",
    "dfScrape = pd.DataFrame.from_dict(dd,orient='index')\n",
    "dfScrape = dfScrape.transpose()"
   ]
  },
  {
   "cell_type": "code",
   "execution_count": null,
   "metadata": {},
   "outputs": [],
   "source": [
    "# Read in top 10 from initial web scrape \n",
    "top10_MDA = pd.read_pickle('Top10_MDA_Scrape_1.pkl')"
   ]
  },
  {
   "cell_type": "code",
   "execution_count": null,
   "metadata": {},
   "outputs": [],
   "source": [
    "# Merge initial scrape to new scrape\n",
    "frames = [top10_MDA, dfScrape]\n",
    "top10Mda_Scrape_2 = pd.concat(frames)"
   ]
  },
  {
   "cell_type": "code",
   "execution_count": null,
   "metadata": {},
   "outputs": [],
   "source": [
    "top10Mda_Scrape_2.reset_index(inplace=True)"
   ]
  },
  {
   "cell_type": "code",
   "execution_count": null,
   "metadata": {},
   "outputs": [],
   "source": [
    "top10Mda_Scrape_2.to_pickle('topMda10_Scrape_2.pkl')"
   ]
  },
  {
   "cell_type": "code",
   "execution_count": null,
   "metadata": {},
   "outputs": [],
   "source": [
    "# split the df into top 10 companies and the company's to replace their missing values\n",
    "top10 = top10Mda_Scrape_2[:10]\n",
    "missing = top10Mda_Scrape_2[10:]\n",
    "# reformat name Wal-Mart\n",
    "missing[2013].iloc[0] = 'Wal-Mart Stores Inc',missing[2013].iloc[0][1]\n",
    "missing[2014].iloc[0] = 'Wal-Mart Stores Inc',missing[2014].iloc[0][1]\n",
    "# replace the None of top 10 companies with MDA text\n",
    "for year in top10:\n",
    "    for i in range(len(top10)):\n",
    "        if top10[year][i][1] == None:\n",
    "            for j in range(10,(10+len(missing))):\n",
    "                if missing[year][j] == None:\n",
    "                    break\n",
    "                elif top10[year][i][0].upper() == missing[year][j][0].upper():\n",
    "                    top10[year].iloc[i] = missing[year][j]\n",
    "                    break\n",
    "            "
   ]
  },
  {
   "cell_type": "code",
   "execution_count": null,
   "metadata": {},
   "outputs": [],
   "source": [
    "# final dataframe with top 10 companies from 2007-2017 with MDA text\n",
    "top10[2012][0]"
   ]
  },
  {
   "cell_type": "code",
   "execution_count": null,
   "metadata": {},
   "outputs": [],
   "source": [
    "top10.to_pickle('Top10_final.pkl')"
   ]
  }
 ],
 "metadata": {
  "kernelspec": {
   "display_name": "Python 3",
   "language": "python",
   "name": "python3"
  },
  "language_info": {
   "codemirror_mode": {
    "name": "ipython",
    "version": 3
   },
   "file_extension": ".py",
   "mimetype": "text/x-python",
   "name": "python",
   "nbconvert_exporter": "python",
   "pygments_lexer": "ipython3",
   "version": "3.7.1"
  }
 },
 "nbformat": 4,
 "nbformat_minor": 2
}
