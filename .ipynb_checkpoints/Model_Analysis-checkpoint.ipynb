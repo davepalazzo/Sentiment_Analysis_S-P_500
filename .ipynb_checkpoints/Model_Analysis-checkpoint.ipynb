{
 "cells": [
  {
   "cell_type": "code",
   "execution_count": 1,
   "metadata": {},
   "outputs": [],
   "source": [
    "import pandas as pd\n",
    "import numpy as np\n",
    "from collections import defaultdict\n",
    "from cleanMDA import extractTable, divide_chunks, pullMDA, getXy\n",
    "from text_analysis import text_analysis_wordall, text_analysis_sentenceall, get_polarity, low_subjectivity, model_analysis\n",
    "from textblob import TextBlob\n",
    "from sklearn.model_selection import KFold\n",
    "from sklearn.linear_model import LinearRegression, BayesianRidge\n",
    "from sklearn.metrics import mean_absolute_error\n",
    "import xgboost as xgb\n",
    "import seaborn as sns\n",
    "import matplotlib.pyplot as plt\n",
    "%matplotlib inline"
   ]
  },
  {
   "cell_type": "markdown",
   "metadata": {},
   "source": [
    "## Sentiment Analysis by Word"
   ]
  },
  {
   "cell_type": "code",
   "execution_count": 11,
   "metadata": {},
   "outputs": [],
   "source": [
    "# company name and text in dataframe\n",
    "df_sentences = pd.read_pickle('Cleaned_MDA_sentences.pkl')"
   ]
  },
  {
   "cell_type": "code",
   "execution_count": 12,
   "metadata": {},
   "outputs": [],
   "source": [
    "# combine the company's text for each year and add the GDP of each year for word analysis\n",
    "df = getXy(df_sentences) "
   ]
  },
  {
   "cell_type": "code",
   "execution_count": 13,
   "metadata": {},
   "outputs": [
    {
     "data": {
      "text/html": [
       "<div>\n",
       "<style scoped>\n",
       "    .dataframe tbody tr th:only-of-type {\n",
       "        vertical-align: middle;\n",
       "    }\n",
       "\n",
       "    .dataframe tbody tr th {\n",
       "        vertical-align: top;\n",
       "    }\n",
       "\n",
       "    .dataframe thead th {\n",
       "        text-align: right;\n",
       "    }\n",
       "</style>\n",
       "<table border=\"1\" class=\"dataframe\">\n",
       "  <thead>\n",
       "    <tr style=\"text-align: right;\">\n",
       "      <th></th>\n",
       "      <th>X</th>\n",
       "      <th>y</th>\n",
       "    </tr>\n",
       "  </thead>\n",
       "  <tbody>\n",
       "    <tr>\n",
       "      <th>2007</th>\n",
       "      <td>[(frequently, 0.1, 0.3), (other, -0.125, 0.375...</td>\n",
       "      <td>1.77857</td>\n",
       "    </tr>\n",
       "    <tr>\n",
       "      <th>2008</th>\n",
       "      <td>[(frequently, 0.1, 0.3), (other, -0.125, 0.375...</td>\n",
       "      <td>-0.291621</td>\n",
       "    </tr>\n",
       "    <tr>\n",
       "      <th>2009</th>\n",
       "      <td>[(frequently, 0.1, 0.3), (other, -0.125, 0.375...</td>\n",
       "      <td>-2.77553</td>\n",
       "    </tr>\n",
       "    <tr>\n",
       "      <th>2010</th>\n",
       "      <td>[(frequently, 0.1, 0.3), (other, -0.125, 0.375...</td>\n",
       "      <td>2.53192</td>\n",
       "    </tr>\n",
       "    <tr>\n",
       "      <th>2011</th>\n",
       "      <td>[(frequently, 0.1, 0.3), (other, -0.125, 0.375...</td>\n",
       "      <td>1.60145</td>\n",
       "    </tr>\n",
       "    <tr>\n",
       "      <th>2012</th>\n",
       "      <td>[(other, -0.125, 0.375), (certain, 0.214285714...</td>\n",
       "      <td>2.22403</td>\n",
       "    </tr>\n",
       "    <tr>\n",
       "      <th>2013</th>\n",
       "      <td>[(other, -0.125, 0.375), (certain, 0.214285714...</td>\n",
       "      <td>1.67733</td>\n",
       "    </tr>\n",
       "    <tr>\n",
       "      <th>2014</th>\n",
       "      <td>[(other, -0.125, 0.375), (certain, 0.214285714...</td>\n",
       "      <td>2.56919</td>\n",
       "    </tr>\n",
       "    <tr>\n",
       "      <th>2015</th>\n",
       "      <td>[(other, -0.125, 0.375), (certain, 0.214285714...</td>\n",
       "      <td>2.86159</td>\n",
       "    </tr>\n",
       "    <tr>\n",
       "      <th>2016</th>\n",
       "      <td>[(other, -0.125, 0.375), (certain, 0.214285714...</td>\n",
       "      <td>1.48528</td>\n",
       "    </tr>\n",
       "    <tr>\n",
       "      <th>2017</th>\n",
       "      <td>[(other, -0.125, 0.375), (certain, 0.214285714...</td>\n",
       "      <td>2.27334</td>\n",
       "    </tr>\n",
       "  </tbody>\n",
       "</table>\n",
       "</div>"
      ],
      "text/plain": [
       "                                                      X         y\n",
       "2007  [(frequently, 0.1, 0.3), (other, -0.125, 0.375...   1.77857\n",
       "2008  [(frequently, 0.1, 0.3), (other, -0.125, 0.375... -0.291621\n",
       "2009  [(frequently, 0.1, 0.3), (other, -0.125, 0.375...  -2.77553\n",
       "2010  [(frequently, 0.1, 0.3), (other, -0.125, 0.375...   2.53192\n",
       "2011  [(frequently, 0.1, 0.3), (other, -0.125, 0.375...   1.60145\n",
       "2012  [(other, -0.125, 0.375), (certain, 0.214285714...   2.22403\n",
       "2013  [(other, -0.125, 0.375), (certain, 0.214285714...   1.67733\n",
       "2014  [(other, -0.125, 0.375), (certain, 0.214285714...   2.56919\n",
       "2015  [(other, -0.125, 0.375), (certain, 0.214285714...   2.86159\n",
       "2016  [(other, -0.125, 0.375), (certain, 0.214285714...   1.48528\n",
       "2017  [(other, -0.125, 0.375), (certain, 0.214285714...   2.27334"
      ]
     },
     "execution_count": 13,
     "metadata": {},
     "output_type": "execute_result"
    }
   ],
   "source": [
    "# call the function text_analysis_wordall on the MDA text df\n",
    "analysis_df = text_analysis_wordall(df)\n",
    "analysis_df"
   ]
  },
  {
   "cell_type": "code",
   "execution_count": 14,
   "metadata": {},
   "outputs": [],
   "source": [
    "analysis_df.to_pickle('word_analysis.pkl')"
   ]
  },
  {
   "cell_type": "markdown",
   "metadata": {},
   "source": [
    "## Sentiment Analysis by Sentence"
   ]
  },
  {
   "cell_type": "code",
   "execution_count": 197,
   "metadata": {},
   "outputs": [],
   "source": [
    "# combine the company's text for each year and add the GDP of each year for sentence analysis\n",
    "df2 = getXy(df_sentences)"
   ]
  },
  {
   "cell_type": "code",
   "execution_count": 199,
   "metadata": {},
   "outputs": [],
   "source": [
    "# call the function text_analysis_sentenceall on the MDA text df\n",
    "analysis_sentence = text_analysis_sentenceall(df2)\n",
    "analysis_sentence"
   ]
  },
  {
   "cell_type": "code",
   "execution_count": 213,
   "metadata": {},
   "outputs": [],
   "source": [
    "analysis_sentence.to_pickle('sentence_analysis.pkl')"
   ]
  },
  {
   "cell_type": "markdown",
   "metadata": {},
   "source": [
    "## Get just the polarity score from the sentence and word analysis"
   ]
  },
  {
   "cell_type": "code",
   "execution_count": 3,
   "metadata": {},
   "outputs": [],
   "source": [
    "analysis_word = pd.read_pickle('word_analysis.pkl')\n",
    "analysis_sentence = pd.read_pickle('sentence_analysis.pkl')"
   ]
  },
  {
   "cell_type": "code",
   "execution_count": 4,
   "metadata": {},
   "outputs": [
    {
     "data": {
      "text/html": [
       "<div>\n",
       "<style scoped>\n",
       "    .dataframe tbody tr th:only-of-type {\n",
       "        vertical-align: middle;\n",
       "    }\n",
       "\n",
       "    .dataframe tbody tr th {\n",
       "        vertical-align: top;\n",
       "    }\n",
       "\n",
       "    .dataframe thead th {\n",
       "        text-align: right;\n",
       "    }\n",
       "</style>\n",
       "<table border=\"1\" class=\"dataframe\">\n",
       "  <thead>\n",
       "    <tr style=\"text-align: right;\">\n",
       "      <th></th>\n",
       "      <th>X</th>\n",
       "      <th>y</th>\n",
       "    </tr>\n",
       "  </thead>\n",
       "  <tbody>\n",
       "    <tr>\n",
       "      <th>2007</th>\n",
       "      <td>[0.1, -0.125, -0.2, -0.05, -0.05, -0.125, -0.1...</td>\n",
       "      <td>1.77857</td>\n",
       "    </tr>\n",
       "    <tr>\n",
       "      <th>2008</th>\n",
       "      <td>[0.1, -0.125, -0.2, 0.7, -0.05, -0.05, -0.125,...</td>\n",
       "      <td>-0.291621</td>\n",
       "    </tr>\n",
       "    <tr>\n",
       "      <th>2009</th>\n",
       "      <td>[0.1, -0.125, -0.2, -0.05, -0.05, -0.125, -0.1...</td>\n",
       "      <td>-2.77553</td>\n",
       "    </tr>\n",
       "    <tr>\n",
       "      <th>2010</th>\n",
       "      <td>[0.1, -0.125, -0.2, -0.05, -0.05, -0.125, -0.1...</td>\n",
       "      <td>2.53192</td>\n",
       "    </tr>\n",
       "    <tr>\n",
       "      <th>2011</th>\n",
       "      <td>[0.1, -0.125, -0.2, -0.05, -0.05, -0.125, -0.1...</td>\n",
       "      <td>1.60145</td>\n",
       "    </tr>\n",
       "    <tr>\n",
       "      <th>2012</th>\n",
       "      <td>[-0.125, 0.21428571428571427, 0.1, 0.375, -0.0...</td>\n",
       "      <td>2.22403</td>\n",
       "    </tr>\n",
       "    <tr>\n",
       "      <th>2013</th>\n",
       "      <td>[-0.125, 0.21428571428571427, 0.1, 0.375, -0.0...</td>\n",
       "      <td>1.67733</td>\n",
       "    </tr>\n",
       "    <tr>\n",
       "      <th>2014</th>\n",
       "      <td>[-0.125, 0.21428571428571427, 0.1, 0.375, -0.0...</td>\n",
       "      <td>2.56919</td>\n",
       "    </tr>\n",
       "    <tr>\n",
       "      <th>2015</th>\n",
       "      <td>[-0.125, 0.21428571428571427, 0.1, 0.375, -0.0...</td>\n",
       "      <td>2.86159</td>\n",
       "    </tr>\n",
       "    <tr>\n",
       "      <th>2016</th>\n",
       "      <td>[-0.125, 0.21428571428571427, 0.1, 0.375, -0.0...</td>\n",
       "      <td>1.48528</td>\n",
       "    </tr>\n",
       "    <tr>\n",
       "      <th>2017</th>\n",
       "      <td>[-0.125, 0.21428571428571427, 0.1, 0.375, -0.0...</td>\n",
       "      <td>2.27334</td>\n",
       "    </tr>\n",
       "  </tbody>\n",
       "</table>\n",
       "</div>"
      ],
      "text/plain": [
       "                                                      X         y\n",
       "2007  [0.1, -0.125, -0.2, -0.05, -0.05, -0.125, -0.1...   1.77857\n",
       "2008  [0.1, -0.125, -0.2, 0.7, -0.05, -0.05, -0.125,... -0.291621\n",
       "2009  [0.1, -0.125, -0.2, -0.05, -0.05, -0.125, -0.1...  -2.77553\n",
       "2010  [0.1, -0.125, -0.2, -0.05, -0.05, -0.125, -0.1...   2.53192\n",
       "2011  [0.1, -0.125, -0.2, -0.05, -0.05, -0.125, -0.1...   1.60145\n",
       "2012  [-0.125, 0.21428571428571427, 0.1, 0.375, -0.0...   2.22403\n",
       "2013  [-0.125, 0.21428571428571427, 0.1, 0.375, -0.0...   1.67733\n",
       "2014  [-0.125, 0.21428571428571427, 0.1, 0.375, -0.0...   2.56919\n",
       "2015  [-0.125, 0.21428571428571427, 0.1, 0.375, -0.0...   2.86159\n",
       "2016  [-0.125, 0.21428571428571427, 0.1, 0.375, -0.0...   1.48528\n",
       "2017  [-0.125, 0.21428571428571427, 0.1, 0.375, -0.0...   2.27334"
      ]
     },
     "execution_count": 4,
     "metadata": {},
     "output_type": "execute_result"
    }
   ],
   "source": [
    "# call the function get_polarity on the word analysis df\n",
    "word_polarity = get_polarity(analysis_word)\n",
    "word_polarity"
   ]
  },
  {
   "cell_type": "code",
   "execution_count": 5,
   "metadata": {},
   "outputs": [
    {
     "data": {
      "text/html": [
       "<div>\n",
       "<style scoped>\n",
       "    .dataframe tbody tr th:only-of-type {\n",
       "        vertical-align: middle;\n",
       "    }\n",
       "\n",
       "    .dataframe tbody tr th {\n",
       "        vertical-align: top;\n",
       "    }\n",
       "\n",
       "    .dataframe thead th {\n",
       "        text-align: right;\n",
       "    }\n",
       "</style>\n",
       "<table border=\"1\" class=\"dataframe\">\n",
       "  <thead>\n",
       "    <tr style=\"text-align: right;\">\n",
       "      <th></th>\n",
       "      <th>X</th>\n",
       "      <th>y</th>\n",
       "    </tr>\n",
       "  </thead>\n",
       "  <tbody>\n",
       "    <tr>\n",
       "      <th>2007</th>\n",
       "      <td>[-0.0140625, -0.05, -0.05, -0.125, -0.06666666...</td>\n",
       "      <td>1.77857</td>\n",
       "    </tr>\n",
       "    <tr>\n",
       "      <th>2008</th>\n",
       "      <td>[-0.011842105263157895, 0.7, -0.05, -0.05, -0....</td>\n",
       "      <td>-0.291621</td>\n",
       "    </tr>\n",
       "    <tr>\n",
       "      <th>2009</th>\n",
       "      <td>[-0.0140625, -0.05, -0.05, -0.125, -0.06666666...</td>\n",
       "      <td>-2.77553</td>\n",
       "    </tr>\n",
       "    <tr>\n",
       "      <th>2010</th>\n",
       "      <td>[-0.016071428571428573, -0.05, -0.05, -0.125, ...</td>\n",
       "      <td>2.53192</td>\n",
       "    </tr>\n",
       "    <tr>\n",
       "      <th>2011</th>\n",
       "      <td>[-0.013235294117647059, -0.05, -0.05, -0.125, ...</td>\n",
       "      <td>1.60145</td>\n",
       "    </tr>\n",
       "    <tr>\n",
       "      <th>2012</th>\n",
       "      <td>[-0.041666666666666664, 0.027380952380952377, ...</td>\n",
       "      <td>2.22403</td>\n",
       "    </tr>\n",
       "    <tr>\n",
       "      <th>2013</th>\n",
       "      <td>[-0.041666666666666664, 0.027380952380952377, ...</td>\n",
       "      <td>1.67733</td>\n",
       "    </tr>\n",
       "    <tr>\n",
       "      <th>2014</th>\n",
       "      <td>[-0.041666666666666664, 0.027380952380952377, ...</td>\n",
       "      <td>2.56919</td>\n",
       "    </tr>\n",
       "    <tr>\n",
       "      <th>2015</th>\n",
       "      <td>[-0.041666666666666664, 0.027380952380952377, ...</td>\n",
       "      <td>2.86159</td>\n",
       "    </tr>\n",
       "    <tr>\n",
       "      <th>2016</th>\n",
       "      <td>[-0.041666666666666664, 0.027380952380952377, ...</td>\n",
       "      <td>1.48528</td>\n",
       "    </tr>\n",
       "    <tr>\n",
       "      <th>2017</th>\n",
       "      <td>[-0.041666666666666664, 0.027380952380952377, ...</td>\n",
       "      <td>2.27334</td>\n",
       "    </tr>\n",
       "  </tbody>\n",
       "</table>\n",
       "</div>"
      ],
      "text/plain": [
       "                                                      X         y\n",
       "2007  [-0.0140625, -0.05, -0.05, -0.125, -0.06666666...   1.77857\n",
       "2008  [-0.011842105263157895, 0.7, -0.05, -0.05, -0.... -0.291621\n",
       "2009  [-0.0140625, -0.05, -0.05, -0.125, -0.06666666...  -2.77553\n",
       "2010  [-0.016071428571428573, -0.05, -0.05, -0.125, ...   2.53192\n",
       "2011  [-0.013235294117647059, -0.05, -0.05, -0.125, ...   1.60145\n",
       "2012  [-0.041666666666666664, 0.027380952380952377, ...   2.22403\n",
       "2013  [-0.041666666666666664, 0.027380952380952377, ...   1.67733\n",
       "2014  [-0.041666666666666664, 0.027380952380952377, ...   2.56919\n",
       "2015  [-0.041666666666666664, 0.027380952380952377, ...   2.86159\n",
       "2016  [-0.041666666666666664, 0.027380952380952377, ...   1.48528\n",
       "2017  [-0.041666666666666664, 0.027380952380952377, ...   2.27334"
      ]
     },
     "execution_count": 5,
     "metadata": {},
     "output_type": "execute_result"
    }
   ],
   "source": [
    "# call the function get_polarity on the sentence analysis df\n",
    "sentence_polarity = get_polarity(analysis_sentence)\n",
    "sentence_polarity"
   ]
  },
  {
   "cell_type": "markdown",
   "metadata": {},
   "source": [
    "# Model Analysis"
   ]
  },
  {
   "cell_type": "markdown",
   "metadata": {},
   "source": [
    "### Words"
   ]
  },
  {
   "cell_type": "code",
   "execution_count": 6,
   "metadata": {},
   "outputs": [
    {
     "name": "stdout",
     "output_type": "stream",
     "text": [
      "[17:45:34] WARNING: src/objective/regression_obj.cu:152: reg:linear is now deprecated in favor of reg:squarederror.\n",
      "[17:45:56] WARNING: src/objective/regression_obj.cu:152: reg:linear is now deprecated in favor of reg:squarederror.\n"
     ]
    }
   ],
   "source": [
    "# split Xs into individual columns and run analysis\n",
    "word_split_Xs = pd.DataFrame(word_polarity.X.tolist())\n",
    "word_split = model_analysis(np.array(word_split_Xs),np.array(word_polarity['y']))\n",
    "\n",
    "# get the sum of all the scores for each year and run analysis\n",
    "summed_word = np.array(word_polarity['X'].map(lambda x: sum(x)))\n",
    "Sum_word = model_analysis(summed_word,np.array(word_polarity['y']))"
   ]
  },
  {
   "cell_type": "markdown",
   "metadata": {},
   "source": [
    "### Sentences"
   ]
  },
  {
   "cell_type": "code",
   "execution_count": 7,
   "metadata": {},
   "outputs": [
    {
     "name": "stdout",
     "output_type": "stream",
     "text": [
      "[17:46:02] WARNING: src/objective/regression_obj.cu:152: reg:linear is now deprecated in favor of reg:squarederror.\n",
      "[17:46:13] WARNING: src/objective/regression_obj.cu:152: reg:linear is now deprecated in favor of reg:squarederror.\n"
     ]
    }
   ],
   "source": [
    "# split Xs into individual columns and run analysis\n",
    "sentences_split_Xs = pd.DataFrame(sentence_polarity.X.tolist())\n",
    "sentence_split = model_analysis(np.array(sentences_split_Xs),np.array(sentence_polarity['y']))\n",
    "\n",
    "# get the sum of all the scores for each year and run analysis\n",
    "summed_sentence = np.array(sentence_polarity['X'].map(lambda x: sum(x)))\n",
    "Sum_sentence = model_analysis(summed_sentence,np.array(sentence_polarity['y']))"
   ]
  },
  {
   "cell_type": "code",
   "execution_count": 18,
   "metadata": {},
   "outputs": [
    {
     "name": "stdout",
     "output_type": "stream",
     "text": [
      "word_split -14.00501376563017\n",
      "Sum_word -1.5412611237579816\n",
      "sentence_split -6.467280047393677\n",
      "Sum_sentence -1.8563084104948013\n"
     ]
    }
   ],
   "source": [
    "models = [word_split,Sum_word,sentence_split,Sum_sentence]\n",
    "name = ['word_split','Sum_word','sentence_split','Sum_sentence']\n",
    "for i in range(len(models)):\n",
    "    print(name[i],models[i][2])"
   ]
  },
  {
   "cell_type": "markdown",
   "metadata": {},
   "source": [
    "# Final Model"
   ]
  },
  {
   "cell_type": "markdown",
   "metadata": {},
   "source": [
    "Since the best model from the code above we found was the Sum_word, we see if we can fit the model better by editing the parameters of subjectivity and polarity scores"
   ]
  },
  {
   "cell_type": "code",
   "execution_count": 19,
   "metadata": {},
   "outputs": [],
   "source": [
    "analysis_word = pd.read_pickle('word_analysis.pkl')"
   ]
  },
  {
   "cell_type": "code",
   "execution_count": 20,
   "metadata": {},
   "outputs": [],
   "source": [
    "# the best parameters of the dataset for the model\n",
    "word_polarity_low = low_subjectivity(analysis_word)"
   ]
  },
  {
   "cell_type": "code",
   "execution_count": 22,
   "metadata": {},
   "outputs": [
    {
     "name": "stdout",
     "output_type": "stream",
     "text": [
      "[17:51:19] WARNING: src/objective/regression_obj.cu:152: reg:linear is now deprecated in favor of reg:squarederror.\n",
      "(XGBRegressor(base_score=0.5, booster='gbtree', colsample_bylevel=1,\n",
      "       colsample_bynode=1, colsample_bytree=1, gamma=0,\n",
      "       importance_type='gain', learning_rate=0.1, max_delta_step=0,\n",
      "       max_depth=6, min_child_weight=1, missing=None, n_estimators=300,\n",
      "       n_jobs=-1, nthread=None, objective='reg:linear', random_seed=3,\n",
      "       random_state=0, reg_alpha=0, reg_lambda=1, scale_pos_weight=1,\n",
      "       seed=None, silent=None, subsample=0.7, verbosity=1), XGBRegressor(base_score=0.5, booster='gbtree', colsample_bylevel=1,\n",
      "       colsample_bynode=1, colsample_bytree=1, gamma=0,\n",
      "       importance_type='gain', learning_rate=0.1, max_delta_step=0,\n",
      "       max_depth=6, min_child_weight=1, missing=None, n_estimators=300,\n",
      "       n_jobs=-1, nthread=None, objective='reg:linear', random_seed=3,\n",
      "       random_state=0, reg_alpha=0, reg_lambda=1, scale_pos_weight=1,\n",
      "       seed=None, silent=None, subsample=0.7, verbosity=1), 0.48816836575278644, array([2.5680907, 2.2241852], dtype=float32), 0.1713248336954345)\n",
      "Best score:  0.48816836575278644\n"
     ]
    }
   ],
   "source": [
    "# get the sum of all the scores for each year\n",
    "summed_word_low = np.array(word_polarity_low['X'].map(lambda x: sum(x)))\n",
    "Sum_word_best = model_analysis(summed_word_low,np.array(word_polarity_low['y']))\n",
    "print(Sum_word_best)\n",
    "print('Best score: ',Sum_word_best[2])"
   ]
  }
 ],
 "metadata": {
  "kernelspec": {
   "display_name": "Python 3",
   "language": "python",
   "name": "python3"
  },
  "language_info": {
   "codemirror_mode": {
    "name": "ipython",
    "version": 3
   },
   "file_extension": ".py",
   "mimetype": "text/x-python",
   "name": "python",
   "nbconvert_exporter": "python",
   "pygments_lexer": "ipython3",
   "version": "3.7.1"
  }
 },
 "nbformat": 4,
 "nbformat_minor": 2
}
