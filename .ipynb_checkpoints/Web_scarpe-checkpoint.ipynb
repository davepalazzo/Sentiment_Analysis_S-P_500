{
 "cells": [
  {
   "cell_type": "code",
   "execution_count": 145,
   "metadata": {},
   "outputs": [],
   "source": [
    "import edgar\n",
    "import pandas as pd\n",
    "import requests\n",
    "import re\n",
    "from bs4 import BeautifulSoup as bsoup\n",
    "import numpy as np\n",
    "from collections import defaultdict"
   ]
  },
  {
   "cell_type": "markdown",
   "metadata": {},
   "source": [
    "The following blocks of code pulls MD&A sections from companies that file the MD&A disclosures in a seperate exhibit "
   ]
  },
  {
   "cell_type": "code",
   "execution_count": 115,
   "metadata": {},
   "outputs": [],
   "source": [
    "WFyears = [i for i in range(2013,2015)]\n",
    "WFresLst = ['https://www.sec.gov/Archives/edgar/data/72971/000007297114000337/wfc10k_20131231-ex13.htm','https://www.sec.gov/Archives/edgar/data/72971/000007297115000449/wfc-12312014xex13.htm','https://www.sec.gov/Archives/edgar/data/72971/000007297115000449/wfc-12312014xex13.htm']"
   ]
  },
  {
   "cell_type": "code",
   "execution_count": 116,
   "metadata": {},
   "outputs": [],
   "source": [
    "JJyears = [i for i in range(2007,2015)]\n",
    "JJyears.remove(2011)\n",
    "JJyears.remove(2010)\n",
    "JJresLst = ['https://www.sec.gov/Archives/edgar/data/200406/000095012308002130/y47910exv13.htm','https://www.sec.gov/Archives/edgar/data/200406/000095012309003187/y74152exv13.htm','https://www.sec.gov/Archives/edgar/data/200406/000095012310019392/y80744exv13.htm','https://www.sec.gov/Archives/edgar/data/200406/000020040615000004/ex13-form10xk20141228.htm']"
   ]
  },
  {
   "cell_type": "code",
   "execution_count": null,
   "metadata": {},
   "outputs": [],
   "source": [
    "WMyears = [i for i in range(2007,2012)]\n",
    "WMresLst = ['https://www.sec.gov/Archives/edgar/data/104169/000119312508071085/dex13.htm','https://www.sec.gov/Archives/edgar/data/104169/000010416909000006/dex13.htm','https://www.sec.gov/Archives/edgar/data/104169/000119312510071652/dex13.htm','https://www.sec.gov/Archives/edgar/data/104169/000119312511083157/dex13.htm','https://www.sec.gov/Archives/edgar/data/104169/000119312512134679/d270972dex13.htm','https://www.sec.gov/Archives/edgar/data/200406/000020040613000038/ex13-form10xk20121230.htm','https://www.sec.gov/Archives/edgar/data/200406/000020040614000033/ex13-form10xk20131229.htm','']"
   ]
  },
  {
   "cell_type": "code",
   "execution_count": 141,
   "metadata": {},
   "outputs": [],
   "source": [
    "GEyears = [2007]\n",
    "GEresLst = ['https://www.sec.gov/Archives/edgar/data/40545/000004054508000011/ex13.htm']"
   ]
  },
  {
   "cell_type": "code",
   "execution_count": 151,
   "metadata": {},
   "outputs": [],
   "source": [
    "def pullMDA(yearRange,compName, resLst):\n",
    "    '''Pulls MD&A text from exhibit 13 SEC website\n",
    "        Parameters: 1) yearRange - list of years\n",
    "                    2) resLst - list of SEC websites\n",
    "                    3) compName - string of company name\n",
    "        Returns: Tuple with year and MD&A text \n",
    "        '''\n",
    "    output = defaultdict()\n",
    "    for year in yearRange:\n",
    "        for site in resLst:\n",
    "            res = requests.get(site)\n",
    "            soup = bsoup(res.content,'html.parser')\n",
    "            text = soup.text\n",
    "            output[year] = (compName,text)\n",
    "            break\n",
    "    return output "
   ]
  },
  {
   "cell_type": "code",
   "execution_count": 152,
   "metadata": {},
   "outputs": [],
   "source": [
    "# GE\n",
    "GEtext = pullMDA(GEyears,'General Electric',GEresLst)"
   ]
  },
  {
   "cell_type": "code",
   "execution_count": 154,
   "metadata": {},
   "outputs": [],
   "source": [
    "# Wal-Mart\n",
    "WMtext = pullMDA(WMyears,'Wal-Mart',WMresLst)"
   ]
  },
  {
   "cell_type": "code",
   "execution_count": 155,
   "metadata": {
    "scrolled": true
   },
   "outputs": [],
   "source": [
    "# Johnson & Johnson\n",
    "JJtext = pullMDA(JJyears,'Johnson & Johnson',JJresLst)"
   ]
  },
  {
   "cell_type": "code",
   "execution_count": 156,
   "metadata": {},
   "outputs": [],
   "source": [
    "# Wells Fargo \n",
    "WFtext = pullMDA(WFyears,'Wells Fargo',WFresLst)"
   ]
  },
  {
   "cell_type": "code",
   "execution_count": 157,
   "metadata": {},
   "outputs": [],
   "source": [
    "dd = defaultdict(list)\n",
    "for d in (GEtext, WMtext,JJtext,WFtext): \n",
    "    for key, value in d.items():\n",
    "        dd[key].append(value)"
   ]
  },
  {
   "cell_type": "code",
   "execution_count": 162,
   "metadata": {},
   "outputs": [],
   "source": [
    "dfScrape = pd.DataFrame.from_dict(dd,orient='index')"
   ]
  },
  {
   "cell_type": "code",
   "execution_count": 166,
   "metadata": {},
   "outputs": [],
   "source": [
    "dfScrape = dfScrape.transpose()"
   ]
  },
  {
   "cell_type": "code",
   "execution_count": 130,
   "metadata": {},
   "outputs": [],
   "source": [
    "dfTop10[2000][3] = None\n",
    "dfTop10[2003][0]= None\n",
    "dfTop10[2006][7]= None\n",
    "dfTop10[2009][9]= None"
   ]
  },
  {
   "cell_type": "code",
   "execution_count": 168,
   "metadata": {},
   "outputs": [],
   "source": [
    "frames = [dfTop10, dfScrape]\n",
    "result = pd.concat(frames)"
   ]
  },
  {
   "cell_type": "code",
   "execution_count": 125,
   "metadata": {},
   "outputs": [],
   "source": [
    "dfTop10 = pd.read_pickle(\"./dfTop10.pkl\")"
   ]
  }
 ],
 "metadata": {
  "kernelspec": {
   "display_name": "Python 3",
   "language": "python",
   "name": "python3"
  },
  "language_info": {
   "codemirror_mode": {
    "name": "ipython",
    "version": 3
   },
   "file_extension": ".py",
   "mimetype": "text/x-python",
   "name": "python",
   "nbconvert_exporter": "python",
   "pygments_lexer": "ipython3",
   "version": "3.7.1"
  }
 },
 "nbformat": 4,
 "nbformat_minor": 2
}
