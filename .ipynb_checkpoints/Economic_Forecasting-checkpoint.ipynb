{
 "cells": [
  {
   "cell_type": "code",
   "execution_count": 1,
   "metadata": {},
   "outputs": [],
   "source": [
    "import pandas as pd \n",
    "import numpy as np\n",
    "import seaborn as sns\n",
    "import matplotlib.pyplot as plt\n",
    "from sklearn.feature_extraction.text import TfidfVectorizer\n",
    "from sklearn.model_selection import train_test_split\n",
    "import xgboost as xgb\n",
    "from textblob import TextBlob\n",
    "from cleanMDA import getXy\n",
    "from sklearn.metrics import mean_absolute_error\n",
    "from visuals import getCompFreq, get_GDP_visual\n",
    "from text_analysis import text_analysis_wordall, text_analysis_sentenceall, get_polarity, low_subjectivity, model_analysis, text_analysis_score"
   ]
  },
  {
   "cell_type": "markdown",
   "metadata": {},
   "source": [
    "The following analysis explores the predictive capacity of text data extracted from the financial statements of the most influential companies in the United States on percent change in gross domestic product (GDP). GDP is considered the broadest indicator of economic output and growth and is not only import for investor confidence but is used in the Federal Reserves decision making process for implementing monetary policy for the country. Current indicators used  for economic forecasting in the field of econometrics are vast and include unemployment rate, personal consumption expenditures, business investment, government spending, inflation, interest rates and net export of goods and services among others. While the field of econometrics has grown in recent years, economists have remained largely unsuccessful in consistently forecasting economic growth rates.\n",
    "   "
   ]
  },
  {
   "cell_type": "markdown",
   "metadata": {},
   "source": [
    "# Data Gathering"
   ]
  },
  {
   "cell_type": "markdown",
   "metadata": {},
   "source": [
    "The bulk of the data used in the analysis was gathered from the following sources: \n",
    "    - worldbank.org for GDP data\n",
    "    - sec.gov for 10-K text \n",
    "    \n",
    "Refer to the following notebook for additional details and the code used in gathering the data.\n",
    "[Data Gathering](scrape_top10_MDA.ipynb)\n",
    "\n",
    "Below is a look at the output of the notebook, which is organized by year and includes tuple pairs of company name and the uncleaned text gathered.\n"
   ]
  },
  {
   "cell_type": "code",
   "execution_count": 2,
   "metadata": {},
   "outputs": [
    {
     "data": {
      "text/html": [
       "<div>\n",
       "<style scoped>\n",
       "    .dataframe tbody tr th:only-of-type {\n",
       "        vertical-align: middle;\n",
       "    }\n",
       "\n",
       "    .dataframe tbody tr th {\n",
       "        vertical-align: top;\n",
       "    }\n",
       "\n",
       "    .dataframe thead th {\n",
       "        text-align: right;\n",
       "    }\n",
       "</style>\n",
       "<table border=\"1\" class=\"dataframe\">\n",
       "  <thead>\n",
       "    <tr style=\"text-align: right;\">\n",
       "      <th></th>\n",
       "      <th>2007</th>\n",
       "      <th>2008</th>\n",
       "      <th>2009</th>\n",
       "      <th>2010</th>\n",
       "      <th>2011</th>\n",
       "      <th>2012</th>\n",
       "      <th>2013</th>\n",
       "      <th>2014</th>\n",
       "      <th>2015</th>\n",
       "      <th>2016</th>\n",
       "      <th>2017</th>\n",
       "    </tr>\n",
       "  </thead>\n",
       "  <tbody>\n",
       "    <tr>\n",
       "      <th>0</th>\n",
       "      <td>(EXXON MOBIL CORP, [15.    EXHIBITS, FINANCIAL...</td>\n",
       "      <td>(EXXON MOBIL CORP, [15.    EXHIBITS, FINANCIAL...</td>\n",
       "      <td>(EXXON MOBIL CORP, [15.    EXHIBITS, FINANCIAL...</td>\n",
       "      <td>(EXXON MOBIL CORP, [15.    EXHIBITS, FINANCIAL...</td>\n",
       "      <td>(EXXON MOBIL CORP, [15. EXHIBITS, FINANCIAL ST...</td>\n",
       "      <td>(APPLE INC, [7 MANAGEMENTS DISCUSSION AND AN...</td>\n",
       "      <td>(Apple Inc., [7 MANAGEMENTS DISCUSSION AND A...</td>\n",
       "      <td>(Apple Inc., [7 MANAGEMENTS DISCUSSION AND AN...</td>\n",
       "      <td>(Apple Inc., [7 MANAGEMENTS DISCUSSION AND AN...</td>\n",
       "      <td>(Apple Inc., [7 MANAGEMENT’S DISCUSSION AND AN...</td>\n",
       "      <td>(Apple Inc., [7 MANAGEMENT’S DISCUSSION AND AN...</td>\n",
       "    </tr>\n",
       "    <tr>\n",
       "      <th>1</th>\n",
       "      <td>(GENERAL ELECTRIC CO, \\nEX-13\\n4\\nex13.htm\\n\\n...</td>\n",
       "      <td>(WALMART INC, \\nEX-13\\n3\\ndex13.htm\\nANNUAL RE...</td>\n",
       "      <td>(MICROSOFT CORP, [7     MANAGEMENTS DISCUSSIO...</td>\n",
       "      <td>(APPLE INC, [7 MANAGEMENTS DISCUSSION AND ANA...</td>\n",
       "      <td>(APPLE INC, [7 MANAGEMENTS DISCUSSION AND ANA...</td>\n",
       "      <td>(EXXON MOBIL CORP, [15.     EXHIBITS, FINANCIA...</td>\n",
       "      <td>(Exxon Mobil Corp., [15.     EXHIBITS, FINANCI...</td>\n",
       "      <td>(Exxon Mobil Corp., [15.     EXHIBITS, FINANCI...</td>\n",
       "      <td>(Alphabet Inc. Class A, [7MANAGEMENT’S DISCUSS...</td>\n",
       "      <td>(Alphabet Inc. Class A, [7MANAGEMENT’S DISCUSS...</td>\n",
       "      <td>(Alphabet Inc. Class A, [7MANAGEMENT’S DISCUSS...</td>\n",
       "    </tr>\n",
       "  </tbody>\n",
       "</table>\n",
       "</div>"
      ],
      "text/plain": [
       "                                                2007  \\\n",
       "0  (EXXON MOBIL CORP, [15.    EXHIBITS, FINANCIAL...   \n",
       "1  (GENERAL ELECTRIC CO, \\nEX-13\\n4\\nex13.htm\\n\\n...   \n",
       "\n",
       "                                                2008  \\\n",
       "0  (EXXON MOBIL CORP, [15.    EXHIBITS, FINANCIAL...   \n",
       "1  (WALMART INC, \\nEX-13\\n3\\ndex13.htm\\nANNUAL RE...   \n",
       "\n",
       "                                                2009  \\\n",
       "0  (EXXON MOBIL CORP, [15.    EXHIBITS, FINANCIAL...   \n",
       "1  (MICROSOFT CORP, [7     MANAGEMENTS DISCUSSIO...   \n",
       "\n",
       "                                                2010  \\\n",
       "0  (EXXON MOBIL CORP, [15.    EXHIBITS, FINANCIAL...   \n",
       "1  (APPLE INC, [7 MANAGEMENTS DISCUSSION AND ANA...   \n",
       "\n",
       "                                                2011  \\\n",
       "0  (EXXON MOBIL CORP, [15. EXHIBITS, FINANCIAL ST...   \n",
       "1  (APPLE INC, [7 MANAGEMENTS DISCUSSION AND ANA...   \n",
       "\n",
       "                                                2012  \\\n",
       "0  (APPLE INC, [7 MANAGEMENTS DISCUSSION AND AN...   \n",
       "1  (EXXON MOBIL CORP, [15.     EXHIBITS, FINANCIA...   \n",
       "\n",
       "                                                2013  \\\n",
       "0  (Apple Inc., [7 MANAGEMENTS DISCUSSION AND A...   \n",
       "1  (Exxon Mobil Corp., [15.     EXHIBITS, FINANCI...   \n",
       "\n",
       "                                                2014  \\\n",
       "0  (Apple Inc., [7 MANAGEMENTS DISCUSSION AND AN...   \n",
       "1  (Exxon Mobil Corp., [15.     EXHIBITS, FINANCI...   \n",
       "\n",
       "                                                2015  \\\n",
       "0  (Apple Inc., [7 MANAGEMENTS DISCUSSION AND AN...   \n",
       "1  (Alphabet Inc. Class A, [7MANAGEMENT’S DISCUSS...   \n",
       "\n",
       "                                                2016  \\\n",
       "0  (Apple Inc., [7 MANAGEMENT’S DISCUSSION AND AN...   \n",
       "1  (Alphabet Inc. Class A, [7MANAGEMENT’S DISCUSS...   \n",
       "\n",
       "                                                2017  \n",
       "0  (Apple Inc., [7 MANAGEMENT’S DISCUSSION AND AN...  \n",
       "1  (Alphabet Inc. Class A, [7MANAGEMENT’S DISCUSS...  "
      ]
     },
     "execution_count": 2,
     "metadata": {},
     "output_type": "execute_result"
    }
   ],
   "source": [
    "dftop10 = pd.read_pickle('Top10_final.pkl')\n",
    "dftop10.head(2)"
   ]
  },
  {
   "cell_type": "markdown",
   "metadata": {},
   "source": [
    "We chose to pull the top 10 companies from the S&P 500 based on market capitalization for a number of reasons. First, given our computational resources pulling data from all companies was not realistic. Additionally, our hypothesis is that the companies that account for the largest market share will be the most influential in predicting economic growth.  \n",
    "\n",
    "Moreover, we have limited our analysis to the Management Disclosure and Analysis (MD&A) section of the companies annual 10-K filling. All public companies are required to file annual financial reports to the SEC. These reports contain the financial statements for the company as well as a large corpora of text data. Much of the 10-K report is full of boilerplate language the context of which is heavily regulated. The MD&A section gives management the most leeway to discuss the vitality and current and future earnings prospects for the company. This section is widely used by financial analysists and investors. "
   ]
  },
  {
   "cell_type": "markdown",
   "metadata": {},
   "source": [
    "# Data Cleaning"
   ]
  },
  {
   "cell_type": "markdown",
   "metadata": {},
   "source": [
    "Our next step in the process was to clean the text data in preparation for analysis. The following link provides the code and details of the process, which includes lemmatizing and removing punctuation.\n",
    "\n",
    "[Data Cleaning](Clean_MDAtext.ipynb)\n",
    "\n"
   ]
  },
  {
   "cell_type": "markdown",
   "metadata": {},
   "source": [
    "# Data Exploration"
   ]
  },
  {
   "cell_type": "markdown",
   "metadata": {},
   "source": [
    "Below is a look at our response variable over time. We chose to use annual percentage growth rate of GDP based constant US currency. This is among the most widely cited figures for assessing the health of a country's economy."
   ]
  },
  {
   "cell_type": "code",
   "execution_count": 3,
   "metadata": {
    "scrolled": true
   },
   "outputs": [
    {
     "data": {
      "text/plain": [
       "Text(0.5, 1.0, 'Percent Change of GDP from 2007-2017')"
      ]
     },
     "execution_count": 3,
     "metadata": {},
     "output_type": "execute_result"
    },
    {
     "data": {
      "image/png": "[encoded data removed]",
      "text/plain": [
       "<Figure size 432x288 with 1 Axes>"
      ]
     },
     "metadata": {
      "needs_background": "light"
     },
     "output_type": "display_data"
    }
   ],
   "source": [
    "dfGDP = pd.read_csv('gdp_annual.csv')\n",
    "df_GDP = get_GDP_visual(dfGDP)\n",
    "df_GDP.plot(linewidth=4)\n",
    "plt.grid(True)\n",
    "plt.axhline(y=0,color='black',linestyle='-',lw=1)\n",
    "plt.xlabel('Year')\n",
    "plt.ylabel('GDP')\n",
    "plt.title('Percent Change of GDP from 2007-2017')"
   ]
  },
  {
   "cell_type": "markdown",
   "metadata": {},
   "source": [
    "We can clearly see the affect of the financial crisis of 2008/2009 on GDP. We would expect to see more negative sentiment in our text data from these years. For the remaining years we can see relatively small fluctuations and steady positive growth rates. \n",
    "\n",
    "Next, we will explore the companies that appear most frequently in our analysis. There are a number of companies that appear over multiple years, most notably Exxon Mobil and Microsoft are in all 11 years. "
   ]
  },
  {
   "cell_type": "code",
   "execution_count": 4,
   "metadata": {},
   "outputs": [
    {
     "data": {
      "text/plain": [
       "Text(0.5, 1.0, 'Frequency of Companies in the Top 10')"
      ]
     },
     "execution_count": 4,
     "metadata": {},
     "output_type": "execute_result"
    },
    {
     "data": {
      "image/png": "[encoded data removed]",
      "text/plain": [
       "<Figure size 432x288 with 1 Axes>"
      ]
     },
     "metadata": {
      "needs_background": "light"
     },
     "output_type": "display_data"
    }
   ],
   "source": [
    "df_freq = getCompFreq(dftop10)\n",
    "g = sns.barplot(x=\"Number of Years\", y = 'Company Name', data=df_freq)\n",
    "plt.title('Frequency of Companies in the Top 10')"
   ]
  },
  {
   "cell_type": "markdown",
   "metadata": {},
   "source": [
    "# Hypothesis and Initial Modeling"
   ]
  },
  {
   "cell_type": "markdown",
   "metadata": {},
   "source": [
    "Our hypothesis is that the text from the MD&A section of the top US companies provides significant predictive value for GDP. \n",
    "\n",
    "First we will combine our cleaned MDA text and our $y$ variable, GDP percent change."
   ]
  },
  {
   "cell_type": "code",
   "execution_count": null,
   "metadata": {},
   "outputs": [
    {
     "data": {
      "text/html": [
       "<div>\n",
       "<style scoped>\n",
       "    .dataframe tbody tr th:only-of-type {\n",
       "        vertical-align: middle;\n",
       "    }\n",
       "\n",
       "    .dataframe tbody tr th {\n",
       "        vertical-align: top;\n",
       "    }\n",
       "\n",
       "    .dataframe thead th {\n",
       "        text-align: right;\n",
       "    }\n",
       "</style>\n",
       "<table border=\"1\" class=\"dataframe\">\n",
       "  <thead>\n",
       "    <tr style=\"text-align: right;\">\n",
       "      <th></th>\n",
       "      <th>X</th>\n",
       "      <th>y</th>\n",
       "    </tr>\n",
       "  </thead>\n",
       "  <tbody>\n",
       "    <tr>\n",
       "      <th>2007</th>\n",
       "      <td>exhibit financial statement schedule financial...</td>\n",
       "      <td>1.77857</td>\n",
       "    </tr>\n",
       "    <tr>\n",
       "      <th>2008</th>\n",
       "      <td>exhibit financial statement schedule financial...</td>\n",
       "      <td>-0.291621</td>\n",
       "    </tr>\n",
       "    <tr>\n",
       "      <th>2009</th>\n",
       "      <td>exhibit financial statement schedule financial...</td>\n",
       "      <td>-2.77553</td>\n",
       "    </tr>\n",
       "  </tbody>\n",
       "</table>\n",
       "</div>"
      ],
      "text/plain": [
       "                                                      X         y\n",
       "2007  exhibit financial statement schedule financial...   1.77857\n",
       "2008  exhibit financial statement schedule financial... -0.291621\n",
       "2009  exhibit financial statement schedule financial...  -2.77553"
      ]
     },
     "execution_count": 5,
     "metadata": {},
     "output_type": "execute_result"
    }
   ],
   "source": [
    "dfClean = pd.read_pickle(\"Cleaned_MDA.pkl\")\n",
    "dfClean = getXy(dfClean)\n",
    "dfClean.head(3)"
   ]
  },
  {
   "cell_type": "markdown",
   "metadata": {},
   "source": [
    "Given the number of years in our analysis is somewhat limited, we will use kfold cross validation to fit the model."
   ]
  },
  {
   "cell_type": "code",
   "execution_count": null,
   "metadata": {},
   "outputs": [],
   "source": [
    "from sklearn.model_selection import KFold\n",
    "\n",
    "kfold = KFold(n_splits=5, shuffle=True, random_state=2)\n",
    "kf = KFold(n_splits=5, random_state=2, shuffle=True)\n",
    "X = np.array(dfClean['X'])\n",
    "y = np.array(dfClean['y'])\n",
    "for train_index, test_index in kf.split(X):\n",
    "    X_train, X_test = X[train_index], X[test_index]\n",
    "    y_train, y_test = y[train_index], y[test_index]"
   ]
  },
  {
   "cell_type": "markdown",
   "metadata": {},
   "source": [
    "We'll start by using word embeddings to try to pick up patterns in the text to predict GDP. After experimenting with different ngrams and found an ngram equal to (1,3) provides the best results. This model will consider ngrams of length 1 through length 3.  "
   ]
  },
  {
   "cell_type": "code",
   "execution_count": null,
   "metadata": {},
   "outputs": [],
   "source": [
    "vectorizer = TfidfVectorizer(ngram_range=(1, 3),max_df=.85)\n",
    "train_X_vec = vectorizer.fit_transform(X_train).toarray()\n",
    "test_X_vec = vectorizer.transform(X_test).toarray()"
   ]
  },
  {
   "cell_type": "markdown",
   "metadata": {},
   "source": [
    "After experimenting with several models including linear and stochastic gradient descent regression, we found XG Boost to provide the best results."
   ]
  },
  {
   "cell_type": "code",
   "execution_count": null,
   "metadata": {},
   "outputs": [],
   "source": [
    "model = xgb.XGBRegressor()\n",
    "model.fit(train_X_vec, y_train)"
   ]
  },
  {
   "cell_type": "markdown",
   "metadata": {},
   "source": [
    "Let's see how we did..."
   ]
  },
  {
   "cell_type": "code",
   "execution_count": null,
   "metadata": {},
   "outputs": [],
   "source": [
    "print(y_test)\n",
    "y_pred = model.predict(test_X_vec)\n",
    "print(y_pred)\n",
    "print(model.score(test_X_vec, y_test))\n",
    "print(mean_absolute_error(y_test, y_pred))"
   ]
  },
  {
   "cell_type": "markdown",
   "metadata": {},
   "source": [
    "We can see the actual GDP from the test data is 2.9 and 2.3 for the years 2015 and 2017 respectively and our predicted GDP of 2.5 and 1.5. We will use two metrics in the evaluation of models, mean absolute error (MAE) and $R^2$, refer to the formulaic expressions below. We choose to assess MAE over RMAE based on the increased interpretability of results that MAE provides. \n",
    "\n",
    "We can see from the above model the MAE is 0.57 with an $R^2$ of -3.2. The negative $R^2$ value tells our model performs worse than using the mean to make predictions on new y values. Clearly not a good result and we will need to explore a different method but use this as a baseline in order to compare results."
   ]
  },
  {
   "cell_type": "markdown",
   "metadata": {},
   "source": [
    "${MAE}(y, \\hat{y}) = \\frac{1}{n_{\\text{samples}}} \\sum_{i=0}^{n_{\\text{samples}}-1} \\left| y_i - \\hat{y}_i \\right|$"
   ]
  },
  {
   "cell_type": "markdown",
   "metadata": {},
   "source": [
    "$R^2(y, \\hat{y})$ = 1 - $\\frac{\\sum_{i=1}^{n} (y_i - \\hat{y}_i)^2}{\\sum_{i=1}^{n} (y_i - \\bar{y})^2}$ <br>\n",
    "Where... <br>\n",
    "\n",
    "$\\bar{y}$ = $\\frac{1}{n} \\sum_{i=1}^{n} y_i$ <br>\n",
    "\n",
    "$\\sum_{i=1}^{n} (y_i - \\hat{y}_i)^2 = \\sum_{i=1}^{n} \\epsilon_i^2$"
   ]
  },
  {
   "cell_type": "markdown",
   "metadata": {},
   "source": [
    "# Sentiment Analysis"
   ]
  },
  {
   "cell_type": "markdown",
   "metadata": {},
   "source": [
    "Our word embedding does not seem to be picking up on predictive patterns in the dataset, we'll now explore using sentiment analysis. For this work we will utilize the python library TextBlob, which returns a sentiment polarity score and a subjectivity score. The polarity score is a float value between -1 and 1, where -1 is highly negative and 1 is highly positive. The subjectivity score is from 0 to 1, where 1 is highly subjective and 0 is highly objective. "
   ]
  },
  {
   "cell_type": "markdown",
   "metadata": {},
   "source": [
    "The link provides the code for creating the pickled files seen in the analysis below [Model Analysis](Model_Analysis.ipynb)"
   ]
  },
  {
   "cell_type": "markdown",
   "metadata": {},
   "source": [
    "Let's take a look at an example..."
   ]
  },
  {
   "cell_type": "code",
   "execution_count": null,
   "metadata": {},
   "outputs": [],
   "source": [
    "wordAnalysis = pd.read_pickle(\"word_analysis.pkl\")"
   ]
  },
  {
   "cell_type": "code",
   "execution_count": null,
   "metadata": {},
   "outputs": [],
   "source": [
    "print(wordAnalysis['X'][0][1000])\n",
    "print(wordAnalysis['X'][0][10002])"
   ]
  },
  {
   "cell_type": "markdown",
   "metadata": {},
   "source": [
    "The first value given in each tuple is the polarity and the second is the subjectivity. We can see the two random words above have relatively low weights for both scores. "
   ]
  },
  {
   "cell_type": "markdown",
   "metadata": {},
   "source": [
    "We'll run sentiment analysis on an individual sentence level and a separate analysis using individual words using polarity scores.  We will remove words that have a score of 0 polarity, as these words do not factor into the overall polarity of a text. We'll use the ensemble method, XGBoost algorithm to make predictions."
   ]
  },
  {
   "cell_type": "markdown",
   "metadata": {},
   "source": [
    "**Individual Words**"
   ]
  },
  {
   "cell_type": "code",
   "execution_count": null,
   "metadata": {},
   "outputs": [],
   "source": [
    "# Extract the polarity values to run on individual scores and the summed scores\n",
    "word_polarity = get_polarity(wordAnalysis.copy())\n",
    "\n",
    "# split Xs into individual columns and run analysis\n",
    "word_split_Xs = pd.DataFrame(word_polarity.X.tolist())\n",
    "word_split = model_analysis(np.array(word_split_Xs),np.array(word_polarity['y']))\n",
    "\n",
    "# get the sum of all the scores for each year and run analysis\n",
    "summed_word = np.array(word_polarity['X'].map(lambda x: sum(x)))\n",
    "Sum_word = model_analysis(summed_word,np.array(word_polarity['y']))"
   ]
  },
  {
   "cell_type": "markdown",
   "metadata": {},
   "source": [
    "**Individual Sentences**"
   ]
  },
  {
   "cell_type": "code",
   "execution_count": null,
   "metadata": {},
   "outputs": [],
   "source": [
    "analysis_sentence = pd.read_pickle('sentence_analysis.pkl')\n",
    "# Extract the polarity values to run on individual scores and the summed scores\n",
    "sentence_polarity = get_polarity(analysis_sentence)\n",
    "\n",
    "# split Xs into individual columns and run analysis\n",
    "sentences_split_Xs = pd.DataFrame(sentence_polarity.X.tolist())\n",
    "sentence_split = model_analysis(np.array(sentences_split_Xs),np.array(sentence_polarity['y']))\n",
    "\n",
    "# get the sum of all the scores for each year and run analysis\n",
    "summed_sentence = np.array(sentence_polarity['X'].map(lambda x: sum(x)))\n",
    "Sum_sentence = model_analysis(summed_sentence,np.array(sentence_polarity['y']))"
   ]
  },
  {
   "cell_type": "markdown",
   "metadata": {},
   "source": [
    "Now that we have fit the different models, let's see how the $R^2$ scores compare..."
   ]
  },
  {
   "cell_type": "code",
   "execution_count": null,
   "metadata": {},
   "outputs": [],
   "source": [
    "models = [word_split,Sum_word,sentence_split,Sum_sentence]\n",
    "name = ['word_split','Sum_word','sentence_split','Sum_sentence']\n",
    "for i in range(len(models)):\n",
    "    print(name[i],models[i][2])"
   ]
  },
  {
   "cell_type": "markdown",
   "metadata": {},
   "source": [
    "Again we can see that the models are not performing any better than what could be achieved by only predicting the mean values. However, it looks like summed version of individual words is performing the best."
   ]
  },
  {
   "cell_type": "markdown",
   "metadata": {},
   "source": [
    "Let's take another look at some words with higher subjectivity..."
   ]
  },
  {
   "cell_type": "code",
   "execution_count": null,
   "metadata": {},
   "outputs": [],
   "source": [
    "print(wordAnalysis['X'][0][105])\n",
    "print(wordAnalysis['X'][0][143])"
   ]
  },
  {
   "cell_type": "markdown",
   "metadata": {},
   "source": [
    "Note that the two words above score very high in subjectivity, this makes sense as the polarity of the individual word is not clear without context. The word crude is especially noteworthy, in an oil and gas context this word is typically used to reference crude oil and gas. Of course, this does not imply negativity in this context. We have seen above in the data exploration section, oil and gas companies Exxon Mobil and Chevron appear in numerous years of analysis. <br>\n",
    "\n",
    "To take this into consideration we'll remove highly subjective words, those with scores 0.9 and greater. Refer to the table below for the word counts before any removal, the removal of the zero polarity scores, and the removal of the high subjectivity scores and the words dropped from each stage"
   ]
  },
  {
   "cell_type": "code",
   "execution_count": null,
   "metadata": {},
   "outputs": [],
   "source": [
    "word_count = pd.read_pickle(\"Word_count.pkl\")\n",
    "word_count"
   ]
  },
  {
   "cell_type": "markdown",
   "metadata": {},
   "source": [
    "**Visual Exploration of Transformed Data**"
   ]
  },
  {
   "cell_type": "markdown",
   "metadata": {},
   "source": [
    "Let's take a look at the frequency of positive and negative sentiment..."
   ]
  },
  {
   "cell_type": "code",
   "execution_count": null,
   "metadata": {},
   "outputs": [],
   "source": [
    "freqSent = pd.read_pickle(\"pos_neg_count.pkl\")\n",
    "\n",
    "x = [i for i in range(2007,2018)]\n",
    "freqSent['Year'] = x\n",
    "\n",
    "sns.set(style=\"darkgrid\")\n",
    "sns.lineplot(x='Year', y = 'Positive', \n",
    "            data=freqSent)\n",
    "sns.lineplot(x='Year', y= 'Negative', data = freqSent).set(ylabel='Frequency')\n",
    "plt.title('Negative and Positive Frequency per Year')\n",
    "plt.legend(['Positive','Negative'])"
   ]
  },
  {
   "cell_type": "markdown",
   "metadata": {},
   "source": [
    "The above graph shows the frequency count of positive and negative words per year. We can see for the majority of years, positive words appear more frequently than negative words. However, this is flipped in 2008, 2009 and 2016. This is expected in 2009 and 2010 however this change is unusual for the year 2016. One explanation for this could be the small company sample size included in the analysis. By narrowing the sentiment analysis to the top ten companies, variability in individual companies can have a large impact on the overall results. Alternatively, the negative sentiment may be picking up on other non-economic factors such as political changes and uncertainty.  \n",
    "\n",
    "Now let's take a look at the ratio of negative to positive sentiment per year..."
   ]
  },
  {
   "cell_type": "code",
   "execution_count": null,
   "metadata": {},
   "outputs": [],
   "source": [
    "freqSent['Percent Negative'] = freqSent['Negative']/(freqSent['Negative']+freqSent['Positive'])"
   ]
  },
  {
   "cell_type": "code",
   "execution_count": null,
   "metadata": {},
   "outputs": [],
   "source": [
    "sns.lineplot(x='Year', y = 'Percent Negative', \n",
    "            data=freqSent)\n",
    "plt.title('Percent Negative Text by Year')"
   ]
  },
  {
   "cell_type": "markdown",
   "metadata": {},
   "source": [
    "Again, we see increases in the percent negative in 2008, 2009 and 2016. <br>\n",
    "\n",
    "Now we'll take a look at the total scores opposed to frequency..."
   ]
  },
  {
   "cell_type": "code",
   "execution_count": null,
   "metadata": {},
   "outputs": [],
   "source": [
    "sum_score = pd.read_pickle(\"pos_neg_sum.pkl\")\n",
    "x = [i for i in range(2007,2018)]\n",
    "sum_score['Year'] = x\n",
    "\n",
    "sns.set(style=\"darkgrid\")\n",
    "sns.lineplot(x='Year', y = 'Positive',\n",
    "            data=sum_score)\n",
    "sns.lineplot(x='Year', y= 'Negative', data = sum_score).set(ylabel='Score')\n",
    "sns.lineplot(x='Year', y= 'Total', data = sum_score).set(ylabel='Score')\n",
    "plt.title('Negative, Positive and Total Score per Year')\n",
    "plt.legend(['Positive','Negative','Total'])"
   ]
  },
  {
   "cell_type": "markdown",
   "metadata": {},
   "source": [
    "Let's take a closer look at the total score..."
   ]
  },
  {
   "cell_type": "code",
   "execution_count": null,
   "metadata": {},
   "outputs": [],
   "source": [
    "sns.lineplot(x='Year', y= 'Total', data = sum_score).set(ylabel='Total Score')\n",
    "plt.title('Total Score per Year')"
   ]
  },
  {
   "cell_type": "markdown",
   "metadata": {},
   "source": [
    "We can see from the plot above the sum of the companies score for each year. Overall, the scores are all positive, which is to be expected given that it is in the company's interest to report results in the most positive light possible. The results are within expectations given the economic conditions in the respective years with the exception of 2016 where we see a significant fall in the overall score. \n",
    "\n",
    "Now we will take a look at the year over year polarity distributions..."
   ]
  },
  {
   "cell_type": "code",
   "execution_count": null,
   "metadata": {},
   "outputs": [],
   "source": [
    "analysis_word = pd.read_pickle('word_analysis.pkl')\n",
    "\n",
    "# the best parameters of the dataset for the model\n",
    "word_polarity_low = low_subjectivity(analysis_word)\n",
    "split_Xs = pd.DataFrame(word_polarity_low.X.tolist())\n",
    "split_Xs.fillna(value=-2, inplace=True)"
   ]
  },
  {
   "cell_type": "code",
   "execution_count": null,
   "metadata": {},
   "outputs": [],
   "source": [
    "sns.distplot(split_Xs.iloc[:1],bins=12)\n",
    "plt.xlim(-1, 1)\n",
    "plt.ylim(None,3.3)\n",
    "plt.grid(True)\n",
    "plt.xlabel('Polarity Score')\n",
    "plt.ylabel('Frequency')\n",
    "plt.title('Distribution of the Sentitment Polarity Scores from 2007')"
   ]
  },
  {
   "cell_type": "code",
   "execution_count": null,
   "metadata": {},
   "outputs": [],
   "source": [
    "sns.distplot(split_Xs.iloc[1:2],bins=30)\n",
    "plt.xlim(-1, 1)\n",
    "plt.ylim(None,3.3)\n",
    "plt.grid(True)\n",
    "plt.xlabel('Polarity Score')\n",
    "plt.ylabel('Frequency')\n",
    "plt.title('Distribution of the Sentitment Polarity Scores from 2008')"
   ]
  },
  {
   "cell_type": "code",
   "execution_count": null,
   "metadata": {},
   "outputs": [],
   "source": [
    "sns.distplot(split_Xs.iloc[2:3],bins=30)\n",
    "plt.xlim(-1, 1)\n",
    "plt.ylim(None,3.3)\n",
    "plt.grid(True)\n",
    "plt.xlabel('Polarity Score')\n",
    "plt.ylabel('Frequency')\n",
    "plt.title('Distribution of the Sentitment Polarity Scores from 2009')"
   ]
  },
  {
   "cell_type": "code",
   "execution_count": null,
   "metadata": {},
   "outputs": [],
   "source": [
    "sns.distplot(split_Xs.iloc[3:4],bins=15)\n",
    "plt.xlim(-1, 1)\n",
    "plt.ylim(None,3.3)\n",
    "plt.grid(True)\n",
    "plt.xlabel('Polarity Score')\n",
    "plt.ylabel('Frequency')\n",
    "plt.title('Distribution of the Sentitment Polarity Scores from 2010')"
   ]
  },
  {
   "cell_type": "code",
   "execution_count": null,
   "metadata": {},
   "outputs": [],
   "source": [
    "sns.distplot(split_Xs.iloc[4:5],bins=15)\n",
    "plt.xlim(-1, 1)\n",
    "plt.ylim(None,3.3)\n",
    "plt.grid(True)\n",
    "plt.xlabel('Polarity Score')\n",
    "plt.ylabel('Frequency')\n",
    "plt.title('Distribution of the Sentitment Polarity Scores from 2011')"
   ]
  },
  {
   "cell_type": "markdown",
   "metadata": {},
   "source": [
    "We can see some interesting trends from 2007 through 2011. The polarity scores resemble that of a flattened normal distribution in 2007, 2010 and 2011, these years had positive GDP growth. When we look at the years 2008 and 2009, the years of negative GDP growth, we see a multimodal distribution with three distinct peaks. The most significant and sharpest peak is a negative polarity of around -0.1 for both years.   "
   ]
  },
  {
   "cell_type": "code",
   "execution_count": null,
   "metadata": {},
   "outputs": [],
   "source": [
    "sns.distplot(split_Xs.iloc[5:6],bins=20)\n",
    "plt.xlim(-1, 1)\n",
    "plt.ylim(None,3.3)\n",
    "plt.grid(True)\n",
    "plt.xlabel('Polarity Score')\n",
    "plt.ylabel('Frequency')\n",
    "plt.title('Distribution of the Sentitment Polarity Scores from 2012')"
   ]
  },
  {
   "cell_type": "code",
   "execution_count": null,
   "metadata": {},
   "outputs": [],
   "source": [
    "sns.distplot(split_Xs.iloc[6:7],bins=25)\n",
    "plt.xlim(-1, 1)\n",
    "plt.ylim(None,3.3)\n",
    "plt.grid(True)\n",
    "plt.xlabel('Polarity Score')\n",
    "plt.ylabel('Frequency')\n",
    "plt.title('Distribution of the Sentitment Polarity Scores from 2013')"
   ]
  },
  {
   "cell_type": "code",
   "execution_count": null,
   "metadata": {},
   "outputs": [],
   "source": [
    "sns.distplot(split_Xs.iloc[7:8],bins=20)\n",
    "plt.xlim(-1, 1)\n",
    "plt.ylim(None,3.3)\n",
    "plt.grid(True)\n",
    "plt.xlabel('Polarity Score')\n",
    "plt.ylabel('Frequency')\n",
    "plt.title('Distribution of the Sentitment Polarity Scores from 2014')"
   ]
  },
  {
   "cell_type": "code",
   "execution_count": null,
   "metadata": {},
   "outputs": [],
   "source": [
    "sns.distplot(split_Xs.iloc[8:9],bins=20)\n",
    "plt.xlim(-1, 1)\n",
    "plt.ylim(None,3.3)\n",
    "plt.grid(True)\n",
    "plt.xlabel('Polarity Score')\n",
    "plt.ylabel('Frequency')\n",
    "plt.title('Distribution of the Sentitment Polarity Scores from 2015')"
   ]
  },
  {
   "cell_type": "code",
   "execution_count": null,
   "metadata": {},
   "outputs": [],
   "source": [
    "sns.distplot(split_Xs.iloc[9:10],bins=20)\n",
    "plt.xlim(-1, 1)\n",
    "plt.ylim(None,3.3)\n",
    "plt.grid(True)\n",
    "plt.xlabel('Polarity Score')\n",
    "plt.ylabel('Frequency')\n",
    "plt.title('Distribution of the Sentitment Polarity Scores from 2016')"
   ]
  },
  {
   "cell_type": "code",
   "execution_count": null,
   "metadata": {},
   "outputs": [],
   "source": [
    "sns.distplot(split_Xs.iloc[10:],bins=20)\n",
    "plt.xlim(-1, 1)\n",
    "plt.grid(True)\n",
    "plt.xlabel('Polarity Score')\n",
    "plt.ylabel('Frequency')\n",
    "plt.title('Distribution of the Sentitment Polarity Scores from 2017')"
   ]
  },
  {
   "cell_type": "markdown",
   "metadata": {},
   "source": [
    "Interestingly, 2012 through 2017 are multimodal distributions that are similar to the years of negative GDP growth in 2008 and 2009. If we focus on the height of the negative peak, we can notice higher peaks of around 2.5 to 3.3 in the years 2013, 2016 and 2017. Whereas, the peak in 2014 and 2015 is lower around 2.0. The lower negative polarity seems to align with a growing GDP in 2014 and 2015, however our distribution for 2017 shows the highest and most dramatic increase in negative polarity. In the year 2017 we also see an increase in the positive peaks, which is why we see an overall high positive score for 2017. "
   ]
  },
  {
   "cell_type": "markdown",
   "metadata": {},
   "source": [
    "### Model and Evaluation "
   ]
  },
  {
   "cell_type": "markdown",
   "metadata": {},
   "source": [
    "In the initial models of sentiment anlaysis ran above, we saw that summed version of individual words performed the best. With that in mind, we focused on that data to run our model on. We again run sentiment analysis on just individual words, this time excluding the words that have a high subjectivity, 0.9 or greater. "
   ]
  },
  {
   "cell_type": "code",
   "execution_count": null,
   "metadata": {},
   "outputs": [],
   "source": [
    "analysis_word = pd.read_pickle('word_analysis.pkl')\n",
    "# the best parameters of the dataset for the model\n",
    "word_polarity_low = low_subjectivity(analysis_word)\n",
    "\n",
    "# get the sum of all the scores for each year\n",
    "summed_word_low = np.array(word_polarity_low['X'].map(lambda x: sum(x)))\n"
   ]
  },
  {
   "cell_type": "markdown",
   "metadata": {},
   "source": [
    "We fit the summed version of individual words excluding high subjectivity on the XGBoost model and the results were..."
   ]
  },
  {
   "cell_type": "code",
   "execution_count": null,
   "metadata": {},
   "outputs": [],
   "source": [
    "Sum_word_best = model_analysis(summed_word_low,np.array(word_polarity_low['y']))\n",
    "print('Best score: ',Sum_word_best[2])\n",
    "print('MAE: ', Sum_word_best[4])\n",
    "print('Actual y: ',Sum_word_best[5],'Predicted y: ',Sum_word_best[3])"
   ]
  },
  {
   "cell_type": "markdown",
   "metadata": {},
   "source": [
    "The model provided us with our best $R^2$ score of 0.488. With the predicted y values of 2.57 and 2.22 for 2015 and 2017 resepctively, and the actual percent change of GDP being 2.86 and 2.27. <br>\n",
    "\n",
    "Removing words with higher subjectivity and zero polarity significantly increased the explanatory power of the model. With a mean absolute error of just 0.17 our model appears to have picked up on patterns in the underlying sentiment each year as it relates to GDP. "
   ]
  },
  {
   "cell_type": "markdown",
   "metadata": {},
   "source": [
    "# Conclusion"
   ]
  },
  {
   "cell_type": "markdown",
   "metadata": {},
   "source": [
    "While our final model's $R^2$ score is not exceptional, the model's MAE is quite impressive. Based on the results further investigation into the predictive capabilities of sentiment in public companies on GDP is warranted. <br>\n",
    "\n",
    "While the results produced in this report are promising, we should keep in mind several limiting factors to our analysis. First of all, the volume of data as far as number of years and number of companies is low. We would expect the addition of more S&P 500 companies to normalize the distributions and potentially lead to more accurate and robust models. Since the company size is small, company specific fluctuations in sentiment year over year have a significant impact on the overall distribution and these may not be indicative of economic growth. Moreover, the number of years in this report is limited to 2007-2017. More years would allow for increased training and validation data. <br>\n",
    "\n",
    "With these limiting factors in mind, we can be cautiously optimistic of the GDP predicting capability of future models trained on the sentiment of S&P 500 companies."
   ]
  }
 ],
 "metadata": {
  "kernelspec": {
   "display_name": "Python 3",
   "language": "python",
   "name": "python3"
  },
  "language_info": {
   "codemirror_mode": {
    "name": "ipython",
    "version": 3
   },
   "file_extension": ".py",
   "mimetype": "text/x-python",
   "name": "python",
   "nbconvert_exporter": "python",
   "pygments_lexer": "ipython3",
   "version": "3.7.1"
  }
 },
 "nbformat": 4,
 "nbformat_minor": 2
}
