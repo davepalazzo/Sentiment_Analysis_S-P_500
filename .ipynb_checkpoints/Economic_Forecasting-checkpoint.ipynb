{
 "cells": [
  {
   "cell_type": "code",
   "execution_count": 47,
   "metadata": {},
   "outputs": [],
   "source": [
    "import pandas as pd \n",
    "import numpy as np\n",
    "import seaborn as sns\n",
    "import matplotlib.pyplot as plt\n",
    "from sklearn.feature_extraction.text import TfidfVectorizer\n",
    "from sklearn.model_selection import train_test_split\n",
    "import xgboost as xgb\n",
    "from textblob import TextBlob\n",
    "from cleanMDA import getXy\n",
    "from sklearn.metrics import mean_absolute_error\n",
    "from visuals import getCompFreq, get_GDP_visual"
   ]
  },
  {
   "cell_type": "markdown",
   "metadata": {},
   "source": [
    "The following analysis explores the predictive capacity of text data extracted from the finanical statements of the most influential companies in the United States on percent change in gross domestic product (GDP). GDP is considered the broadest indicator of economic output and growth and is not only import for investor confidence but is used in the Federal Reserves decision making process for implementing monetary policy for the country. Current indicators used  for economic forecasting in the field of econometrics are vast and include unemployment rate, personal consumption expenditures, business investment, governement spending, inflation, interest rates and net export of goods and services among others. While the field of economietrics has grown in recent years, economists have remained largely unsucessful in consistantly forecasting economic growth rates. \n",
    "   "
   ]
  },
  {
   "cell_type": "markdown",
   "metadata": {},
   "source": [
    "**Data Gathering**"
   ]
  },
  {
   "cell_type": "markdown",
   "metadata": {},
   "source": [
    "The bulk of the data used in the analysis was gathered from the following sources: \n",
    "    - worldbank.org for GDP data\n",
    "    - sec.gov for 10-K text \n",
    "    \n",
    "Refer to the following notebook for additional details and the code used in gathering the data.\n",
    "[Data Gathering](scrape_top10_MDA.ipynb)\n",
    "\n",
    "Below is a look at the ouput of the notebook, which is organized by year and includes tuple pairs of company name and the uncleaned text gathered."
   ]
  },
  {
   "cell_type": "code",
   "execution_count": 13,
   "metadata": {},
   "outputs": [
    {
     "data": {
      "text/html": [
       "<div>\n",
       "<style scoped>\n",
       "    .dataframe tbody tr th:only-of-type {\n",
       "        vertical-align: middle;\n",
       "    }\n",
       "\n",
       "    .dataframe tbody tr th {\n",
       "        vertical-align: top;\n",
       "    }\n",
       "\n",
       "    .dataframe thead th {\n",
       "        text-align: right;\n",
       "    }\n",
       "</style>\n",
       "<table border=\"1\" class=\"dataframe\">\n",
       "  <thead>\n",
       "    <tr style=\"text-align: right;\">\n",
       "      <th></th>\n",
       "      <th>2007</th>\n",
       "      <th>2008</th>\n",
       "      <th>2009</th>\n",
       "      <th>2010</th>\n",
       "      <th>2011</th>\n",
       "      <th>2012</th>\n",
       "      <th>2013</th>\n",
       "      <th>2014</th>\n",
       "      <th>2015</th>\n",
       "      <th>2016</th>\n",
       "      <th>2017</th>\n",
       "    </tr>\n",
       "  </thead>\n",
       "  <tbody>\n",
       "    <tr>\n",
       "      <th>0</th>\n",
       "      <td>(EXXON MOBIL CORP, [15.    EXHIBITS, FINANCIAL...</td>\n",
       "      <td>(EXXON MOBIL CORP, [15.    EXHIBITS, FINANCIAL...</td>\n",
       "      <td>(EXXON MOBIL CORP, [15.    EXHIBITS, FINANCIAL...</td>\n",
       "      <td>(EXXON MOBIL CORP, [15.    EXHIBITS, FINANCIAL...</td>\n",
       "      <td>(EXXON MOBIL CORP, [15. EXHIBITS, FINANCIAL ST...</td>\n",
       "      <td>(APPLE INC, [7 MANAGEMENTS DISCUSSION AND AN...</td>\n",
       "      <td>(Apple Inc., [7 MANAGEMENTS DISCUSSION AND A...</td>\n",
       "      <td>(Apple Inc., [7 MANAGEMENTS DISCUSSION AND AN...</td>\n",
       "      <td>(Apple Inc., [7 MANAGEMENTS DISCUSSION AND AN...</td>\n",
       "      <td>(Apple Inc., [7 MANAGEMENT’S DISCUSSION AND AN...</td>\n",
       "      <td>(Apple Inc., [7 MANAGEMENT’S DISCUSSION AND AN...</td>\n",
       "    </tr>\n",
       "    <tr>\n",
       "      <th>1</th>\n",
       "      <td>(GENERAL ELECTRIC CO, \\nEX-13\\n4\\nex13.htm\\n\\n...</td>\n",
       "      <td>(WALMART INC, \\nEX-13\\n3\\ndex13.htm\\nANNUAL RE...</td>\n",
       "      <td>(MICROSOFT CORP, [7     MANAGEMENTS DISCUSSIO...</td>\n",
       "      <td>(APPLE INC, [7 MANAGEMENTS DISCUSSION AND ANA...</td>\n",
       "      <td>(APPLE INC, [7 MANAGEMENTS DISCUSSION AND ANA...</td>\n",
       "      <td>(EXXON MOBIL CORP, [15.     EXHIBITS, FINANCIA...</td>\n",
       "      <td>(Exxon Mobil Corp., [15.     EXHIBITS, FINANCI...</td>\n",
       "      <td>(Exxon Mobil Corp., [15.     EXHIBITS, FINANCI...</td>\n",
       "      <td>(Alphabet Inc. Class A, [7MANAGEMENT’S DISCUSS...</td>\n",
       "      <td>(Alphabet Inc. Class A, [7MANAGEMENT’S DISCUSS...</td>\n",
       "      <td>(Alphabet Inc. Class A, [7MANAGEMENT’S DISCUSS...</td>\n",
       "    </tr>\n",
       "  </tbody>\n",
       "</table>\n",
       "</div>"
      ],
      "text/plain": [
       "                                                2007  \\\n",
       "0  (EXXON MOBIL CORP, [15.    EXHIBITS, FINANCIAL...   \n",
       "1  (GENERAL ELECTRIC CO, \\nEX-13\\n4\\nex13.htm\\n\\n...   \n",
       "\n",
       "                                                2008  \\\n",
       "0  (EXXON MOBIL CORP, [15.    EXHIBITS, FINANCIAL...   \n",
       "1  (WALMART INC, \\nEX-13\\n3\\ndex13.htm\\nANNUAL RE...   \n",
       "\n",
       "                                                2009  \\\n",
       "0  (EXXON MOBIL CORP, [15.    EXHIBITS, FINANCIAL...   \n",
       "1  (MICROSOFT CORP, [7     MANAGEMENTS DISCUSSIO...   \n",
       "\n",
       "                                                2010  \\\n",
       "0  (EXXON MOBIL CORP, [15.    EXHIBITS, FINANCIAL...   \n",
       "1  (APPLE INC, [7 MANAGEMENTS DISCUSSION AND ANA...   \n",
       "\n",
       "                                                2011  \\\n",
       "0  (EXXON MOBIL CORP, [15. EXHIBITS, FINANCIAL ST...   \n",
       "1  (APPLE INC, [7 MANAGEMENTS DISCUSSION AND ANA...   \n",
       "\n",
       "                                                2012  \\\n",
       "0  (APPLE INC, [7 MANAGEMENTS DISCUSSION AND AN...   \n",
       "1  (EXXON MOBIL CORP, [15.     EXHIBITS, FINANCIA...   \n",
       "\n",
       "                                                2013  \\\n",
       "0  (Apple Inc., [7 MANAGEMENTS DISCUSSION AND A...   \n",
       "1  (Exxon Mobil Corp., [15.     EXHIBITS, FINANCI...   \n",
       "\n",
       "                                                2014  \\\n",
       "0  (Apple Inc., [7 MANAGEMENTS DISCUSSION AND AN...   \n",
       "1  (Exxon Mobil Corp., [15.     EXHIBITS, FINANCI...   \n",
       "\n",
       "                                                2015  \\\n",
       "0  (Apple Inc., [7 MANAGEMENTS DISCUSSION AND AN...   \n",
       "1  (Alphabet Inc. Class A, [7MANAGEMENT’S DISCUSS...   \n",
       "\n",
       "                                                2016  \\\n",
       "0  (Apple Inc., [7 MANAGEMENT’S DISCUSSION AND AN...   \n",
       "1  (Alphabet Inc. Class A, [7MANAGEMENT’S DISCUSS...   \n",
       "\n",
       "                                                2017  \n",
       "0  (Apple Inc., [7 MANAGEMENT’S DISCUSSION AND AN...  \n",
       "1  (Alphabet Inc. Class A, [7MANAGEMENT’S DISCUSS...  "
      ]
     },
     "execution_count": 13,
     "metadata": {},
     "output_type": "execute_result"
    }
   ],
   "source": [
    "dftop10 = pd.read_pickle('Top10_final.pkl')\n",
    "dftop10.head(2)"
   ]
  },
  {
   "cell_type": "markdown",
   "metadata": {},
   "source": [
    "We chose to pull the top 10 companies from the S&P 500 based on market capitalization for a number of reasons. First, given our computational resources pulling data from all companies was not realistic. Additionally, our hypothesis is that the companies that account for the largest market share will be the most influential in predicting economic growth.  \n",
    "\n",
    "Moreover, we have limited our analysis to the Management Disclosure and Anaalysis (MD&A) section of the comapnies annual 10-K filling. Much of the 10-K report is full of boilerplate language that is heavily regualted and required for companies to include. The MD&A section gives management the most leeway to discuss the health and vitality of the company. This section is widely used by financial analysists and investors. "
   ]
  },
  {
   "cell_type": "markdown",
   "metadata": {},
   "source": [
    "**Data Cleaning**"
   ]
  },
  {
   "cell_type": "markdown",
   "metadata": {},
   "source": [
    "Our next step in the process was to clean the text data in preparation for analysis. The following link provides the code and details of the process, which includes lemitizing and removing punctutation.\n",
    "\n",
    "[Data Cleaning](Clean_MDAtext.ipynb)\n",
    "\n"
   ]
  },
  {
   "cell_type": "markdown",
   "metadata": {},
   "source": [
    "**Data Exploration**"
   ]
  },
  {
   "cell_type": "markdown",
   "metadata": {},
   "source": [
    "Below is a look at our response variable over time. "
   ]
  },
  {
   "cell_type": "code",
   "execution_count": 14,
   "metadata": {
    "scrolled": true
   },
   "outputs": [
    {
     "data": {
      "text/plain": [
       "Text(0.5, 1.0, 'GDP from 2007-2017')"
      ]
     },
     "execution_count": 14,
     "metadata": {},
     "output_type": "execute_result"
    },
    {
     "data": {
      "image/png": "[encoded data removed]",
      "text/plain": [
       "<Figure size 432x288 with 1 Axes>"
      ]
     },
     "metadata": {
      "needs_background": "light"
     },
     "output_type": "display_data"
    }
   ],
   "source": [
    "dfGDP = pd.read_csv('gdp_annual.csv')\n",
    "df_GDP = get_GDP_visual(dfGDP)\n",
    "df_GDP.plot(linewidth=4)\n",
    "plt.grid(True)\n",
    "plt.axhline(y=0,color='black',linestyle='-',lw=.8)\n",
    "plt.xlabel('Year')\n",
    "plt.ylabel('GDP')\n",
    "plt.title('GDP from 2007-2017')"
   ]
  },
  {
   "cell_type": "markdown",
   "metadata": {},
   "source": [
    "We can clearly see the affect of the financial crisis of 2008/2009 on GDP. We would expect to see more negative sentiment in our text data from these years. For the remaining years we can see relatively small fluctuations and steady positive growth rates. \n",
    "\n",
    "Next, we will explore the companies that appear most frequently in our analysis. There are a number of companies that appear over multiple years, most noteably Exxon Mobil and Microsoft are in all 11 years. "
   ]
  },
  {
   "cell_type": "code",
   "execution_count": 15,
   "metadata": {},
   "outputs": [
    {
     "data": {
      "image/png": "[encoded data removed]",
      "text/plain": [
       "<Figure size 432x288 with 1 Axes>"
      ]
     },
     "metadata": {
      "needs_background": "light"
     },
     "output_type": "display_data"
    }
   ],
   "source": [
    "df_freq = getCompFreq(dftop10)\n",
    "g = sns.barplot(x=\"Number of Years\", y = 'Company Name', data=df_freq)"
   ]
  },
  {
   "cell_type": "markdown",
   "metadata": {},
   "source": [
    "**Hypothesis and Initial Modeling**"
   ]
  },
  {
   "cell_type": "markdown",
   "metadata": {},
   "source": [
    "Our hypothesis is that the text from the MD&A section of the top US companies provides significant predictive value for GDP. \n",
    "\n",
    "First we will combine our cleaned MDA text and our y variable GDP percent change"
   ]
  },
  {
   "cell_type": "code",
   "execution_count": 21,
   "metadata": {},
   "outputs": [
    {
     "data": {
      "text/html": [
       "<div>\n",
       "<style scoped>\n",
       "    .dataframe tbody tr th:only-of-type {\n",
       "        vertical-align: middle;\n",
       "    }\n",
       "\n",
       "    .dataframe tbody tr th {\n",
       "        vertical-align: top;\n",
       "    }\n",
       "\n",
       "    .dataframe thead th {\n",
       "        text-align: right;\n",
       "    }\n",
       "</style>\n",
       "<table border=\"1\" class=\"dataframe\">\n",
       "  <thead>\n",
       "    <tr style=\"text-align: right;\">\n",
       "      <th></th>\n",
       "      <th>X</th>\n",
       "      <th>y</th>\n",
       "    </tr>\n",
       "  </thead>\n",
       "  <tbody>\n",
       "    <tr>\n",
       "      <th>2007</th>\n",
       "      <td>exhibit financial statement schedule financial...</td>\n",
       "      <td>1.77857</td>\n",
       "    </tr>\n",
       "    <tr>\n",
       "      <th>2008</th>\n",
       "      <td>exhibit financial statement schedule financial...</td>\n",
       "      <td>-0.291621</td>\n",
       "    </tr>\n",
       "    <tr>\n",
       "      <th>2009</th>\n",
       "      <td>exhibit financial statement schedule financial...</td>\n",
       "      <td>-2.77553</td>\n",
       "    </tr>\n",
       "  </tbody>\n",
       "</table>\n",
       "</div>"
      ],
      "text/plain": [
       "                                                      X         y\n",
       "2007  exhibit financial statement schedule financial...   1.77857\n",
       "2008  exhibit financial statement schedule financial... -0.291621\n",
       "2009  exhibit financial statement schedule financial...  -2.77553"
      ]
     },
     "execution_count": 21,
     "metadata": {},
     "output_type": "execute_result"
    }
   ],
   "source": [
    "dfClean = pd.read_pickle(\"Cleaned_MDA.pkl\")\n",
    "dfClean = getXy(dfClean)\n",
    "dfClean.head(3)"
   ]
  },
  {
   "cell_type": "markdown",
   "metadata": {},
   "source": [
    "Given the number of years in our analysis is somewhat limited, we will use kfold cross validation to fit the model."
   ]
  },
  {
   "cell_type": "code",
   "execution_count": 23,
   "metadata": {},
   "outputs": [],
   "source": [
    "from sklearn.model_selection import KFold\n",
    "\n",
    "kfold = KFold(n_splits=5, shuffle=True, random_state=2)\n",
    "kf = KFold(n_splits=5, random_state=2, shuffle=True)\n",
    "X = np.array(dfClean['X'])\n",
    "y = np.array(dfClean['y'])\n",
    "for train_index, test_index in kf.split(X):\n",
    "    X_train, X_test = X[train_index], X[test_index]\n",
    "    y_train, y_test = y[train_index], y[test_index]"
   ]
  },
  {
   "cell_type": "markdown",
   "metadata": {},
   "source": [
    "We'll start by using word embeddings to try to pick up patterns throughout the years to predict GDP. We've experimented with different ngrams and found ngram equal to (1,3) provides the best results. This model will consider ngrams of length 1 through length 3.  "
   ]
  },
  {
   "cell_type": "code",
   "execution_count": 51,
   "metadata": {},
   "outputs": [],
   "source": [
    "vectorizer = TfidfVectorizer(ngram_range=(1, 3),max_df=.85)\n",
    "train_X_vec = vectorizer.fit_transform(X_train).toarray()\n",
    "test_X_vec = vectorizer.transform(X_test).toarray()"
   ]
  },
  {
   "cell_type": "markdown",
   "metadata": {},
   "source": [
    "After experimenting with several models including linear and shoastic gradient descent regression, we found XG Boost to provide the best results."
   ]
  },
  {
   "cell_type": "code",
   "execution_count": 52,
   "metadata": {},
   "outputs": [
    {
     "name": "stdout",
     "output_type": "stream",
     "text": [
      "[14:46:40] WARNING: src/objective/regression_obj.cu:152: reg:linear is now deprecated in favor of reg:squarederror.\n"
     ]
    },
    {
     "data": {
      "text/plain": [
       "XGBRegressor(base_score=0.5, booster='gbtree', colsample_bylevel=1,\n",
       "       colsample_bynode=1, colsample_bytree=1, gamma=0,\n",
       "       importance_type='gain', learning_rate=0.1, max_delta_step=0,\n",
       "       max_depth=3, min_child_weight=1, missing=None, n_estimators=100,\n",
       "       n_jobs=1, nthread=None, objective='reg:linear', random_state=0,\n",
       "       reg_alpha=0, reg_lambda=1, scale_pos_weight=1, seed=None,\n",
       "       silent=None, subsample=1, verbosity=1)"
      ]
     },
     "execution_count": 52,
     "metadata": {},
     "output_type": "execute_result"
    }
   ],
   "source": [
    "model = xgb.XGBRegressor()\n",
    "model.fit(train_X_vec, y_train)"
   ]
  },
  {
   "cell_type": "markdown",
   "metadata": {},
   "source": [
    "Let's see how we did..."
   ]
  },
  {
   "cell_type": "code",
   "execution_count": 49,
   "metadata": {},
   "outputs": [
    {
     "name": "stdout",
     "output_type": "stream",
     "text": [
      "[2.861587025 2.273338548]\n",
      "[2.4839826 1.5123392]\n",
      "-3.171268425912121\n",
      "0.5693018878145446\n"
     ]
    }
   ],
   "source": [
    "print(y_test)\n",
    "y_pred = model.predict(test_X_vec)\n",
    "print(y_pred)\n",
    "print(model.score(test_X_vec, y_test))\n",
    "print(mean_absolute_error(y_test, y_pred))"
   ]
  },
  {
   "cell_type": "code",
   "execution_count": 57,
   "metadata": {},
   "outputs": [
    {
     "data": {
      "text/plain": [
       "array([1.77857024, -0.29162145899999997, -2.7755295739999997, 2.531920616,\n",
       "       1.6014546719999998, 2.224030854, 1.67733153, 2.569193594,\n",
       "       2.861587025, 1.4852791930000002, 2.273338548], dtype=object)"
      ]
     },
     "execution_count": 57,
     "metadata": {},
     "output_type": "execute_result"
    }
   ],
   "source": [
    "y\n"
   ]
  },
  {
   "cell_type": "markdown",
   "metadata": {},
   "source": [
    "We can see the actual GDP from the test data is 2.9 and 2.3 for the years 2015 and 2017 respectively and our predicted GDP of 2.5 and 1.5. We will use two metrics in the evaluation of models, mean square error (MAE) and R-squared. We chose to assess MAE over RMAE based on the increased interpretability of results that MAE provides. Another metric that we will assess each model is R-squared. \n",
    "\n",
    "We can see from the above model the MAE is 0.57 with an R-squared of -3.2. The negative R-squared value tells our model performs worse than using the mean to make predictions on new y values. Clearly not a good result and we will need to explore a different method. "
   ]
  },
  {
   "cell_type": "markdown",
   "metadata": {},
   "source": [
    "**Sentiment Analysis**"
   ]
  },
  {
   "cell_type": "markdown",
   "metadata": {},
   "source": [
    "Our word embedding does not seem to be picking up on predictive patterns in the dataset, we'll now explore using sentiment analysis. For this work we will utilize the python library TextBlob. "
   ]
  },
  {
   "cell_type": "code",
   "execution_count": null,
   "metadata": {},
   "outputs": [],
   "source": []
  },
  {
   "cell_type": "code",
   "execution_count": null,
   "metadata": {},
   "outputs": [],
   "source": []
  },
  {
   "cell_type": "code",
   "execution_count": null,
   "metadata": {},
   "outputs": [],
   "source": []
  },
  {
   "cell_type": "code",
   "execution_count": null,
   "metadata": {},
   "outputs": [],
   "source": []
  }
 ],
 "metadata": {
  "kernelspec": {
   "display_name": "Python 3",
   "language": "python",
   "name": "python3"
  },
  "language_info": {
   "codemirror_mode": {
    "name": "ipython",
    "version": 3
   },
   "file_extension": ".py",
   "mimetype": "text/x-python",
   "name": "python",
   "nbconvert_exporter": "python",
   "pygments_lexer": "ipython3",
   "version": "3.7.1"
  }
 },
 "nbformat": 4,
 "nbformat_minor": 2
}
