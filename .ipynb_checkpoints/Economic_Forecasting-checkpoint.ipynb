{
 "cells": [
  {
   "cell_type": "code",
   "execution_count": 8,
   "metadata": {},
   "outputs": [],
   "source": [
    "import pandas as pd \n",
    "import numpy as np\n",
    "from visuals import getCompFreq"
   ]
  },
  {
   "cell_type": "markdown",
   "metadata": {},
   "source": [
    "The following analysis explores the predictive capacity of text data extracted from the finanical statements of the most influential companies in the United States on percent change in gross domestic product (GDP). GDP is considered the broadest indicator of economic output and growth and is not only import for investor confidence but is used in the Federal Reserves decision making process for implementing monetary policy for the country. Current indicators used  for economic forecasting in the field of econometrics are vast and include unemployment rate, personal consumption expenditures, business investment, governement spending, inflation, interest rates and net export of goods and services among others. While the field of economietrics has grown in recent years, economists have remained largely unsucessful in consistantly forecasting economic growth rates. \n",
    "   "
   ]
  },
  {
   "cell_type": "markdown",
   "metadata": {},
   "source": [
    "**Data Gathering**"
   ]
  },
  {
   "cell_type": "markdown",
   "metadata": {},
   "source": [
    "The bulk of the data used in the analysis was gathered from the following sources: \n",
    "    - worldbank.org for GDP data\n",
    "    - sec.gov for 10-K text \n",
    "    \n",
    "Refer to the following notebook for additional details and the code used in gathering the data.\n",
    "[Data Gathering](scrape_top10_MDA.ipynb)\n",
    "\n",
    "Below is a look at the ouput of the notebook, which is organized by year and includes tuple pairs of company name and the text gathered."
   ]
  },
  {
   "cell_type": "code",
   "execution_count": 4,
   "metadata": {},
   "outputs": [
    {
     "data": {
      "text/html": [
       "<div>\n",
       "<style scoped>\n",
       "    .dataframe tbody tr th:only-of-type {\n",
       "        vertical-align: middle;\n",
       "    }\n",
       "\n",
       "    .dataframe tbody tr th {\n",
       "        vertical-align: top;\n",
       "    }\n",
       "\n",
       "    .dataframe thead th {\n",
       "        text-align: right;\n",
       "    }\n",
       "</style>\n",
       "<table border=\"1\" class=\"dataframe\">\n",
       "  <thead>\n",
       "    <tr style=\"text-align: right;\">\n",
       "      <th></th>\n",
       "      <th>2007</th>\n",
       "      <th>2008</th>\n",
       "      <th>2009</th>\n",
       "      <th>2010</th>\n",
       "      <th>2011</th>\n",
       "      <th>2012</th>\n",
       "      <th>2013</th>\n",
       "      <th>2014</th>\n",
       "      <th>2015</th>\n",
       "      <th>2016</th>\n",
       "      <th>2017</th>\n",
       "    </tr>\n",
       "  </thead>\n",
       "  <tbody>\n",
       "    <tr>\n",
       "      <th>0</th>\n",
       "      <td>(EXXON MOBIL CORP, [15.    EXHIBITS, FINANCIAL...</td>\n",
       "      <td>(EXXON MOBIL CORP, [15.    EXHIBITS, FINANCIAL...</td>\n",
       "      <td>(EXXON MOBIL CORP, [15.    EXHIBITS, FINANCIAL...</td>\n",
       "      <td>(EXXON MOBIL CORP, [15.    EXHIBITS, FINANCIAL...</td>\n",
       "      <td>(EXXON MOBIL CORP, [15. EXHIBITS, FINANCIAL ST...</td>\n",
       "      <td>(APPLE INC, [7 MANAGEMENTS DISCUSSION AND AN...</td>\n",
       "      <td>(Apple Inc., [7 MANAGEMENTS DISCUSSION AND A...</td>\n",
       "      <td>(Apple Inc., [7 MANAGEMENTS DISCUSSION AND AN...</td>\n",
       "      <td>(Apple Inc., [7 MANAGEMENTS DISCUSSION AND AN...</td>\n",
       "      <td>(Apple Inc., [7 MANAGEMENT’S DISCUSSION AND AN...</td>\n",
       "      <td>(Apple Inc., [7 MANAGEMENT’S DISCUSSION AND AN...</td>\n",
       "    </tr>\n",
       "    <tr>\n",
       "      <th>1</th>\n",
       "      <td>(GENERAL ELECTRIC CO, \\nEX-13\\n4\\nex13.htm\\n\\n...</td>\n",
       "      <td>(WALMART INC, \\nEX-13\\n3\\ndex13.htm\\nANNUAL RE...</td>\n",
       "      <td>(MICROSOFT CORP, [7     MANAGEMENTS DISCUSSIO...</td>\n",
       "      <td>(APPLE INC, [7 MANAGEMENTS DISCUSSION AND ANA...</td>\n",
       "      <td>(APPLE INC, [7 MANAGEMENTS DISCUSSION AND ANA...</td>\n",
       "      <td>(EXXON MOBIL CORP, [15.     EXHIBITS, FINANCIA...</td>\n",
       "      <td>(Exxon Mobil Corp., [15.     EXHIBITS, FINANCI...</td>\n",
       "      <td>(Exxon Mobil Corp., [15.     EXHIBITS, FINANCI...</td>\n",
       "      <td>(Alphabet Inc. Class A, [7MANAGEMENT’S DISCUSS...</td>\n",
       "      <td>(Alphabet Inc. Class A, [7MANAGEMENT’S DISCUSS...</td>\n",
       "      <td>(Alphabet Inc. Class A, [7MANAGEMENT’S DISCUSS...</td>\n",
       "    </tr>\n",
       "  </tbody>\n",
       "</table>\n",
       "</div>"
      ],
      "text/plain": [
       "                                                2007  \\\n",
       "0  (EXXON MOBIL CORP, [15.    EXHIBITS, FINANCIAL...   \n",
       "1  (GENERAL ELECTRIC CO, \\nEX-13\\n4\\nex13.htm\\n\\n...   \n",
       "\n",
       "                                                2008  \\\n",
       "0  (EXXON MOBIL CORP, [15.    EXHIBITS, FINANCIAL...   \n",
       "1  (WALMART INC, \\nEX-13\\n3\\ndex13.htm\\nANNUAL RE...   \n",
       "\n",
       "                                                2009  \\\n",
       "0  (EXXON MOBIL CORP, [15.    EXHIBITS, FINANCIAL...   \n",
       "1  (MICROSOFT CORP, [7     MANAGEMENTS DISCUSSIO...   \n",
       "\n",
       "                                                2010  \\\n",
       "0  (EXXON MOBIL CORP, [15.    EXHIBITS, FINANCIAL...   \n",
       "1  (APPLE INC, [7 MANAGEMENTS DISCUSSION AND ANA...   \n",
       "\n",
       "                                                2011  \\\n",
       "0  (EXXON MOBIL CORP, [15. EXHIBITS, FINANCIAL ST...   \n",
       "1  (APPLE INC, [7 MANAGEMENTS DISCUSSION AND ANA...   \n",
       "\n",
       "                                                2012  \\\n",
       "0  (APPLE INC, [7 MANAGEMENTS DISCUSSION AND AN...   \n",
       "1  (EXXON MOBIL CORP, [15.     EXHIBITS, FINANCIA...   \n",
       "\n",
       "                                                2013  \\\n",
       "0  (Apple Inc., [7 MANAGEMENTS DISCUSSION AND A...   \n",
       "1  (Exxon Mobil Corp., [15.     EXHIBITS, FINANCI...   \n",
       "\n",
       "                                                2014  \\\n",
       "0  (Apple Inc., [7 MANAGEMENTS DISCUSSION AND AN...   \n",
       "1  (Exxon Mobil Corp., [15.     EXHIBITS, FINANCI...   \n",
       "\n",
       "                                                2015  \\\n",
       "0  (Apple Inc., [7 MANAGEMENTS DISCUSSION AND AN...   \n",
       "1  (Alphabet Inc. Class A, [7MANAGEMENT’S DISCUSS...   \n",
       "\n",
       "                                                2016  \\\n",
       "0  (Apple Inc., [7 MANAGEMENT’S DISCUSSION AND AN...   \n",
       "1  (Alphabet Inc. Class A, [7MANAGEMENT’S DISCUSS...   \n",
       "\n",
       "                                                2017  \n",
       "0  (Apple Inc., [7 MANAGEMENT’S DISCUSSION AND AN...  \n",
       "1  (Alphabet Inc. Class A, [7MANAGEMENT’S DISCUSS...  "
      ]
     },
     "execution_count": 4,
     "metadata": {},
     "output_type": "execute_result"
    }
   ],
   "source": [
    "df = pd.read_pickle('Top10_final.pkl')\n",
    "df.head(2)"
   ]
  },
  {
   "cell_type": "markdown",
   "metadata": {},
   "source": [
    "We chose to pull the top 10 companies from the S&P 500 based on market capitalization for a number of reasons. First, given our computational resources pulling data from all companies was not realistic. Additionally, our hypothesis is that the companies that account for the largest market share will be the most influential in predicting economic growth.  \n",
    "\n",
    "Moreover, we have limited our analysis to the Management Disclosure and Anaalysis (MD&A) section of the comapnies annual 10-K filling. Much of the 10-K report is full of boilerplate language that is heavily regualted and required for companies to include. The MD&A section gives management the most leeway to discuss the health and vitality of the company. This section is widely used my financial analysists and investors. "
   ]
  },
  {
   "cell_type": "markdown",
   "metadata": {},
   "source": [
    "**Data Cleaning**"
   ]
  },
  {
   "cell_type": "markdown",
   "metadata": {},
   "source": [
    "Our next step in the process was to clean the text data in preparation for analysis. The following link provides the code and details of the process, which includes lemitizing and removing punctutation.\n",
    "\n",
    "[Data Cleaning](Clean_MDAtext.ipynb)\n",
    "\n"
   ]
  },
  {
   "cell_type": "markdown",
   "metadata": {},
   "source": [
    "**Data Exploration**"
   ]
  },
  {
   "cell_type": "markdown",
   "metadata": {},
   "source": [
    "Below is a look at our response variable over time. "
   ]
  },
  {
   "cell_type": "code",
   "execution_count": 7,
   "metadata": {},
   "outputs": [],
   "source": [
    "# Graph of GDP"
   ]
  },
  {
   "cell_type": "markdown",
   "metadata": {},
   "source": [
    "We can clearly see the affect of the financial crisis of 2007/2008 on GDP. We would expect to see more negative sentiment in our text data from these years. For the remaining years we can see relatively small fluctuations and steady positive growth rates. \n",
    "\n",
    "Next, we will explore the companies that companies that are in our analysis. There are a number of companies that appear over multiple years, most noteably Exxon Mobil and Microsoft are in all 11 years. "
   ]
  },
  {
   "cell_type": "code",
   "execution_count": 11,
   "metadata": {},
   "outputs": [
    {
     "ename": "NameError",
     "evalue": "name 'defaultdict' is not defined",
     "output_type": "error",
     "traceback": [
      "\u001b[0;31m---------------------------------------------------------------------------\u001b[0m",
      "\u001b[0;31mNameError\u001b[0m                                 Traceback (most recent call last)",
      "\u001b[0;32m<ipython-input-11-042c5735b5e8>\u001b[0m in \u001b[0;36m<module>\u001b[0;34m\u001b[0m\n\u001b[0;32m----> 1\u001b[0;31m \u001b[0mdf\u001b[0m \u001b[0;34m=\u001b[0m \u001b[0mgetCompFreq\u001b[0m\u001b[0;34m(\u001b[0m\u001b[0mdf\u001b[0m\u001b[0;34m)\u001b[0m\u001b[0;34m\u001b[0m\u001b[0;34m\u001b[0m\u001b[0m\n\u001b[0m\u001b[1;32m      2\u001b[0m \u001b[0mg\u001b[0m \u001b[0;34m=\u001b[0m \u001b[0msns\u001b[0m\u001b[0;34m.\u001b[0m\u001b[0mbarplot\u001b[0m\u001b[0;34m(\u001b[0m\u001b[0mx\u001b[0m\u001b[0;34m=\u001b[0m\u001b[0;34m\"Number of Years\"\u001b[0m\u001b[0;34m,\u001b[0m \u001b[0my\u001b[0m \u001b[0;34m=\u001b[0m \u001b[0;34m'Company Name'\u001b[0m\u001b[0;34m,\u001b[0m \u001b[0mdata\u001b[0m\u001b[0;34m=\u001b[0m\u001b[0mdf\u001b[0m\u001b[0;34m)\u001b[0m\u001b[0;34m\u001b[0m\u001b[0;34m\u001b[0m\u001b[0m\n",
      "\u001b[0;32m~/Documents/GitHub/Sentiment_Analysis_S-P_500/visuals.py\u001b[0m in \u001b[0;36mgetCompFreq\u001b[0;34m(top10Comp)\u001b[0m\n\u001b[1;32m      2\u001b[0m \u001b[0;32mimport\u001b[0m \u001b[0mmatplotlib\u001b[0m\u001b[0;34m.\u001b[0m\u001b[0mpyplot\u001b[0m \u001b[0;32mas\u001b[0m \u001b[0mplt\u001b[0m\u001b[0;34m\u001b[0m\u001b[0;34m\u001b[0m\u001b[0m\n\u001b[1;32m      3\u001b[0m \u001b[0;32mimport\u001b[0m \u001b[0mseaborn\u001b[0m \u001b[0;32mas\u001b[0m \u001b[0msns\u001b[0m\u001b[0;34m\u001b[0m\u001b[0;34m\u001b[0m\u001b[0m\n\u001b[0;32m----> 4\u001b[0;31m \u001b[0;32mimport\u001b[0m \u001b[0mpandas\u001b[0m \u001b[0;32mas\u001b[0m \u001b[0mpd\u001b[0m\u001b[0;34m\u001b[0m\u001b[0;34m\u001b[0m\u001b[0m\n\u001b[0m\u001b[1;32m      5\u001b[0m \u001b[0;34m\u001b[0m\u001b[0m\n\u001b[1;32m      6\u001b[0m \u001b[0;32mdef\u001b[0m \u001b[0mgetCompFreq\u001b[0m\u001b[0;34m(\u001b[0m\u001b[0mtop10Comp\u001b[0m\u001b[0;34m)\u001b[0m\u001b[0;34m:\u001b[0m\u001b[0;34m\u001b[0m\u001b[0;34m\u001b[0m\u001b[0m\n",
      "\u001b[0;31mNameError\u001b[0m: name 'defaultdict' is not defined"
     ]
    }
   ],
   "source": [
    "df = getCompFreq(df)\n",
    "g = sns.barplot(x=\"Number of Years\", y = 'Company Name', data=df)"
   ]
  },
  {
   "cell_type": "code",
   "execution_count": null,
   "metadata": {},
   "outputs": [],
   "source": []
  }
 ],
 "metadata": {
  "kernelspec": {
   "display_name": "Python 3",
   "language": "python",
   "name": "python3"
  },
  "language_info": {
   "codemirror_mode": {
    "name": "ipython",
    "version": 3
   },
   "file_extension": ".py",
   "mimetype": "text/x-python",
   "name": "python",
   "nbconvert_exporter": "python",
   "pygments_lexer": "ipython3",
   "version": "3.7.1"
  }
 },
 "nbformat": 4,
 "nbformat_minor": 2
}
