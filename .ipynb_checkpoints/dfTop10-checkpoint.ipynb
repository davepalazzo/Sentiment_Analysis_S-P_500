{
 "cells": [
  {
   "cell_type": "code",
   "execution_count": 4,
   "metadata": {},
   "outputs": [],
   "source": [
    "import edgar\n",
    "import pandas as pd\n",
    "import requests\n",
    "import re\n",
    "from bs4 import BeautifulSoup as bsoup\n",
    "import numpy as np\n",
    "import string"
   ]
  },
  {
   "cell_type": "code",
   "execution_count": 5,
   "metadata": {},
   "outputs": [],
   "source": [
    "res = requests.get('https://etfdb.com/history-of-the-s-and-p-500/#2009')\n",
    "soup = bsoup(res.content,'html.parser')"
   ]
  },
  {
   "cell_type": "code",
   "execution_count": 6,
   "metadata": {},
   "outputs": [],
   "source": [
    "def extractTable(soup):\n",
    "    '''Extract the top ten companies from 1980-2013 '''\n",
    "    table = []\n",
    "    for div in soup.find_all('div', {'id':'sections'}):\n",
    "        for a in div.find_all('div', {'class':'dataRow'}):\n",
    "            for s in a.find_all('span', {'class': 'rowTitle'}):\n",
    "                table+=s\n",
    "    return(table)"
   ]
  },
  {
   "cell_type": "code",
   "execution_count": 7,
   "metadata": {},
   "outputs": [],
   "source": [
    "tbl = extractTable(soup)\n",
    "# Remove companies 1980-1999\n",
    "Lst = tbl[200:]\n",
    "\n",
    "def getComp(Lst):\n",
    "    return [Lst[i::10] for i in range(10)]\n",
    "# Yield successive n-sized \n",
    "def divide_chunks(Lst, n): \n",
    "\n",
    "    for i in range(0, len(Lst), n):  \n",
    "        yield Lst[i:i + n] \n",
    "        \n"
   ]
  },
  {
   "cell_type": "code",
   "execution_count": 8,
   "metadata": {},
   "outputs": [],
   "source": [
    "# Split into chunks of 10 CO per year \n",
    "tbl = list(divide_chunks(Lst, 10))\n",
    "colNames=[i for i in range(2000,2014)]"
   ]
  },
  {
   "cell_type": "code",
   "execution_count": 9,
   "metadata": {},
   "outputs": [],
   "source": [
    "# Make df\n",
    "dfTop10 = pd.DataFrame(tbl).transpose()\n",
    "dfTop10.columns = colNames"
   ]
  },
  {
   "cell_type": "code",
   "execution_count": 10,
   "metadata": {},
   "outputs": [],
   "source": [
    "# Remove punctuation and uppercase \n",
    "for i in colNames:\n",
    "    dfTop10[i] = dfTop10[i].str.upper().str.strip(string.punctuation).str.strip('\\n').str.strip()\n"
   ]
  },
  {
   "cell_type": "code",
   "execution_count": 11,
   "metadata": {},
   "outputs": [],
   "source": [
    "dfTop10.replace({'CHEVRON CORP': 'CHEVRON', 'CHEVRON': 'CHEVRON CORP','MICROSOFT': 'MICROSOFT CORP','GENERAL ELECTRIC': 'GENERAL ELECTRIC CO', 'EXXON MOBIL':'EXXON MOBIL CORP', 'PFIZER':'PFIZER INC', 'CITIGROUP':'CITIGROUP INC', 'CISCO SYSTEMS':'CISCO SYSTEMS INC', 'WAL-MART STORES' :'WALMART INC','AIG':'AMERICAN INTERNATIONAL GROUP','MERCK':'MERCK & CO','INTEL':'INTEL CORP','PROCTER & GAMBLE':'PROCTER & GAMBLE CO','AT&T':'AT&T CORP','JPMORGAN CHASE':'JPMORGAN CHASE & CO','GOOGLE':'ALPHABET INC','APPLE':'APPLE INC','BANK OF AMERICA':'BANK OF AMERICA CORP','IBM':'INTL BUSINESS MACHINES CORP','CHEVRON':'CHEVRON CORP','WELLS FARGO':'WELLS FARGO & CO'}, regex=True, inplace=True)"
   ]
  },
  {
   "cell_type": "code",
   "execution_count": 12,
   "metadata": {},
   "outputs": [],
   "source": [
    "dfCik = pd.read_csv('2000_2013_s&p.csv')\n",
    "dfCik.drop(['gvkey','gvkeyx','from','thru','tic'], axis=1, inplace=True)\n",
    "dfCik['co_cik'] = dfCik['co_cik'].fillna(0).astype(int).apply(lambda x: '{0:0>7}'.format(x))\n",
    "cikDic = pd.Series(dfCik.co_conm.values,index=dfCik.co_cik).to_dict()\n",
    "cikDic = dict((v,k) for k,v in cikDic.items())"
   ]
  },
  {
   "cell_type": "code",
   "execution_count": 13,
   "metadata": {},
   "outputs": [],
   "source": [
    "from collections import defaultdict\n",
    "dic = defaultdict(None)\n",
    "for yr in colNames:  \n",
    "    for comp in dfTop10[yr]:\n",
    "        if comp in cikDic:\n",
    "            dic[comp] = cikDic[comp]\n",
    "        else:\n",
    "            dic[comp] = None\n",
    "        "
   ]
  },
  {
   "cell_type": "code",
   "execution_count": 15,
   "metadata": {},
   "outputs": [],
   "source": [
    "for yr in colNames:  \n",
    "    \n",
    "    for i in range(len(dfTop10[yr])):\n",
    "        if type(dfTop10[yr][i])==tuple:\n",
    "            pass\n",
    "        else:\n",
    "            name = dfTop10[yr][i]\n",
    "            dfTop10[yr][i] =  (name,dic[name])"
   ]
  },
  {
   "cell_type": "code",
   "execution_count": 17,
   "metadata": {},
   "outputs": [],
   "source": [
    "dfTop10.to_pickle('dfTop10.pkl')"
   ]
  }
 ],
 "metadata": {
  "kernelspec": {
   "display_name": "Python 3",
   "language": "python",
   "name": "python3"
  },
  "language_info": {
   "codemirror_mode": {
    "name": "ipython",
    "version": 3
   },
   "file_extension": ".py",
   "mimetype": "text/x-python",
   "name": "python",
   "nbconvert_exporter": "python",
   "pygments_lexer": "ipython3",
   "version": "3.7.1"
  }
 },
 "nbformat": 4,
 "nbformat_minor": 2
}
