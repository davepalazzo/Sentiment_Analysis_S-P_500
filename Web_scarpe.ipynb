{
 "cells": [
  {
   "cell_type": "code",
   "execution_count": 2,
   "metadata": {},
   "outputs": [],
   "source": [
    "import edgar\n",
    "import pandas as pd\n",
    "import requests\n",
    "import re\n",
    "from bs4 import BeautifulSoup as bsoup\n",
    "import numpy as np\n",
    "from collections import defaultdict"
   ]
  },
  {
   "cell_type": "markdown",
   "metadata": {},
   "source": [
    "The following blocks of code pulls MD&A sections from companies that file the MD&A disclosures in a seperate exhibit "
   ]
  },
  {
   "cell_type": "code",
   "execution_count": 38,
   "metadata": {},
   "outputs": [],
   "source": [
    "IBMyears = [i for i in range(2009,2013)]\n",
    "IBMresLst = ['https://www.sec.gov/Archives/edgar/data/51143/000104746910001151/a2195966zex-13.htm','https://www.sec.gov/Archives/edgar/data/51143/000104746911001117/a2201254zex-13.htm','https://www.sec.gov/Archives/edgar/data/51143/000104746912001742/a2206744zex-13.htm','https://www.sec.gov/Archives/edgar/data/51143/000104746913001698/a2212340zex-13.htm']"
   ]
  },
  {
   "cell_type": "code",
   "execution_count": 3,
   "metadata": {},
   "outputs": [],
   "source": [
    "WFyears = [i for i in range(2013,2015)]\n",
    "WFresLst = ['https://www.sec.gov/Archives/edgar/data/72971/000007297114000337/wfc10k_20131231-ex13.htm','https://www.sec.gov/Archives/edgar/data/72971/000007297115000449/wfc-12312014xex13.htm','https://www.sec.gov/Archives/edgar/data/72971/000007297115000449/wfc-12312014xex13.htm']"
   ]
  },
  {
   "cell_type": "code",
   "execution_count": 4,
   "metadata": {},
   "outputs": [],
   "source": [
    "JJyears = [i for i in range(2007,2015)]\n",
    "JJyears.remove(2011)\n",
    "JJyears.remove(2010)\n",
    "JJresLst = ['https://www.sec.gov/Archives/edgar/data/200406/000095012308002130/y47910exv13.htm','https://www.sec.gov/Archives/edgar/data/200406/000095012309003187/y74152exv13.htm','https://www.sec.gov/Archives/edgar/data/200406/000095012310019392/y80744exv13.htm','https://www.sec.gov/Archives/edgar/data/200406/000020040615000004/ex13-form10xk20141228.htm']"
   ]
  },
  {
   "cell_type": "code",
   "execution_count": 5,
   "metadata": {},
   "outputs": [],
   "source": [
    "WMyears = [i for i in range(2007,2012)]\n",
    "WMresLst = ['https://www.sec.gov/Archives/edgar/data/104169/000119312508071085/dex13.htm','https://www.sec.gov/Archives/edgar/data/104169/000010416909000006/dex13.htm','https://www.sec.gov/Archives/edgar/data/104169/000119312510071652/dex13.htm','https://www.sec.gov/Archives/edgar/data/104169/000119312511083157/dex13.htm','https://www.sec.gov/Archives/edgar/data/104169/000119312512134679/d270972dex13.htm','https://www.sec.gov/Archives/edgar/data/200406/000020040613000038/ex13-form10xk20121230.htm','https://www.sec.gov/Archives/edgar/data/200406/000020040614000033/ex13-form10xk20131229.htm','']"
   ]
  },
  {
   "cell_type": "code",
   "execution_count": 6,
   "metadata": {},
   "outputs": [],
   "source": [
    "GEyears = [2007]\n",
    "GEresLst = ['https://www.sec.gov/Archives/edgar/data/40545/000004054508000011/ex13.htm']"
   ]
  },
  {
   "cell_type": "code",
   "execution_count": 32,
   "metadata": {},
   "outputs": [],
   "source": [
    "PGyears = [i for i in range(2007,2012)]\n",
    "PGresLst = ['https://www.sec.gov/Archives/edgar/data/80424/000095015207007152/l27490aexv13.htm#303','https://www.sec.gov/Archives/edgar/data/80424/000095015208007680/l32996bexv13.htm','https://www.sec.gov/Archives/edgar/data/80424/000119312509175986/dex13.htm','https://www.sec.gov/Archives/edgar/data/80424/000119312510188769/dex13.htm','https://www.sec.gov/Archives/edgar/data/80424/000008042411000014/exhibit13.htm']"
   ]
  },
  {
   "cell_type": "code",
   "execution_count": 36,
   "metadata": {},
   "outputs": [],
   "source": [
    "Pyears = [2008, 2012]\n",
    "PresLst = ['https://www.sec.gov/Archives/edgar/data/78003/000119312509040568/dex13.htm','https://www.sec.gov/Archives/edgar/data/78003/000007800313000009/pfe-12312012xex1310ka.htm']"
   ]
  },
  {
   "cell_type": "code",
   "execution_count": 43,
   "metadata": {},
   "outputs": [],
   "source": [
    "ATTyears = [2007, 2008, 2009, 2012]\n",
    "ATTresLst = ['https://www.sec.gov/Archives/edgar/data/732717/000073271708000012/ex13.htm','https://www.sec.gov/Archives/edgar/data/732717/000073271709000007/ex13.htm','https://www.sec.gov/Archives/edgar/data/732717/000073271710000013/ex13.htm','https://www.sec.gov/Archives/edgar/data/732717/000073271713000017/ex13.pdf']"
   ]
  },
  {
   "cell_type": "code",
   "execution_count": 33,
   "metadata": {},
   "outputs": [],
   "source": [
    "def pullMDA(yearRange,compName, resLst, split_on = None):\n",
    "    '''Pulls MD&A text from exhibit 13 SEC website\n",
    "        Parameters: 1) yearRange - list of years\n",
    "                    2) resLst - list of SEC websites\n",
    "                    3) compName - string of company name\n",
    "                    4) split_on - string to split on for MD&A\n",
    "        Returns: Tuple with year and MD&A text \n",
    "        '''\n",
    "    output = defaultdict()\n",
    "    for year in yearRange:\n",
    "        for site in resLst:\n",
    "            res = requests.get(site)\n",
    "            soup = bsoup(res.content,'html.parser')\n",
    "            text = soup.text\n",
    "            if split_on:\n",
    "                text = text.split(split_on)[1]\n",
    "                output[year] = (compName,text)\n",
    "                break\n",
    "            else:    \n",
    "                output[year] = (compName,text)\n",
    "                break\n",
    "    return output "
   ]
  },
  {
   "cell_type": "code",
   "execution_count": 44,
   "metadata": {},
   "outputs": [],
   "source": [
    "ATTtext = pullMDA(ATTyears,'AT&T', ATTresLst)"
   ]
  },
  {
   "cell_type": "code",
   "execution_count": 39,
   "metadata": {},
   "outputs": [],
   "source": [
    "IBMtext = pullMDA(IBMyears, 'IBM', IBMresLst)"
   ]
  },
  {
   "cell_type": "code",
   "execution_count": 37,
   "metadata": {},
   "outputs": [],
   "source": [
    "# Pfizer\n",
    "Ptext = pullMDA(Pyears, 'Pfizer', PresLst)"
   ]
  },
  {
   "cell_type": "code",
   "execution_count": 34,
   "metadata": {},
   "outputs": [],
   "source": [
    "#Proctor and Gamble \n",
    "PGtext = pullMDA(PGyears, 'Proctor and Gamble',PGresLst, 'The purpose of this discussion is to provide an understanding')"
   ]
  },
  {
   "cell_type": "code",
   "execution_count": 9,
   "metadata": {},
   "outputs": [],
   "source": [
    "# GE\n",
    "GEtext = pullMDA(GEyears,'General Electric',GEresLst)"
   ]
  },
  {
   "cell_type": "code",
   "execution_count": 10,
   "metadata": {},
   "outputs": [],
   "source": [
    "# Wal-Mart\n",
    "WMtext = pullMDA(WMyears,'Wal-Mart',WMresLst)"
   ]
  },
  {
   "cell_type": "code",
   "execution_count": 11,
   "metadata": {
    "scrolled": true
   },
   "outputs": [],
   "source": [
    "# Johnson & Johnson\n",
    "JJtext = pullMDA(JJyears,'Johnson & Johnson',JJresLst)"
   ]
  },
  {
   "cell_type": "code",
   "execution_count": 12,
   "metadata": {},
   "outputs": [],
   "source": [
    "# Wells Fargo \n",
    "WFtext = pullMDA(WFyears,'Wells Fargo',WFresLst)"
   ]
  },
  {
   "cell_type": "code",
   "execution_count": 13,
   "metadata": {},
   "outputs": [],
   "source": [
    "dd = defaultdict(list)\n",
    "for d in (GEtext, WMtext,JJtext,WFtext): \n",
    "    for key, value in d.items():\n",
    "        dd[key].append(value)"
   ]
  },
  {
   "cell_type": "code",
   "execution_count": 14,
   "metadata": {},
   "outputs": [],
   "source": [
    "dfScrape = pd.DataFrame.from_dict(dd,orient='index')"
   ]
  },
  {
   "cell_type": "code",
   "execution_count": 15,
   "metadata": {},
   "outputs": [],
   "source": [
    "dfScrape = dfScrape.transpose()"
   ]
  },
  {
   "cell_type": "code",
   "execution_count": null,
   "metadata": {},
   "outputs": [],
   "source": [
    "frames = [dfTop10, dfScrape]\n",
    "result = pd.concat(frames)"
   ]
  },
  {
   "cell_type": "code",
   "execution_count": 1,
   "metadata": {},
   "outputs": [
    {
     "ename": "NameError",
     "evalue": "name 'pd' is not defined",
     "output_type": "error",
     "traceback": [
      "\u001b[0;31m---------------------------------------------------------------------------\u001b[0m",
      "\u001b[0;31mNameError\u001b[0m                                 Traceback (most recent call last)",
      "\u001b[0;32m<ipython-input-1-fe0b9b74bf7f>\u001b[0m in \u001b[0;36m<module>\u001b[0;34m\u001b[0m\n\u001b[0;32m----> 1\u001b[0;31m \u001b[0mdfTop10\u001b[0m \u001b[0;34m=\u001b[0m \u001b[0mpd\u001b[0m\u001b[0;34m.\u001b[0m\u001b[0mread_pickle\u001b[0m\u001b[0;34m(\u001b[0m\u001b[0;34m\"./dfTop10.pkl\"\u001b[0m\u001b[0;34m)\u001b[0m\u001b[0;34m\u001b[0m\u001b[0;34m\u001b[0m\u001b[0m\n\u001b[0m",
      "\u001b[0;31mNameError\u001b[0m: name 'pd' is not defined"
     ]
    }
   ],
   "source": [
    "#dfTop10 = pd.read_pickle(\"./dfTop10.pkl\")"
   ]
  },
  {
   "cell_type": "code",
   "execution_count": 17,
   "metadata": {},
   "outputs": [],
   "source": [
    "top10_MDA = pd.read_pickle('Top10_MDA.pkl')"
   ]
  },
  {
   "cell_type": "code",
   "execution_count": 18,
   "metadata": {},
   "outputs": [
    {
     "data": {
      "text/html": [
       "<div>\n",
       "<style scoped>\n",
       "    .dataframe tbody tr th:only-of-type {\n",
       "        vertical-align: middle;\n",
       "    }\n",
       "\n",
       "    .dataframe tbody tr th {\n",
       "        vertical-align: top;\n",
       "    }\n",
       "\n",
       "    .dataframe thead th {\n",
       "        text-align: right;\n",
       "    }\n",
       "</style>\n",
       "<table border=\"1\" class=\"dataframe\">\n",
       "  <thead>\n",
       "    <tr style=\"text-align: right;\">\n",
       "      <th></th>\n",
       "      <th>2017</th>\n",
       "      <th>2016</th>\n",
       "      <th>2015</th>\n",
       "      <th>2014</th>\n",
       "      <th>2013</th>\n",
       "      <th>2012</th>\n",
       "      <th>2011</th>\n",
       "      <th>2010</th>\n",
       "      <th>2009</th>\n",
       "      <th>2008</th>\n",
       "      <th>2007</th>\n",
       "    </tr>\n",
       "  </thead>\n",
       "  <tbody>\n",
       "    <tr>\n",
       "      <th>0</th>\n",
       "      <td>(Apple Inc., [7 MANAGEMENT’S DISCUSSION AND AN...</td>\n",
       "      <td>(Apple Inc., [7 MANAGEMENT’S DISCUSSION AND AN...</td>\n",
       "      <td>(Apple Inc., [7 MANAGEMENTS DISCUSSION AND AN...</td>\n",
       "      <td>(Apple Inc., [7 MANAGEMENTS DISCUSSION AND AN...</td>\n",
       "      <td>(Apple Inc., [7 MANAGEMENTS DISCUSSION AND A...</td>\n",
       "      <td>(APPLE INC, [7 MANAGEMENTS DISCUSSION AND AN...</td>\n",
       "      <td>(EXXON MOBIL CORP, [15. EXHIBITS, FINANCIAL ST...</td>\n",
       "      <td>(EXXON MOBIL CORP, [15.    EXHIBITS, FINANCIAL...</td>\n",
       "      <td>(EXXON MOBIL CORP, [15.    EXHIBITS, FINANCIAL...</td>\n",
       "      <td>(EXXON MOBIL CORP, [15.    EXHIBITS, FINANCIAL...</td>\n",
       "      <td>(EXXON MOBIL CORP, [15.    EXHIBITS, FINANCIAL...</td>\n",
       "    </tr>\n",
       "    <tr>\n",
       "      <th>1</th>\n",
       "      <td>(Alphabet Inc. Class A, [7MANAGEMENT’S DISCUSS...</td>\n",
       "      <td>(Alphabet Inc. Class A, [7MANAGEMENT’S DISCUSS...</td>\n",
       "      <td>(Alphabet Inc. Class A, None)</td>\n",
       "      <td>(Exxon Mobil Corp., [15.     EXHIBITS, FINANCI...</td>\n",
       "      <td>(Exxon Mobil Corp., [15.     EXHIBITS, FINANCI...</td>\n",
       "      <td>(EXXON MOBIL CORP, [15.     EXHIBITS, FINANCIA...</td>\n",
       "      <td>(APPLE INC, [7 MANAGEMENTS DISCUSSION AND ANA...</td>\n",
       "      <td>(APPLE INC, [7 MANAGEMENTS DISCUSSION AND ANA...</td>\n",
       "      <td>(MICROSOFT CORP, [7     MANAGEMENTS DISCUSSIO...</td>\n",
       "      <td>(WALMART INC, None)</td>\n",
       "      <td>(GENERAL ELECTRIC CO, None)</td>\n",
       "    </tr>\n",
       "    <tr>\n",
       "      <th>2</th>\n",
       "      <td>(Microsoft Corp., [7 MANAGEMENT’S DISCUSSION A...</td>\n",
       "      <td>(Microsoft Corp., [7 MANAGEMENTS DISCUSSION A...</td>\n",
       "      <td>(Microsoft Corp., [7 MANAGEMENTS DISCUSSION A...</td>\n",
       "      <td>(Microsoft Corp., [7 MANAGEMENTS DISCUSSION A...</td>\n",
       "      <td>(Alphabet Inc. Class A, None)</td>\n",
       "      <td>(MICROSOFT CORP, [7 MANAGEMENTS DISCUSSION AN...</td>\n",
       "      <td>(MICROSOFT CORP, [7 MANAGEMENTS DISCUSSION AN...</td>\n",
       "      <td>(MICROSOFT CORP, [7 MANAGEMENTS DISCUSSION AN...</td>\n",
       "      <td>(WALMART INC, None)</td>\n",
       "      <td>(PROCTER &amp; GAMBLE CO, None)</td>\n",
       "      <td>(MICROSOFT CORP, [7    MANAGEMENTS DISCUSSION...</td>\n",
       "    </tr>\n",
       "    <tr>\n",
       "      <th>3</th>\n",
       "      <td>(Amazon.com Inc., [7MANAGEMENT’S DISCUSSION AN...</td>\n",
       "      <td>(Berkshire Hathaway Inc, [7 MANAGEMENTS DISCU...</td>\n",
       "      <td>(Berkshire Hathaway Inc, [7 MANAGEMENTS DISCU...</td>\n",
       "      <td>(Berkshire Hathaway Inc, [7 MANAGEMENTS DISCU...</td>\n",
       "      <td>(Microsoft Corp., [7 MANAGEMENTS DISCUSSION A...</td>\n",
       "      <td>(GENERAL ELECTRIC CO, [7 “MANAGEMENT’S DISCUSS...</td>\n",
       "      <td>(INTL BUSINESS MACHINES CORP, None)</td>\n",
       "      <td>(BERKSHIRE HATHAWAY, [ 7 MANAGEMENTS DISCUSSI...</td>\n",
       "      <td>(ALPHABET INC, [7 MANAGEMENTS DISCUSSION AND ...</td>\n",
       "      <td>(MICROSOFT CORP, [7     MANAGEMENTS DISCUSSIO...</td>\n",
       "      <td>(AT&amp;T CORP, None)</td>\n",
       "    </tr>\n",
       "    <tr>\n",
       "      <th>4</th>\n",
       "      <td>(Facebook Inc., [7MANAGEMENT'S DISCUSSION AND ...</td>\n",
       "      <td>(Exxon Mobil Corp., [15.     EXHIBITS, FINANCI...</td>\n",
       "      <td>(Exxon Mobil Corp., [15.     EXHIBITS, FINANCI...</td>\n",
       "      <td>(Alphabet Inc. Class A, None)</td>\n",
       "      <td>(Berkshire Hathaway Inc, [7 MANAGEMENTS DISCU...</td>\n",
       "      <td>(INTL BUSINESS MACHINES CORP, None)</td>\n",
       "      <td>(CHEVRON CORP, [15.               EXHIBITS,   ...</td>\n",
       "      <td>(GENERAL ELECTRIC CO, [7 MANAGEMENTS DISCUSS...</td>\n",
       "      <td>(APPLE INC, [7 MANAGEMENTS DISCUSSION AND ANA...</td>\n",
       "      <td>(AT&amp;T CORP, None)</td>\n",
       "      <td>(PROCTER &amp; GAMBLE CO, None)</td>\n",
       "    </tr>\n",
       "    <tr>\n",
       "      <th>5</th>\n",
       "      <td>(Berkshire Hathaway Inc, [7  MANAGEMENTS DISC...</td>\n",
       "      <td>(Amazon.com Inc., [7MANAGEMENT’S DISCUSSION AN...</td>\n",
       "      <td>(Amazon.com Inc., [7MANAGEMENT’S DISCUSSION AN...</td>\n",
       "      <td>(Johnson &amp; Johnson, None)</td>\n",
       "      <td>(General Electric, [7 “MANAGEMENT’S DISCUSSION...</td>\n",
       "      <td>(CHEVRON CORP, [15. EXHIBITS, FINANCIAL STATEM...</td>\n",
       "      <td>(ALPHABET INC, [7 MANAGEMENTS DISCUSSION AND ...</td>\n",
       "      <td>(WALMART INC, None)</td>\n",
       "      <td>(JOHNSON &amp; JOHNSON, None)</td>\n",
       "      <td>(JOHNSON &amp; JOHNSON, None)</td>\n",
       "      <td>(ALPHABET INC, [7 MANAGEMENTS DISCUSSION AND ...</td>\n",
       "    </tr>\n",
       "    <tr>\n",
       "      <th>6</th>\n",
       "      <td>(Johnson &amp; Johnson, [7MANAGEMENT’S DISCUSSION ...</td>\n",
       "      <td>(Facebook Inc., [7MANAGEMENT'S DISCUSSION AND ...</td>\n",
       "      <td>(Facebook Inc., [7MANAGEMENT'S DISCUSSION AND ...</td>\n",
       "      <td>(Wells Fargo, None)</td>\n",
       "      <td>(Johnson &amp; Johnson, None)</td>\n",
       "      <td>(JOHNSON &amp; JOHNSON, None)</td>\n",
       "      <td>(WALMART INC, None)</td>\n",
       "      <td>(ALPHABET INC, [7 MANAGEMENTS DISCUSSION AND ...</td>\n",
       "      <td>(PROCTER &amp; GAMBLE CO, None)</td>\n",
       "      <td>(GENERAL ELECTRIC CO, [7 MANAGEMENT’S DISCUSSI...</td>\n",
       "      <td>(CHEVRON CORP, [15.               EXHIBITS,   ...</td>\n",
       "    </tr>\n",
       "    <tr>\n",
       "      <th>7</th>\n",
       "      <td>(JPMorgan Chase &amp; Co., [601 OF REGULATION S-K....</td>\n",
       "      <td>(Johnson &amp; Johnson, [7MANAGEMENT’S DISCUSSION ...</td>\n",
       "      <td>(General Electric, [ 22       MANAGEMENT'S DIS...</td>\n",
       "      <td>(Wal-Mart Stores Inc, None)</td>\n",
       "      <td>(Wal-Mart Stores Inc, None)</td>\n",
       "      <td>(AT&amp;T CORP, None)</td>\n",
       "      <td>(GENERAL ELECTRIC CO, [7 “MANAGEMENT’S DISCUSS...</td>\n",
       "      <td>(CHEVRON CORP, [15.               EXHIBITS,   ...</td>\n",
       "      <td>(INTL BUSINESS MACHINES CORP, None)</td>\n",
       "      <td>(CHEVRON CORP, [15.             EXHIBITS,     ...</td>\n",
       "      <td>(JOHNSON &amp; JOHNSON, None)</td>\n",
       "    </tr>\n",
       "    <tr>\n",
       "      <th>8</th>\n",
       "      <td>(Exxon Mobil Corp., [16.     FORM 10-K SUMMARY...</td>\n",
       "      <td>(JPMorgan Chase &amp; Co., [601 OF REGULATION S-K....</td>\n",
       "      <td>(Johnson &amp; Johnson, [7MANAGEMENT’S DISCUSSION ...</td>\n",
       "      <td>(General Electric, [  22                    MD...</td>\n",
       "      <td>(Chevron Corp., [15. EXHIBITS, FINANCIAL STATE...</td>\n",
       "      <td>(PROCTER &amp; GAMBLE CO, [7 MANAGEMENT'S DISCUSSI...</td>\n",
       "      <td>(BERKSHIRE HATHAWAY, [ 7 MANAGEMENTS DISCUSSI...</td>\n",
       "      <td>(INTL BUSINESS MACHINES CORP, None)</td>\n",
       "      <td>(AT&amp;T CORP, None)</td>\n",
       "      <td>(PFIZER INC, None)</td>\n",
       "      <td>(WALMART INC, None)</td>\n",
       "    </tr>\n",
       "    <tr>\n",
       "      <th>9</th>\n",
       "      <td>(Bank of America Corp., [7 MANAGEMENT’S DISCUS...</td>\n",
       "      <td>(General Electric, [ 19            MANAGEMENT'...</td>\n",
       "      <td>(Wells Fargo, None)</td>\n",
       "      <td>(Procter &amp; Gamble, [7  MANAGEMENT'S DISCUSSION...</td>\n",
       "      <td>(Wells Fargo, [7        MANAGEMENT’S DISCUSSIO...</td>\n",
       "      <td>(PFIZER INC, None)</td>\n",
       "      <td>(PROCTER &amp; GAMBLE CO, None)</td>\n",
       "      <td>(PROCTER &amp; GAMBLE CO, None)</td>\n",
       "      <td>(JPMORGAN CHASE &amp; CO, [601 OF REGULATION S-K. ...</td>\n",
       "      <td>(JPMORGAN CHASE &amp; CO, [601 OF REGULATION S-K. ...</td>\n",
       "      <td>(BANK OF AMERICA CORP, [7  MANAGEMENTS DISCUS...</td>\n",
       "    </tr>\n",
       "  </tbody>\n",
       "</table>\n",
       "</div>"
      ],
      "text/plain": [
       "                                                2017  \\\n",
       "0  (Apple Inc., [7 MANAGEMENT’S DISCUSSION AND AN...   \n",
       "1  (Alphabet Inc. Class A, [7MANAGEMENT’S DISCUSS...   \n",
       "2  (Microsoft Corp., [7 MANAGEMENT’S DISCUSSION A...   \n",
       "3  (Amazon.com Inc., [7MANAGEMENT’S DISCUSSION AN...   \n",
       "4  (Facebook Inc., [7MANAGEMENT'S DISCUSSION AND ...   \n",
       "5  (Berkshire Hathaway Inc, [7  MANAGEMENTS DISC...   \n",
       "6  (Johnson & Johnson, [7MANAGEMENT’S DISCUSSION ...   \n",
       "7  (JPMorgan Chase & Co., [601 OF REGULATION S-K....   \n",
       "8  (Exxon Mobil Corp., [16.     FORM 10-K SUMMARY...   \n",
       "9  (Bank of America Corp., [7 MANAGEMENT’S DISCUS...   \n",
       "\n",
       "                                                2016  \\\n",
       "0  (Apple Inc., [7 MANAGEMENT’S DISCUSSION AND AN...   \n",
       "1  (Alphabet Inc. Class A, [7MANAGEMENT’S DISCUSS...   \n",
       "2  (Microsoft Corp., [7 MANAGEMENTS DISCUSSION A...   \n",
       "3  (Berkshire Hathaway Inc, [7 MANAGEMENTS DISCU...   \n",
       "4  (Exxon Mobil Corp., [15.     EXHIBITS, FINANCI...   \n",
       "5  (Amazon.com Inc., [7MANAGEMENT’S DISCUSSION AN...   \n",
       "6  (Facebook Inc., [7MANAGEMENT'S DISCUSSION AND ...   \n",
       "7  (Johnson & Johnson, [7MANAGEMENT’S DISCUSSION ...   \n",
       "8  (JPMorgan Chase & Co., [601 OF REGULATION S-K....   \n",
       "9  (General Electric, [ 19            MANAGEMENT'...   \n",
       "\n",
       "                                                2015  \\\n",
       "0  (Apple Inc., [7 MANAGEMENTS DISCUSSION AND AN...   \n",
       "1                      (Alphabet Inc. Class A, None)   \n",
       "2  (Microsoft Corp., [7 MANAGEMENTS DISCUSSION A...   \n",
       "3  (Berkshire Hathaway Inc, [7 MANAGEMENTS DISCU...   \n",
       "4  (Exxon Mobil Corp., [15.     EXHIBITS, FINANCI...   \n",
       "5  (Amazon.com Inc., [7MANAGEMENT’S DISCUSSION AN...   \n",
       "6  (Facebook Inc., [7MANAGEMENT'S DISCUSSION AND ...   \n",
       "7  (General Electric, [ 22       MANAGEMENT'S DIS...   \n",
       "8  (Johnson & Johnson, [7MANAGEMENT’S DISCUSSION ...   \n",
       "9                                (Wells Fargo, None)   \n",
       "\n",
       "                                                2014  \\\n",
       "0  (Apple Inc., [7 MANAGEMENTS DISCUSSION AND AN...   \n",
       "1  (Exxon Mobil Corp., [15.     EXHIBITS, FINANCI...   \n",
       "2  (Microsoft Corp., [7 MANAGEMENTS DISCUSSION A...   \n",
       "3  (Berkshire Hathaway Inc, [7 MANAGEMENTS DISCU...   \n",
       "4                      (Alphabet Inc. Class A, None)   \n",
       "5                          (Johnson & Johnson, None)   \n",
       "6                                (Wells Fargo, None)   \n",
       "7                        (Wal-Mart Stores Inc, None)   \n",
       "8  (General Electric, [  22                    MD...   \n",
       "9  (Procter & Gamble, [7  MANAGEMENT'S DISCUSSION...   \n",
       "\n",
       "                                                2013  \\\n",
       "0  (Apple Inc., [7 MANAGEMENTS DISCUSSION AND A...   \n",
       "1  (Exxon Mobil Corp., [15.     EXHIBITS, FINANCI...   \n",
       "2                      (Alphabet Inc. Class A, None)   \n",
       "3  (Microsoft Corp., [7 MANAGEMENTS DISCUSSION A...   \n",
       "4  (Berkshire Hathaway Inc, [7 MANAGEMENTS DISCU...   \n",
       "5  (General Electric, [7 “MANAGEMENT’S DISCUSSION...   \n",
       "6                          (Johnson & Johnson, None)   \n",
       "7                        (Wal-Mart Stores Inc, None)   \n",
       "8  (Chevron Corp., [15. EXHIBITS, FINANCIAL STATE...   \n",
       "9  (Wells Fargo, [7        MANAGEMENT’S DISCUSSIO...   \n",
       "\n",
       "                                                2012  \\\n",
       "0  (APPLE INC, [7 MANAGEMENTS DISCUSSION AND AN...   \n",
       "1  (EXXON MOBIL CORP, [15.     EXHIBITS, FINANCIA...   \n",
       "2  (MICROSOFT CORP, [7 MANAGEMENTS DISCUSSION AN...   \n",
       "3  (GENERAL ELECTRIC CO, [7 “MANAGEMENT’S DISCUSS...   \n",
       "4                (INTL BUSINESS MACHINES CORP, None)   \n",
       "5  (CHEVRON CORP, [15. EXHIBITS, FINANCIAL STATEM...   \n",
       "6                          (JOHNSON & JOHNSON, None)   \n",
       "7                                  (AT&T CORP, None)   \n",
       "8  (PROCTER & GAMBLE CO, [7 MANAGEMENT'S DISCUSSI...   \n",
       "9                                 (PFIZER INC, None)   \n",
       "\n",
       "                                                2011  \\\n",
       "0  (EXXON MOBIL CORP, [15. EXHIBITS, FINANCIAL ST...   \n",
       "1  (APPLE INC, [7 MANAGEMENTS DISCUSSION AND ANA...   \n",
       "2  (MICROSOFT CORP, [7 MANAGEMENTS DISCUSSION AN...   \n",
       "3                (INTL BUSINESS MACHINES CORP, None)   \n",
       "4  (CHEVRON CORP, [15.               EXHIBITS,   ...   \n",
       "5  (ALPHABET INC, [7 MANAGEMENTS DISCUSSION AND ...   \n",
       "6                                (WALMART INC, None)   \n",
       "7  (GENERAL ELECTRIC CO, [7 “MANAGEMENT’S DISCUSS...   \n",
       "8  (BERKSHIRE HATHAWAY, [ 7 MANAGEMENTS DISCUSSI...   \n",
       "9                        (PROCTER & GAMBLE CO, None)   \n",
       "\n",
       "                                                2010  \\\n",
       "0  (EXXON MOBIL CORP, [15.    EXHIBITS, FINANCIAL...   \n",
       "1  (APPLE INC, [7 MANAGEMENTS DISCUSSION AND ANA...   \n",
       "2  (MICROSOFT CORP, [7 MANAGEMENTS DISCUSSION AN...   \n",
       "3  (BERKSHIRE HATHAWAY, [ 7 MANAGEMENTS DISCUSSI...   \n",
       "4  (GENERAL ELECTRIC CO, [7 MANAGEMENTS DISCUSS...   \n",
       "5                                (WALMART INC, None)   \n",
       "6  (ALPHABET INC, [7 MANAGEMENTS DISCUSSION AND ...   \n",
       "7  (CHEVRON CORP, [15.               EXHIBITS,   ...   \n",
       "8                (INTL BUSINESS MACHINES CORP, None)   \n",
       "9                        (PROCTER & GAMBLE CO, None)   \n",
       "\n",
       "                                                2009  \\\n",
       "0  (EXXON MOBIL CORP, [15.    EXHIBITS, FINANCIAL...   \n",
       "1  (MICROSOFT CORP, [7     MANAGEMENTS DISCUSSIO...   \n",
       "2                                (WALMART INC, None)   \n",
       "3  (ALPHABET INC, [7 MANAGEMENTS DISCUSSION AND ...   \n",
       "4  (APPLE INC, [7 MANAGEMENTS DISCUSSION AND ANA...   \n",
       "5                          (JOHNSON & JOHNSON, None)   \n",
       "6                        (PROCTER & GAMBLE CO, None)   \n",
       "7                (INTL BUSINESS MACHINES CORP, None)   \n",
       "8                                  (AT&T CORP, None)   \n",
       "9  (JPMORGAN CHASE & CO, [601 OF REGULATION S-K. ...   \n",
       "\n",
       "                                                2008  \\\n",
       "0  (EXXON MOBIL CORP, [15.    EXHIBITS, FINANCIAL...   \n",
       "1                                (WALMART INC, None)   \n",
       "2                        (PROCTER & GAMBLE CO, None)   \n",
       "3  (MICROSOFT CORP, [7     MANAGEMENTS DISCUSSIO...   \n",
       "4                                  (AT&T CORP, None)   \n",
       "5                          (JOHNSON & JOHNSON, None)   \n",
       "6  (GENERAL ELECTRIC CO, [7 MANAGEMENT’S DISCUSSI...   \n",
       "7  (CHEVRON CORP, [15.             EXHIBITS,     ...   \n",
       "8                                 (PFIZER INC, None)   \n",
       "9  (JPMORGAN CHASE & CO, [601 OF REGULATION S-K. ...   \n",
       "\n",
       "                                                2007  \n",
       "0  (EXXON MOBIL CORP, [15.    EXHIBITS, FINANCIAL...  \n",
       "1                        (GENERAL ELECTRIC CO, None)  \n",
       "2  (MICROSOFT CORP, [7    MANAGEMENTS DISCUSSION...  \n",
       "3                                  (AT&T CORP, None)  \n",
       "4                        (PROCTER & GAMBLE CO, None)  \n",
       "5  (ALPHABET INC, [7 MANAGEMENTS DISCUSSION AND ...  \n",
       "6  (CHEVRON CORP, [15.               EXHIBITS,   ...  \n",
       "7                          (JOHNSON & JOHNSON, None)  \n",
       "8                                (WALMART INC, None)  \n",
       "9  (BANK OF AMERICA CORP, [7  MANAGEMENTS DISCUS...  "
      ]
     },
     "execution_count": 18,
     "metadata": {},
     "output_type": "execute_result"
    }
   ],
   "source": [
    "top10_MDA"
   ]
  }
 ],
 "metadata": {
  "kernelspec": {
   "display_name": "Python 3",
   "language": "python",
   "name": "python3"
  },
  "language_info": {
   "codemirror_mode": {
    "name": "ipython",
    "version": 3
   },
   "file_extension": ".py",
   "mimetype": "text/x-python",
   "name": "python",
   "nbconvert_exporter": "python",
   "pygments_lexer": "ipython3",
   "version": "3.7.1"
  }
 },
 "nbformat": 4,
 "nbformat_minor": 2
}
