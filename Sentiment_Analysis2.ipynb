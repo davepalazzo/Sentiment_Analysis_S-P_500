{
 "cells": [
  {
   "cell_type": "code",
   "execution_count": 2,
   "metadata": {},
   "outputs": [],
   "source": [
    "import pandas as pd\n",
    "import numpy as np\n",
    "from collections import defaultdict\n",
    "from cleanMDA import extractTable, divide_chunks, pullMDA, getXy\n",
    "from text_analysis import text_analysis_wordall, text_analysis_sentenceall, get_polarity, low_subjectivity, model_analysis\n",
    "from textblob import TextBlob\n",
    "from sklearn.model_selection import KFold\n",
    "from sklearn.linear_model import LinearRegression, BayesianRidge\n",
    "from sklearn.metrics import mean_absolute_error\n",
    "import xgboost as xgb\n",
    "import seaborn as sns\n",
    "import matplotlib.pyplot as plt\n",
    "%matplotlib inline"
   ]
  },
  {
   "cell_type": "markdown",
   "metadata": {},
   "source": [
    "## Sentiment Analysis by Word"
   ]
  },
  {
   "cell_type": "code",
   "execution_count": 11,
   "metadata": {},
   "outputs": [],
   "source": [
    "# company name and text in dataframe\n",
    "df_sentences = pd.read_pickle('Cleaned_MDA_sentences.pkl')"
   ]
  },
  {
   "cell_type": "code",
   "execution_count": 3,
   "metadata": {},
   "outputs": [],
   "source": [
    "# function to get GDP for 2007-2017 (import from GitHut)\n",
    "def get_GDP_visual(df):\n",
    "    USA = np.array(df[df['Data Source'] == 'United States'])\n",
    "\n",
    "    gdp_USA = pd.DataFrame(USA, columns=['Country Name', 'Country COde', 'Indicator Name', 'Indicator Code',\n",
    "                                                 '1960','1961','1962','1963','1964','1965','1966','1967','1968','1969',\n",
    "                                                 '1970','1971','1972','1973','1974','1975','1976','1977','1978','1979',\n",
    "                                                 '1980','1981','1982','1983','1984','1985','1986','1987','1988','1989',\n",
    "                                                 '1990','1991','1992','1993','1994','1995','1996','1997','1998','1999',\n",
    "                                                 '2000','2001','2002','2003','2004','2005','2006','2007','2008','2009',\n",
    "                                                 '2010','2011','2012','2013','2014','2015','2016','2017','2018'])\n",
    "\n",
    "    gdp_USA = gdp_USA.drop(columns=['Country Name','Country COde','Indicator Name','Indicator Code','1960','1961','1962',\n",
    "                                   '1963','1964','1965','1966','1967','1968','1969', '1970','1971','1972','1973','1974',\n",
    "                                   '1975','1976','1977','1978','1979', '1980','1981','1982','1983','1984','1985','1986',\n",
    "                                   '1987','1988','1989', '1990','1991','1992','1993','1994','1995','1996','1997','1998',\n",
    "                                   '1999', '2000','2001','2002','2003','2004','2005','2006','2018'])\n",
    "\n",
    "    gdp_USA_trans = gdp_USA.transpose()\n",
    "    gdp_USA_trans = gdp_USA_trans.rename(columns={0:'Y'})\n",
    "    \n",
    "    return gdp_USA_trans"
   ]
  },
  {
   "cell_type": "code",
   "execution_count": 4,
   "metadata": {},
   "outputs": [],
   "source": [
    "gdp_df = pd.read_csv('gdp_annual.csv')\n",
    "gdp_USA = get_GDP_visual(gdp_df)"
   ]
  },
  {
   "cell_type": "code",
   "execution_count": 13,
   "metadata": {},
   "outputs": [
    {
     "data": {
      "text/html": [
       "<div>\n",
       "<style scoped>\n",
       "    .dataframe tbody tr th:only-of-type {\n",
       "        vertical-align: middle;\n",
       "    }\n",
       "\n",
       "    .dataframe tbody tr th {\n",
       "        vertical-align: top;\n",
       "    }\n",
       "\n",
       "    .dataframe thead th {\n",
       "        text-align: right;\n",
       "    }\n",
       "</style>\n",
       "<table border=\"1\" class=\"dataframe\">\n",
       "  <thead>\n",
       "    <tr style=\"text-align: right;\">\n",
       "      <th></th>\n",
       "      <th>X</th>\n",
       "      <th>y</th>\n",
       "    </tr>\n",
       "  </thead>\n",
       "  <tbody>\n",
       "    <tr>\n",
       "      <th>2007</th>\n",
       "      <td>[(frequently, 0.1, 0.3), (other, -0.125, 0.375...</td>\n",
       "      <td>1.77857</td>\n",
       "    </tr>\n",
       "    <tr>\n",
       "      <th>2008</th>\n",
       "      <td>[(frequently, 0.1, 0.3), (other, -0.125, 0.375...</td>\n",
       "      <td>-0.291621</td>\n",
       "    </tr>\n",
       "    <tr>\n",
       "      <th>2009</th>\n",
       "      <td>[(frequently, 0.1, 0.3), (other, -0.125, 0.375...</td>\n",
       "      <td>-2.77553</td>\n",
       "    </tr>\n",
       "    <tr>\n",
       "      <th>2010</th>\n",
       "      <td>[(frequently, 0.1, 0.3), (other, -0.125, 0.375...</td>\n",
       "      <td>2.53192</td>\n",
       "    </tr>\n",
       "    <tr>\n",
       "      <th>2011</th>\n",
       "      <td>[(frequently, 0.1, 0.3), (other, -0.125, 0.375...</td>\n",
       "      <td>1.60145</td>\n",
       "    </tr>\n",
       "    <tr>\n",
       "      <th>2012</th>\n",
       "      <td>[(other, -0.125, 0.375), (certain, 0.214285714...</td>\n",
       "      <td>2.22403</td>\n",
       "    </tr>\n",
       "    <tr>\n",
       "      <th>2013</th>\n",
       "      <td>[(other, -0.125, 0.375), (certain, 0.214285714...</td>\n",
       "      <td>1.67733</td>\n",
       "    </tr>\n",
       "    <tr>\n",
       "      <th>2014</th>\n",
       "      <td>[(other, -0.125, 0.375), (certain, 0.214285714...</td>\n",
       "      <td>2.56919</td>\n",
       "    </tr>\n",
       "    <tr>\n",
       "      <th>2015</th>\n",
       "      <td>[(other, -0.125, 0.375), (certain, 0.214285714...</td>\n",
       "      <td>2.86159</td>\n",
       "    </tr>\n",
       "    <tr>\n",
       "      <th>2016</th>\n",
       "      <td>[(other, -0.125, 0.375), (certain, 0.214285714...</td>\n",
       "      <td>1.48528</td>\n",
       "    </tr>\n",
       "    <tr>\n",
       "      <th>2017</th>\n",
       "      <td>[(other, -0.125, 0.375), (certain, 0.214285714...</td>\n",
       "      <td>2.27334</td>\n",
       "    </tr>\n",
       "  </tbody>\n",
       "</table>\n",
       "</div>"
      ],
      "text/plain": [
       "                                                      X         y\n",
       "2007  [(frequently, 0.1, 0.3), (other, -0.125, 0.375...   1.77857\n",
       "2008  [(frequently, 0.1, 0.3), (other, -0.125, 0.375... -0.291621\n",
       "2009  [(frequently, 0.1, 0.3), (other, -0.125, 0.375...  -2.77553\n",
       "2010  [(frequently, 0.1, 0.3), (other, -0.125, 0.375...   2.53192\n",
       "2011  [(frequently, 0.1, 0.3), (other, -0.125, 0.375...   1.60145\n",
       "2012  [(other, -0.125, 0.375), (certain, 0.214285714...   2.22403\n",
       "2013  [(other, -0.125, 0.375), (certain, 0.214285714...   1.67733\n",
       "2014  [(other, -0.125, 0.375), (certain, 0.214285714...   2.56919\n",
       "2015  [(other, -0.125, 0.375), (certain, 0.214285714...   2.86159\n",
       "2016  [(other, -0.125, 0.375), (certain, 0.214285714...   1.48528\n",
       "2017  [(other, -0.125, 0.375), (certain, 0.214285714...   2.27334"
      ]
     },
     "execution_count": 13,
     "metadata": {},
     "output_type": "execute_result"
    }
   ],
   "source": [
    "# call the function text_analysis_wordall on the MDA text df\n",
    "analysis_df = text_analysis_wordall(df)\n",
    "analysis_df"
   ]
  },
  {
   "cell_type": "code",
   "execution_count": 6,
   "metadata": {},
   "outputs": [],
   "source": [
    "def text_analysis_sentence(text, subjective=True):\n",
    "    pos = []\n",
    "    neg = []\n",
    "    # split for each sentence\n",
    "    for word in text.split(' . '):\n",
    "        blob = TextBlob(word)\n",
    "        sent = blob.sentiment\n",
    "        # eliminate words with high subjectivity\n",
    "#         if subjective:\n",
    "#             if sent.subjectivity < 0.7:\n",
    "#                 if sent.polarity > 0.25:\n",
    "#                     pos.append(sent.polarity)\n",
    "#                 elif sent.polarity < -0.25:\n",
    "#                     neg.append(sent.polarity)\n",
    "        \n",
    "    return word,sent.polarity,sent.subjectivity"
   ]
  },
  {
   "cell_type": "code",
   "execution_count": 7,
   "metadata": {},
   "outputs": [],
   "source": [
    "## Sentiment Analysis by Sentence"
   ]
  }
 ],
 "metadata": {
  "kernelspec": {
   "display_name": "Python 3",
   "language": "python",
   "name": "python3"
  },
  "language_info": {
   "codemirror_mode": {
    "name": "ipython",
    "version": 3
   },
   "file_extension": ".py",
   "mimetype": "text/x-python",
   "name": "python",
   "nbconvert_exporter": "python",
   "pygments_lexer": "ipython3",
   "version": "3.7.1"
  }
 },
 "nbformat": 4,
 "nbformat_minor": 2
}
