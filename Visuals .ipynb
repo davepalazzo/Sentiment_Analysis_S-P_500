{
 "cells": [
  {
   "cell_type": "code",
   "execution_count": 54,
   "metadata": {},
   "outputs": [],
   "source": [
    "import edgar\n",
    "import pandas as pd\n",
    "import requests\n",
    "import re\n",
    "from bs4 import BeautifulSoup as bsoup\n",
    "import numpy as np\n",
    "import string\n",
    "from cleanMDA import extractTable, getComp, divide_chunks, annual_filings, MDA, pullMDA\n",
    "from collections import defaultdict\n",
    "import matplotlib.pyplot as plt\n",
    "import seaborn as sns"
   ]
  },
  {
   "cell_type": "code",
   "execution_count": 94,
   "metadata": {},
   "outputs": [],
   "source": [
    "top10Comp = pd.read_pickle('Top10_final.pkl')"
   ]
  },
  {
   "cell_type": "code",
   "execution_count": 109,
   "metadata": {},
   "outputs": [],
   "source": [
    "def getCompFreq(top10Comp):\n",
    "    \n",
    "    dd = defaultdict(int)\n",
    "    # Count frequencies of each companies apperance in the top 10 \n",
    "    for year in top10Comp:\n",
    "        for comp in range(len(top10Comp[year])):\n",
    "            dd[top10Comp[year][comp][0]] += 1\n",
    "\n",
    "    # Combine counts for duplicate companies \n",
    "    dd['BERKSHIRE HATHAWAY'] += dd['Berkshire Hathaway Inc']\n",
    "    dd['APPLE INC'] += dd['Apple Inc.']\n",
    "    dd['EXXON MOBIL CORP'] += dd['Exxon Mobil Corp.']\n",
    "    dd['MICROSOFT CORP'] += dd['Microsoft Corp.']\n",
    "    dd['GENERAL ELECTRIC CO'] += dd['General Electric']\n",
    "    dd['ALPHABET INC']+= dd['Alphabet Inc. Class A']\n",
    "    dd['CHEVRON CORP'] += dd['Chevron Corp.']\n",
    "    dd['JOHNSON & JOHNSON'] += dd['Johnson & Johnson']\n",
    "    dd['WALMART INC'] += dd['Wal-Mart Stores Inc']\n",
    "    dd['JPMORGAN CHASE & CO'] += dd['JPMorgan Chase & Co.']\n",
    "\n",
    "    # Limit visual to companies that appear over 5 times\n",
    "    dd1 = defaultdict(int)\n",
    "    for key, value in dd.items():\n",
    "        if value > 5:\n",
    "            dd1[key] = value\n",
    "\n",
    "    df = pd.DataFrame.from_dict(dd1, orient='index', columns=['count'])\n",
    "\n",
    "    df.reset_index(level=0, inplace=True)\n",
    "\n",
    "    df = df.sort_values(by=['count'])\n",
    "    df.rename(columns= {'index': 'Company Name', 'count': 'Number of Years'},inplace=True)\n",
    "    \n",
    "    return df"
   ]
  },
  {
   "cell_type": "code",
   "execution_count": 111,
   "metadata": {},
   "outputs": [],
   "source": [
    "df = getCompFreq(top10Comp)\n",
    "\n",
    "g = sns.barplot(x=\"Number of Years\", y = 'Company Name', data=df)"
   ]
  }
 ],
 "metadata": {
  "kernelspec": {
   "display_name": "Python 3",
   "language": "python",
   "name": "python3"
  },
  "language_info": {
   "codemirror_mode": {
    "name": "ipython",
    "version": 3
   },
   "file_extension": ".py",
   "mimetype": "text/x-python",
   "name": "python",
   "nbconvert_exporter": "python",
   "pygments_lexer": "ipython3",
   "version": "3.7.1"
  }
 },
 "nbformat": 4,
 "nbformat_minor": 2
}
