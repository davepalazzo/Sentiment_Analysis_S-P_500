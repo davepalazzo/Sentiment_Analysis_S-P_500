{
 "cells": [
  {
   "cell_type": "code",
   "execution_count": 1,
   "metadata": {},
   "outputs": [],
   "source": [
    "import pandas as pd\n",
    "import numpy as np\n",
    "from collections import defaultdict\n",
    "from cleanMDA import extractTable, divide_chunks, pullMDA, getXy\n",
    "from text_analysis import text_analysis_wordall, text_analysis_sentenceall, get_polarity, low_subjectivity, model_analysis, text_analysis_score\n",
    "from textblob import TextBlob\n",
    "from sklearn.model_selection import KFold\n",
    "from sklearn.linear_model import LinearRegression, BayesianRidge\n",
    "from sklearn.metrics import mean_absolute_error\n",
    "import xgboost as xgb\n",
    "import seaborn as sns\n",
    "import matplotlib.pyplot as plt\n",
    "%matplotlib inline"
   ]
  },
  {
   "cell_type": "markdown",
   "metadata": {},
   "source": [
    "## Sentiment Analysis by Word"
   ]
  },
  {
   "cell_type": "markdown",
   "metadata": {},
   "source": [
    "The following code takes a dataframe of all the top 10 companies from each year and their cleaned MDA text to run analysis on. The function, text_analysis_wordall, runs sentiment analysis on individual words from each year and returns a dataframe that holds a list of all the words in a tuple with their polarity and sentiment score from each year. Along with the percent change of GDP for that year. This dataframe is pickled and used throughout the final report."
   ]
  },
  {
   "cell_type": "code",
   "execution_count": 2,
   "metadata": {},
   "outputs": [],
   "source": [
    "# company name and text in dataframe\n",
    "df_sentences = pd.read_pickle('Cleaned_MDA_sentences.pkl')"
   ]
  },
  {
   "cell_type": "code",
   "execution_count": 3,
   "metadata": {},
   "outputs": [],
   "source": [
    "# combine the company's text for each year and add the GDP of each year for word analysis\n",
    "df = getXy(df_sentences) "
   ]
  },
  {
   "cell_type": "code",
   "execution_count": 4,
   "metadata": {},
   "outputs": [
    {
     "data": {
      "text/html": [
       "<div>\n",
       "<style scoped>\n",
       "    .dataframe tbody tr th:only-of-type {\n",
       "        vertical-align: middle;\n",
       "    }\n",
       "\n",
       "    .dataframe tbody tr th {\n",
       "        vertical-align: top;\n",
       "    }\n",
       "\n",
       "    .dataframe thead th {\n",
       "        text-align: right;\n",
       "    }\n",
       "</style>\n",
       "<table border=\"1\" class=\"dataframe\">\n",
       "  <thead>\n",
       "    <tr style=\"text-align: right;\">\n",
       "      <th></th>\n",
       "      <th>X</th>\n",
       "      <th>y</th>\n",
       "    </tr>\n",
       "  </thead>\n",
       "  <tbody>\n",
       "    <tr>\n",
       "      <th>2007</th>\n",
       "      <td>[(frequently, 0.1, 0.3), (other, -0.125, 0.375...</td>\n",
       "      <td>1.77857</td>\n",
       "    </tr>\n",
       "    <tr>\n",
       "      <th>2008</th>\n",
       "      <td>[(frequently, 0.1, 0.3), (other, -0.125, 0.375...</td>\n",
       "      <td>-0.291621</td>\n",
       "    </tr>\n",
       "    <tr>\n",
       "      <th>2009</th>\n",
       "      <td>[(frequently, 0.1, 0.3), (other, -0.125, 0.375...</td>\n",
       "      <td>-2.77553</td>\n",
       "    </tr>\n",
       "    <tr>\n",
       "      <th>2010</th>\n",
       "      <td>[(frequently, 0.1, 0.3), (other, -0.125, 0.375...</td>\n",
       "      <td>2.53192</td>\n",
       "    </tr>\n",
       "    <tr>\n",
       "      <th>2011</th>\n",
       "      <td>[(frequently, 0.1, 0.3), (other, -0.125, 0.375...</td>\n",
       "      <td>1.60145</td>\n",
       "    </tr>\n",
       "    <tr>\n",
       "      <th>2012</th>\n",
       "      <td>[(other, -0.125, 0.375), (certain, 0.214285714...</td>\n",
       "      <td>2.22403</td>\n",
       "    </tr>\n",
       "    <tr>\n",
       "      <th>2013</th>\n",
       "      <td>[(other, -0.125, 0.375), (certain, 0.214285714...</td>\n",
       "      <td>1.67733</td>\n",
       "    </tr>\n",
       "    <tr>\n",
       "      <th>2014</th>\n",
       "      <td>[(other, -0.125, 0.375), (certain, 0.214285714...</td>\n",
       "      <td>2.56919</td>\n",
       "    </tr>\n",
       "    <tr>\n",
       "      <th>2015</th>\n",
       "      <td>[(other, -0.125, 0.375), (certain, 0.214285714...</td>\n",
       "      <td>2.86159</td>\n",
       "    </tr>\n",
       "    <tr>\n",
       "      <th>2016</th>\n",
       "      <td>[(other, -0.125, 0.375), (certain, 0.214285714...</td>\n",
       "      <td>1.48528</td>\n",
       "    </tr>\n",
       "    <tr>\n",
       "      <th>2017</th>\n",
       "      <td>[(other, -0.125, 0.375), (certain, 0.214285714...</td>\n",
       "      <td>2.27334</td>\n",
       "    </tr>\n",
       "  </tbody>\n",
       "</table>\n",
       "</div>"
      ],
      "text/plain": [
       "                                                      X         y\n",
       "2007  [(frequently, 0.1, 0.3), (other, -0.125, 0.375...   1.77857\n",
       "2008  [(frequently, 0.1, 0.3), (other, -0.125, 0.375... -0.291621\n",
       "2009  [(frequently, 0.1, 0.3), (other, -0.125, 0.375...  -2.77553\n",
       "2010  [(frequently, 0.1, 0.3), (other, -0.125, 0.375...   2.53192\n",
       "2011  [(frequently, 0.1, 0.3), (other, -0.125, 0.375...   1.60145\n",
       "2012  [(other, -0.125, 0.375), (certain, 0.214285714...   2.22403\n",
       "2013  [(other, -0.125, 0.375), (certain, 0.214285714...   1.67733\n",
       "2014  [(other, -0.125, 0.375), (certain, 0.214285714...   2.56919\n",
       "2015  [(other, -0.125, 0.375), (certain, 0.214285714...   2.86159\n",
       "2016  [(other, -0.125, 0.375), (certain, 0.214285714...   1.48528\n",
       "2017  [(other, -0.125, 0.375), (certain, 0.214285714...   2.27334"
      ]
     },
     "execution_count": 4,
     "metadata": {},
     "output_type": "execute_result"
    }
   ],
   "source": [
    "# call the function text_analysis_wordall on the MDA text df\n",
    "analysis_df = text_analysis_wordall(df)\n",
    "analysis_df"
   ]
  },
  {
   "cell_type": "code",
   "execution_count": 5,
   "metadata": {},
   "outputs": [],
   "source": [
    "analysis_df.to_pickle('word_analysis.pkl')"
   ]
  },
  {
   "cell_type": "markdown",
   "metadata": {},
   "source": [
    "## Sentiment Analysis by Sentence"
   ]
  },
  {
   "cell_type": "markdown",
   "metadata": {},
   "source": [
    "The following code takes a dataframe of all the top 10 companies from each year and their cleaned MDA text to run analysis on. The function, text_analysis_sentenceall, runs sentiment analysis on individual sentences from each year and returns a dataframe that holds a list of all the sentences in a tuple with their polarity and sentiment score from each year. Along with the percent change of GDP for that year. This dataframe is pickled and used throughout the final report."
   ]
  },
  {
   "cell_type": "code",
   "execution_count": 6,
   "metadata": {},
   "outputs": [],
   "source": [
    "# combine the company's text for each year and add the GDP of each year for sentence analysis\n",
    "df2 = getXy(df_sentences)"
   ]
  },
  {
   "cell_type": "code",
   "execution_count": 7,
   "metadata": {},
   "outputs": [
    {
     "data": {
      "text/html": [
       "<div>\n",
       "<style scoped>\n",
       "    .dataframe tbody tr th:only-of-type {\n",
       "        vertical-align: middle;\n",
       "    }\n",
       "\n",
       "    .dataframe tbody tr th {\n",
       "        vertical-align: top;\n",
       "    }\n",
       "\n",
       "    .dataframe thead th {\n",
       "        text-align: right;\n",
       "    }\n",
       "</style>\n",
       "<table border=\"1\" class=\"dataframe\">\n",
       "  <thead>\n",
       "    <tr style=\"text-align: right;\">\n",
       "      <th></th>\n",
       "      <th>X</th>\n",
       "      <th>y</th>\n",
       "    </tr>\n",
       "  </thead>\n",
       "  <tbody>\n",
       "    <tr>\n",
       "      <th>2007</th>\n",
       "      <td>[( table of index to financial statements fina...</td>\n",
       "      <td>1.77857</td>\n",
       "    </tr>\n",
       "    <tr>\n",
       "      <th>2008</th>\n",
       "      <td>[( table of index to financial statements this...</td>\n",
       "      <td>-0.291621</td>\n",
       "    </tr>\n",
       "    <tr>\n",
       "      <th>2009</th>\n",
       "      <td>[( table of index to financial statements fina...</td>\n",
       "      <td>-2.77553</td>\n",
       "    </tr>\n",
       "    <tr>\n",
       "      <th>2010</th>\n",
       "      <td>[( table of index to financial statements fina...</td>\n",
       "      <td>2.53192</td>\n",
       "    </tr>\n",
       "    <tr>\n",
       "      <th>2011</th>\n",
       "      <td>[( table of index to financial statements this...</td>\n",
       "      <td>1.60145</td>\n",
       "    </tr>\n",
       "    <tr>\n",
       "      <th>2012</th>\n",
       "      <td>[(management discussion and analysis of financ...</td>\n",
       "      <td>2.22403</td>\n",
       "    </tr>\n",
       "    <tr>\n",
       "      <th>2013</th>\n",
       "      <td>[(management discussion and analysis of financ...</td>\n",
       "      <td>1.67733</td>\n",
       "    </tr>\n",
       "    <tr>\n",
       "      <th>2014</th>\n",
       "      <td>[(management discussion and analysis of financ...</td>\n",
       "      <td>2.56919</td>\n",
       "    </tr>\n",
       "    <tr>\n",
       "      <th>2015</th>\n",
       "      <td>[(management discussion and analysis of financ...</td>\n",
       "      <td>2.86159</td>\n",
       "    </tr>\n",
       "    <tr>\n",
       "      <th>2016</th>\n",
       "      <td>[(management discussion and analysis of financ...</td>\n",
       "      <td>1.48528</td>\n",
       "    </tr>\n",
       "    <tr>\n",
       "      <th>2017</th>\n",
       "      <td>[(management discussion and analysis of financ...</td>\n",
       "      <td>2.27334</td>\n",
       "    </tr>\n",
       "  </tbody>\n",
       "</table>\n",
       "</div>"
      ],
      "text/plain": [
       "                                                      X         y\n",
       "2007  [( table of index to financial statements fina...   1.77857\n",
       "2008  [( table of index to financial statements this... -0.291621\n",
       "2009  [( table of index to financial statements fina...  -2.77553\n",
       "2010  [( table of index to financial statements fina...   2.53192\n",
       "2011  [( table of index to financial statements this...   1.60145\n",
       "2012  [(management discussion and analysis of financ...   2.22403\n",
       "2013  [(management discussion and analysis of financ...   1.67733\n",
       "2014  [(management discussion and analysis of financ...   2.56919\n",
       "2015  [(management discussion and analysis of financ...   2.86159\n",
       "2016  [(management discussion and analysis of financ...   1.48528\n",
       "2017  [(management discussion and analysis of financ...   2.27334"
      ]
     },
     "execution_count": 7,
     "metadata": {},
     "output_type": "execute_result"
    }
   ],
   "source": [
    "# call the function text_analysis_sentenceall on the MDA text df\n",
    "analysis_sentence = text_analysis_sentenceall(df2)\n",
    "analysis_sentence"
   ]
  },
  {
   "cell_type": "code",
   "execution_count": 8,
   "metadata": {},
   "outputs": [],
   "source": [
    "analysis_sentence.to_pickle('sentence_analysis.pkl')"
   ]
  },
  {
   "cell_type": "markdown",
   "metadata": {},
   "source": [
    "## Table of the Count of Words"
   ]
  },
  {
   "cell_type": "markdown",
   "metadata": {},
   "source": [
    "This code creates a dataframe of the number of words throughout the sentiment analysis proccess. The final dataframe created is used as a visual representation in the final report to show the change in word count during the analysis of finding the best model."
   ]
  },
  {
   "cell_type": "code",
   "execution_count": 9,
   "metadata": {},
   "outputs": [],
   "source": [
    "# get word count before any analysis was done\n",
    "words_before = pd.read_pickle('Cleaned_MDA.pkl')\n",
    "words_before = getXy(words_before)\n",
    "count_before = np.array(words_before['X'].map(lambda x: len(x.split(' '))))"
   ]
  },
  {
   "cell_type": "code",
   "execution_count": 10,
   "metadata": {},
   "outputs": [],
   "source": [
    "# get word count after taking out all the polarity = 0 scores\n",
    "words_during = pd.read_pickle('word_analysis.pkl')\n",
    "count_during = np.array(words_during['X'].map(lambda x: len(x)))"
   ]
  },
  {
   "cell_type": "code",
   "execution_count": 11,
   "metadata": {},
   "outputs": [],
   "source": [
    "# get word count from best dataset for model\n",
    "analysis_word = pd.read_pickle('word_analysis.pkl')\n",
    "word_polarity_low = low_subjectivity(analysis_word)\n",
    "count_after = np.array(word_polarity_low['X'].map(lambda x: len(x)))"
   ]
  },
  {
   "cell_type": "code",
   "execution_count": 12,
   "metadata": {},
   "outputs": [],
   "source": [
    "# create counts df of all the different word counts\n",
    "counts = pd.DataFrame(index=['Word Count'])\n",
    "counts['Raw Data'] = sum(count_before)\n",
    "counts['Dropped Zeros'] = sum(count_during)\n",
    "counts['Dropped High Subjectivity'] = sum(count_after)"
   ]
  },
  {
   "cell_type": "code",
   "execution_count": 13,
   "metadata": {},
   "outputs": [],
   "source": [
    "# find the number of words dropped\n",
    "counts = counts.transpose()\n",
    "counts['Words Dropped'] = [0,counts['Word Count'][0] - counts['Word Count'][1],\n",
    "                           counts['Word Count'][1] - counts['Word Count'][2]]"
   ]
  },
  {
   "cell_type": "code",
   "execution_count": 14,
   "metadata": {},
   "outputs": [],
   "source": [
    "counts.to_pickle('Word_count.pkl')"
   ]
  },
  {
   "cell_type": "markdown",
   "metadata": {},
   "source": [
    "# Positive and Negative Scores and Frequency"
   ]
  },
  {
   "cell_type": "markdown",
   "metadata": {},
   "source": [
    "This code creates two dataframes to provide visual representation of the differences between the positive and negative scores. The frequecy score dataframe is the count of positive and negative scores for each year and the sum_score dataframe is the total sum of positive and negative scores for each year along with the total sum. These dataframes are pickled and used in the final report for visualization."
   ]
  },
  {
   "cell_type": "code",
   "execution_count": 15,
   "metadata": {},
   "outputs": [],
   "source": [
    "# combine the company's text for each year and add the GDP of each year for word analysis\n",
    "df_ct = getXy(df_sentences) "
   ]
  },
  {
   "cell_type": "code",
   "execution_count": 16,
   "metadata": {},
   "outputs": [],
   "source": [
    "pos_neg = text_analysis_score(df_ct)"
   ]
  },
  {
   "cell_type": "code",
   "execution_count": 17,
   "metadata": {},
   "outputs": [],
   "source": [
    "# get the positive and negative frequencies\n",
    "pos_freq = np.array(pos_neg['X'].map(lambda x: x[1]))\n",
    "neg_freq = np.array(pos_neg['X'].map(lambda x: x[3]))\n",
    "\n",
    "# get the positive and negative total scores\n",
    "pos_sum = np.array(pos_neg['X'].map(lambda x: x[0]))\n",
    "neg_sum = np.array(pos_neg['X'].map(lambda x: x[2]))\n",
    "\n",
    "# get total scores\n",
    "wordAnalysis = pd.read_pickle(\"word_analysis.pkl\")\n",
    "word_polarity = get_polarity(wordAnalysis)\n",
    "summed_word = np.array(word_polarity['X'].map(lambda x: sum(x)))"
   ]
  },
  {
   "cell_type": "code",
   "execution_count": 18,
   "metadata": {},
   "outputs": [],
   "source": [
    "# create a frequency dataframe\n",
    "freq_score = pd.DataFrame()\n",
    "freq_score['Positive'] = pos_freq\n",
    "freq_score['Negative'] = neg_freq\n",
    "freq_score.to_pickle('pos_neg_count.pkl')"
   ]
  },
  {
   "cell_type": "code",
   "execution_count": 19,
   "metadata": {},
   "outputs": [],
   "source": [
    "# create a frequency dataframe\n",
    "sum_score = pd.DataFrame()\n",
    "sum_score['Positive'] = pos_sum\n",
    "sum_score['Negative'] = neg_sum\n",
    "sum_score['Total'] = summed_word\n",
    "sum_score.to_pickle('pos_neg_sum.pkl')"
   ]
  }
 ],
 "metadata": {
  "kernelspec": {
   "display_name": "Python 3",
   "language": "python",
   "name": "python3"
  },
  "language_info": {
   "codemirror_mode": {
    "name": "ipython",
    "version": 3
   },
   "file_extension": ".py",
   "mimetype": "text/x-python",
   "name": "python",
   "nbconvert_exporter": "python",
   "pygments_lexer": "ipython3",
   "version": "3.7.1"
  }
 },
 "nbformat": 4,
 "nbformat_minor": 2
}
